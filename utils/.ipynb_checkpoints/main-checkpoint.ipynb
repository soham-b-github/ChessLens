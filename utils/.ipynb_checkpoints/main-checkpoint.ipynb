{
 "cells": [
  {
   "cell_type": "markdown",
   "id": "a57e994f-1e28-4f49-ad50-8fb294034b1c",
   "metadata": {},
   "source": [
    "<center> <b><h1>CHESS LENS</h1></b><br>\n",
    "<b><h2>Team BSB64</h2></b></center>"
   ]
  },
  {
   "cell_type": "code",
   "execution_count": 1,
   "id": "7bc6a118-997a-41fb-9fe7-625b67b1fa25",
   "metadata": {},
   "outputs": [],
   "source": [
    "import sys\n",
    "sys.path.append('./utils')\n",
    "\n",
    "import os"
   ]
  },
  {
   "cell_type": "code",
   "execution_count": 2,
   "id": "0fb731b7-0f62-4fb1-8d5c-577aa0e3f869",
   "metadata": {},
   "outputs": [],
   "source": [
    "import numpy as np\n",
    "import cv2\n",
    "import matplotlib.pyplot as plt\n",
    "import pandas as pd"
   ]
  },
  {
   "cell_type": "code",
   "execution_count": 39,
   "id": "3c3649fd-c59b-4eab-a1c7-61a0c60ce9fd",
   "metadata": {},
   "outputs": [],
   "source": [
    "import occupancy_detector as od\n",
    "import chessboard_processor as cbd\n",
    "import detector as md\n",
    "import visualizer"
   ]
  },
  {
   "cell_type": "code",
   "execution_count": 4,
   "id": "fecef68b-5962-42ea-abcd-adee3aa27762",
   "metadata": {},
   "outputs": [],
   "source": [
    "board_matrix = [\n",
    "    [\"r\", \"n\", \"b\", \"q\", \"k\", \"b\", \"n\", \"r\"],\n",
    "    [\"p\"] * 8,\n",
    "    [\"\"] * 8,\n",
    "    [\"\"] * 8,\n",
    "    [\"\"] * 8,\n",
    "    [\"\"] * 8,\n",
    "    [\"P\"] * 8,\n",
    "    [\"R\", \"N\", \"B\", \"Q\", \"K\", \"B\", \"N\", \"R\"]\n",
    "]"
   ]
  },
  {
   "cell_type": "markdown",
   "id": "16d62dc7-b82b-4995-b8f5-e60bad48da5a",
   "metadata": {},
   "source": [
    "## Preprocess the Chessboard"
   ]
  },
  {
   "cell_type": "code",
   "execution_count": 7,
   "id": "938e099f-0d62-43b9-b3f9-b135072d9ce9",
   "metadata": {},
   "outputs": [
    {
     "name": "stderr",
     "output_type": "stream",
     "text": [
      "[ WARN:0@68.459] global loadsave.cpp:268 findDecoder imread_('images/demo/demo1.jpg'): can't open/read file: check file path/integrity\n"
     ]
    },
    {
     "ename": "SystemExit",
     "evalue": "There is no file with this path!",
     "output_type": "error",
     "traceback": [
      "An exception has occurred, use %tb to see the full traceback.\n",
      "\u001b[0;31mSystemExit\u001b[0m\u001b[0;31m:\u001b[0m There is no file with this path!\n"
     ]
    }
   ],
   "source": [
    "cbd.process_chessboard(\"images/demo/demo1.jpg\",\"\",\"box\",True)"
   ]
  },
  {
   "cell_type": "markdown",
   "id": "438bd6b1-0013-4f65-8501-25c3f245eaba",
   "metadata": {},
   "source": [
    "## Checking the ACCURACY of OCCUPANCY Detector"
   ]
  },
  {
   "cell_type": "code",
   "execution_count": 23,
   "id": "4eb8c14f-5ca9-45da-b417-f16fc12456a9",
   "metadata": {
    "scrolled": true
   },
   "outputs": [
    {
     "name": "stdout",
     "output_type": "stream",
     "text": [
      "Status\t\tActual\tPredicted\n",
      "Std_dev = 33.46916135501441\n",
      "edge_density = 0.04206675811614083\n",
      "Processing:../images/box-53-true.jpg\t\t1\t1\n",
      "Std_dev = 42.42739894492507\n",
      "edge_density = 0.02408169486358787\n",
      "Processing:../images/box-27.jpg\t\t0\t1\n",
      "Std_dev = 26.791097128603454\n",
      "edge_density = 0.03718945282731291\n",
      "Processing:../images/box-32.jpg\t\t0\t0\n",
      "Std_dev = 28.653553413509822\n",
      "edge_density = 0.02606310013717421\n",
      "Processing:../images/box-48.jpg\t\t0\t0\n",
      "Std_dev = 49.47267810807849\n",
      "edge_density = 0.09952751105014479\n",
      "Processing:../images/box-41-true.jpg\t\t1\t1\n",
      "Std_dev = 24.50067229861452\n",
      "edge_density = 0.03673220545648529\n",
      "Processing:../images/box-7.jpg\t\t0\t0\n",
      "Std_dev = 45.54415085270143\n",
      "edge_density = 0.02423411065386374\n",
      "Processing:../images/box-61.jpg\t\t0\t1\n",
      "Std_dev = 20.63182523943202\n",
      "edge_density = 0.04801097393689986\n",
      "Processing:../images/box-0.jpg\t\t0\t0\n",
      "Std_dev = 26.03415509366799\n",
      "edge_density = 0.024691358024691357\n",
      "Processing:../images/box-4.jpg\t\t0\t0\n",
      "Std_dev = 34.831515828496094\n",
      "edge_density = 0.030330742264898642\n",
      "Processing:../images/box-58.jpg\t\t0\t1\n",
      "Std_dev = 32.33817953241294\n",
      "edge_density = 0.056241426611796985\n",
      "Processing:../images/box-39.jpg\t\t0\t1\n",
      "Std_dev = 40.22668569627096\n",
      "edge_density = 0.039780521262002745\n",
      "Processing:../images/box-55.jpg\t\t0\t1\n",
      "Std_dev = 29.05422095929372\n",
      "edge_density = 0.024996189605243104\n",
      "Processing:../images/box-44.jpg\t\t0\t0\n",
      "Std_dev = 31.257274205962467\n",
      "edge_density = 0.028044505410760555\n",
      "Processing:../images/box-60.jpg\t\t0\t1\n",
      "Std_dev = 40.388610679281946\n",
      "edge_density = 0.02423411065386374\n",
      "Processing:../images/box-62.jpg\t\t0\t1\n",
      "Std_dev = 42.80984202245389\n",
      "edge_density = 0.08382868465172992\n",
      "Processing:../images/box-14-true.jpg\t\t1\t1\n",
      "Std_dev = 67.61865647499931\n",
      "edge_density = 0.07117817405883249\n",
      "Processing:../images/box-52-true.jpg\t\t1\t1\n",
      "Std_dev = 38.2946415408685\n",
      "edge_density = 0.024386526444139613\n",
      "Processing:../images/box-45.jpg\t\t0\t1\n",
      "Std_dev = 39.82570159684328\n",
      "edge_density = 0.02423411065386374\n",
      "Processing:../images/box-22.jpg\t\t0\t1\n",
      "Std_dev = 20.288569490774474\n",
      "edge_density = 0.03353147386069197\n",
      "Processing:../images/box-5.jpg\t\t0\t0\n",
      "Std_dev = 37.073318622794645\n",
      "edge_density = 0.025758268556622468\n",
      "Processing:../images/box-15.jpg\t\t0\t1\n",
      "Std_dev = 30.512485946665773\n",
      "edge_density = 0.027892089620484683\n",
      "Processing:../images/box-16.jpg\t\t0\t1\n",
      "Std_dev = 45.71495188443629\n",
      "edge_density = 0.09358329522938577\n",
      "Processing:../images/box-26-true.jpg\t\t1\t1\n",
      "Std_dev = 36.16691220220551\n",
      "edge_density = 0.02423411065386374\n",
      "Processing:../images/box-11.jpg\t\t0\t1\n",
      "Std_dev = 43.359828392319606\n",
      "edge_density = 0.06188081085200427\n",
      "Processing:../images/box-59-true.jpg\t\t1\t1\n",
      "Std_dev = 41.76120425149461\n",
      "edge_density = 0.02408169486358787\n",
      "Processing:../images/box-20.jpg\t\t0\t1\n",
      "Std_dev = 33.70368524741675\n",
      "edge_density = 0.02408169486358787\n",
      "Processing:../images/box-30.jpg\t\t0\t1\n",
      "Std_dev = 27.116884930229002\n",
      "edge_density = 0.024386526444139613\n",
      "Processing:../images/box-10.jpg\t\t0\t0\n",
      "Std_dev = 61.01861777268127\n",
      "edge_density = 0.07133058984910837\n",
      "Processing:../images/box-9-true.jpg\t\t1\t1\n",
      "Std_dev = 73.20293584427684\n",
      "edge_density = 0.0728547477518671\n",
      "Processing:../images/box-47-true.jpg\t\t1\t1\n",
      "Std_dev = 43.17301224420719\n",
      "edge_density = 0.09373571101966163\n",
      "Processing:../images/box-17-true.jpg\t\t1\t1\n",
      "Std_dev = 24.82306041510508\n",
      "edge_density = 0.026367931717725956\n",
      "Processing:../images/box-33.jpg\t\t0\t0\n",
      "Std_dev = 38.63743196948662\n",
      "edge_density = 0.02545343697607072\n",
      "Processing:../images/box-50.jpg\t\t0\t1\n",
      "Std_dev = 23.82231464527685\n",
      "edge_density = 0.060051821368693796\n",
      "Processing:../images/box-8.jpg\t\t0\t0\n",
      "Std_dev = 36.967914061762315\n",
      "edge_density = 0.02408169486358787\n",
      "Processing:../images/box-13.jpg\t\t0\t1\n",
      "Std_dev = 51.443617544419475\n",
      "edge_density = 0.08382868465172992\n",
      "Processing:../images/box-28-true.jpg\t\t1\t1\n",
      "Std_dev = 42.88412097145666\n",
      "edge_density = 0.025301021185794848\n",
      "Processing:../images/box-31.jpg\t\t0\t1\n",
      "Std_dev = 34.21695048296215\n",
      "edge_density = 0.0317024843773815\n",
      "Processing:../images/box-35.jpg\t\t0\t1\n",
      "Std_dev = 44.45423110024442\n",
      "edge_density = 0.024843773814967232\n",
      "Processing:../images/box-63.jpg\t\t0\t1\n",
      "Std_dev = 32.810527125051934\n",
      "edge_density = 0.02408169486358787\n",
      "Processing:../images/box-21.jpg\t\t0\t1\n",
      "Std_dev = 28.70121811154837\n",
      "edge_density = 0.0688919372046944\n",
      "Processing:../images/box-49.jpg\t\t0\t0\n",
      "Std_dev = 42.75083581601439\n",
      "edge_density = 0.02423411065386374\n",
      "Processing:../images/box-43.jpg\t\t0\t1\n",
      "Std_dev = 39.358863180577835\n",
      "edge_density = 0.032769394909312605\n",
      "Processing:../images/box-34.jpg\t\t0\t1\n",
      "Std_dev = 19.690986506886773\n",
      "edge_density = 0.04298125285779607\n",
      "Processing:../images/box-40.jpg\t\t0\t0\n",
      "Std_dev = 29.821585216631284\n",
      "edge_density = 0.06127114769090078\n",
      "Processing:../images/box-42-true.jpg\t\t1\t0\n",
      "Std_dev = 39.241981228007454\n",
      "edge_density = 0.02850175278158817\n",
      "Processing:../images/box-57.jpg\t\t0\t1\n",
      "Std_dev = 27.032936824720213\n",
      "edge_density = 0.024386526444139613\n",
      "Processing:../images/box-6.jpg\t\t0\t0\n",
      "Std_dev = 40.88851967355988\n",
      "edge_density = 0.03657978966620942\n",
      "Processing:../images/box-36.jpg\t\t0\t1\n",
      "Std_dev = 43.46624774071079\n",
      "edge_density = 0.09053497942386832\n",
      "Processing:../images/box-38-true.jpg\t\t1\t1\n",
      "Std_dev = 31.991558825981034\n",
      "edge_density = 0.02773967383020881\n",
      "Processing:../images/box-51.jpg\t\t0\t1\n",
      "Std_dev = 43.41881578449237\n",
      "edge_density = 0.02408169486358787\n",
      "Processing:../images/box-54.jpg\t\t0\t1\n",
      "Std_dev = 22.241275506307225\n",
      "edge_density = 0.04587715287303765\n",
      "Processing:../images/box-1.jpg\t\t0\t0\n",
      "Std_dev = 26.896227338735223\n",
      "edge_density = 0.10013717421124829\n",
      "Processing:../images/box-56.jpg\t\t0\t0\n",
      "Std_dev = 35.32423040377942\n",
      "edge_density = 0.02423411065386374\n",
      "Processing:../images/box-19.jpg\t\t0\t1\n",
      "Std_dev = 25.200891102650665\n",
      "edge_density = 0.03810394756896814\n",
      "Processing:../images/box-24.jpg\t\t0\t0\n",
      "Std_dev = 64.06952041013075\n",
      "edge_density = 0.07315957933241884\n",
      "Processing:../images/box-25-true.jpg\t\t1\t1\n",
      "Std_dev = 26.26463519151476\n",
      "edge_density = 0.02423411065386374\n",
      "Processing:../images/box-2.jpg\t\t0\t0\n",
      "Std_dev = 19.73435717810032\n",
      "edge_density = 0.03642737387593355\n",
      "Processing:../images/box-3.jpg\t\t0\t0\n",
      "Std_dev = 31.82299922721672\n",
      "edge_density = 0.02423411065386374\n",
      "Processing:../images/box-46.jpg\t\t0\t1\n",
      "Std_dev = 41.05199910939351\n",
      "edge_density = 0.07254991617131534\n",
      "Processing:../images/box-29-true.jpg\t\t1\t1\n",
      "Std_dev = 33.2376385588424\n",
      "edge_density = 0.04511507392165828\n",
      "Processing:../images/box-12-true.jpg\t\t1\t1\n",
      "Std_dev = 32.36113751107888\n",
      "edge_density = 0.03078798963572626\n",
      "Processing:../images/box-23.jpg\t\t0\t1\n",
      "Std_dev = 37.900319813886505\n",
      "edge_density = 0.02408169486358787\n",
      "Processing:../images/box-18.jpg\t\t0\t1\n",
      "Std_dev = 34.99892929945026\n",
      "edge_density = 0.07757963725041914\n",
      "Processing:../images/box-37-true.jpg\t\t1\t1\n"
     ]
    }
   ],
   "source": [
    "folder = \"../images\"\n",
    "actual_labels, predicted_labels = [],[]\n",
    "\n",
    "print(\"Status\\t\\tActual\\tPredicted\")\n",
    "for filename in os.listdir(folder):\n",
    "    if filename.endswith(\".jpg\") or filename.endswith(\".png\"):\n",
    "        file_path = os.path.join(folder, filename)\n",
    "        actual_labels+=[1] if \"true\" in filename else [0]\n",
    "\n",
    "        box = cv2.imread(file_path, cv2.IMREAD_GRAYSCALE)\n",
    "        pred = od.is_occupied(box)\n",
    "        predicted_labels+=[1] if pred==True else [0]\n",
    "        print(f\"Processing:{file_path}\\t\\t{actual_labels[-1]}\\t{predicted_labels[-1]}\")\n",
    "        "
   ]
  },
  {
   "cell_type": "code",
   "execution_count": 24,
   "id": "2fd9c07f-6d08-4036-a35f-bc2c12fc595f",
   "metadata": {},
   "outputs": [],
   "source": [
    "TP = 0 # True Positives: Actual 1 and Pred 1\n",
    "FP = 0 # False Positives: Actual 0 but Pred 1\n",
    "FN = 0 # False Negatives: Actual 1 but Pred 0\n",
    "TN = 0 # True Negatives: Actual 0 and Pred 0"
   ]
  },
  {
   "cell_type": "code",
   "execution_count": 25,
   "id": "bd20fccb-8c17-4a32-8005-92dabe198884",
   "metadata": {
    "scrolled": true
   },
   "outputs": [
    {
     "name": "stdout",
     "output_type": "stream",
     "text": [
      "16\n"
     ]
    }
   ],
   "source": [
    "count = 0\n",
    "for i in actual_labels:\n",
    "    count+=1 if i==1 else 0\n",
    "\n",
    "print(count)"
   ]
  },
  {
   "cell_type": "code",
   "execution_count": 26,
   "id": "000332c8-16bd-42f9-8513-04657c6b40ef",
   "metadata": {},
   "outputs": [
    {
     "data": {
      "text/plain": [
       "64"
      ]
     },
     "execution_count": 26,
     "metadata": {},
     "output_type": "execute_result"
    }
   ],
   "source": [
    "len(actual_labels)"
   ]
  },
  {
   "cell_type": "code",
   "execution_count": 27,
   "id": "fda9a97c-d020-4f4e-bd4a-d95e8214517d",
   "metadata": {},
   "outputs": [
    {
     "name": "stdout",
     "output_type": "stream",
     "text": [
      "45\n"
     ]
    }
   ],
   "source": [
    "count = 0\n",
    "for i in predicted_labels:\n",
    "    count+=1 if i==1 else 0\n",
    "\n",
    "print(count)"
   ]
  },
  {
   "cell_type": "code",
   "execution_count": 28,
   "id": "74e56d0a-ee2b-4fcf-8b87-bb31bc3d4276",
   "metadata": {},
   "outputs": [],
   "source": [
    "for i in range(64):\n",
    "    TP+=1 if actual_labels[i]==1 and predicted_labels[i]==1 else 0\n",
    "    FP+=1 if actual_labels[i]==0 and predicted_labels[i]==1 else 0\n",
    "    FN+=1 if actual_labels[i]==1 and predicted_labels[i]==0 else 0\n",
    "    TN+=1 if actual_labels[i]==0 and predicted_labels[i]==0 else 0"
   ]
  },
  {
   "cell_type": "code",
   "execution_count": 29,
   "id": "f7223c39-b740-4fbe-8dca-6fa5967369c3",
   "metadata": {},
   "outputs": [
    {
     "data": {
      "text/plain": [
       "0.515625"
      ]
     },
     "execution_count": 29,
     "metadata": {},
     "output_type": "execute_result"
    }
   ],
   "source": [
    "from sklearn.metrics import accuracy_score\n",
    "y_pred = [0, 2, 1, 3]\n",
    "y_true = [0, 1, 2, 3]\n",
    "accuracy_score(actual_labels, predicted_labels)"
   ]
  },
  {
   "cell_type": "code",
   "execution_count": 30,
   "id": "f4e1ed09-6d09-47a4-a0aa-9711cd8411b5",
   "metadata": {},
   "outputs": [
    {
     "name": "stdout",
     "output_type": "stream",
     "text": [
      "Accuracy = 0.515625\n"
     ]
    }
   ],
   "source": [
    "print(f\"Accuracy = {(TP+TN)/(TP+TN+FN+FP)}\")"
   ]
  },
  {
   "cell_type": "code",
   "execution_count": 37,
   "id": "a03a8ba4-cf97-4fec-adbf-864a890c5216",
   "metadata": {},
   "outputs": [
    {
     "name": "stdout",
     "output_type": "stream",
     "text": [
      "Std_dev = 64.06952041013075\n",
      "edge_density = 0.07315957933241884\n"
     ]
    },
    {
     "data": {
      "text/plain": [
       "True"
      ]
     },
     "execution_count": 37,
     "metadata": {},
     "output_type": "execute_result"
    }
   ],
   "source": [
    "od.is_occupied(cv2.imread(\"images/box-25-true.jpg\",cv2.IMREAD_GRAYSCALE))"
   ]
  },
  {
   "cell_type": "code",
   "execution_count": 38,
   "id": "2bb803c8-dcc1-44b0-bb6e-a30bb2029266",
   "metadata": {},
   "outputs": [
    {
     "name": "stdout",
     "output_type": "stream",
     "text": [
      "Std_dev = 26.26463519151476\n",
      "edge_density = 0.02423411065386374\n"
     ]
    },
    {
     "data": {
      "text/plain": [
       "False"
      ]
     },
     "execution_count": 38,
     "metadata": {},
     "output_type": "execute_result"
    }
   ],
   "source": [
    "od.is_occupied(cv2.imread(\"images/box-2.jpg\",cv2.IMREAD_GRAYSCALE))"
   ]
  },
  {
   "cell_type": "code",
   "execution_count": 39,
   "id": "9395cc38-60c3-4a0f-99ad-91b53f0425a1",
   "metadata": {},
   "outputs": [],
   "source": [
    "def is_occupied(square_img, std_thresh=27, edge_thresh=100):\n",
    "    std_dev = np.std(square_img)\n",
    "    edges = cv2.Canny(square_img, 50, 150)\n",
    "    edge_density = np.sum(edges > 0) / square_img.size\n",
    "    print(f\"Std_dev = {std_dev}\")\n",
    "    print(f\"edge_density = {edge_density}\")\n",
    "    return std_dev > std_thresh and edge_density > 0.02"
   ]
  },
  {
   "cell_type": "code",
   "execution_count": 40,
   "id": "7e8f7513-0b97-4a0b-aecc-9d1064edf114",
   "metadata": {},
   "outputs": [
    {
     "name": "stdout",
     "output_type": "stream",
     "text": [
      "Std_dev = 26.26463519151476\n",
      "edge_density = 0.02423411065386374\n"
     ]
    },
    {
     "data": {
      "text/plain": [
       "False"
      ]
     },
     "execution_count": 40,
     "metadata": {},
     "output_type": "execute_result"
    }
   ],
   "source": [
    "is_occupied(cv2.imread(\"images/box-2.jpg\",cv2.IMREAD_GRAYSCALE))"
   ]
  },
  {
   "cell_type": "code",
   "execution_count": 41,
   "id": "10a9ff9b-cf78-428f-9804-bfb90fd20feb",
   "metadata": {},
   "outputs": [
    {
     "name": "stdout",
     "output_type": "stream",
     "text": [
      "Std_dev = 61.01861777268127\n",
      "edge_density = 0.07133058984910837\n"
     ]
    },
    {
     "data": {
      "text/plain": [
       "True"
      ]
     },
     "execution_count": 41,
     "metadata": {},
     "output_type": "execute_result"
    }
   ],
   "source": [
    "is_occupied(cv2.imread(\"images/box-9-true.jpg\",cv2.IMREAD_GRAYSCALE))"
   ]
  },
  {
   "cell_type": "code",
   "execution_count": null,
   "id": "2d392e46-0f9d-4d62-8cf3-bfae312464e4",
   "metadata": {},
   "outputs": [],
   "source": []
  },
  {
   "cell_type": "code",
   "execution_count": 42,
   "id": "94629c25-c54d-41c6-8dca-e1c8ab715331",
   "metadata": {},
   "outputs": [
    {
     "name": "stdout",
     "output_type": "stream",
     "text": [
      "45\n"
     ]
    }
   ],
   "source": [
    "count = 0\n",
    "for i in predicted_labels:\n",
    "    count+=1 if i==1 else 0\n",
    "\n",
    "print(count)"
   ]
  },
  {
   "cell_type": "code",
   "execution_count": 32,
   "id": "c04d63e0-07a7-466b-a8b2-7074321d06a2",
   "metadata": {
    "scrolled": true
   },
   "outputs": [
    {
     "name": "stdout",
     "output_type": "stream",
     "text": [
      "Status\t\tActual\tPredicted\n"
     ]
    }
   ],
   "source": [
    "folder = \"../images\"\n",
    "actual_labels, predicted_labels,sd,edge_densities = [],[],[],[]\n",
    "std_thresh=27;edge_thresh=100\n",
    "\n",
    "file_paths=[]\n",
    "print(\"Status\\t\\tActual\\tPredicted\")\n",
    "\n",
    "for filename in os.listdir(folder):\n",
    "    if filename.endswith(\".jpg\") or filename.endswith(\".png\"):\n",
    "        file_path = os.path.join(folder, filename)\n",
    "        file_paths+=[file_path]\n",
    "        \n",
    "        square_img = cv2.imread(file_path,cv2.IMREAD_GRAYSCALE)\n",
    "        square_img = square_img[10:-10,10:-10]\n",
    "        \n",
    "        actual_labels+=[1] if \"true\" in filename else [0]\n",
    "        \n",
    "        std_dev = np.std(square_img)\n",
    "        edges = cv2.Canny(square_img, 50, 150)\n",
    "        edge_density = np.sum(edges > 0) / square_img.size\n",
    "\n",
    "        predicted_labels+=[1] if (edge_density > 0.02) else [0]\n",
    "        \n",
    "        sd+=[std_dev]\n",
    "        edge_densities+=[edge_density]"
   ]
  },
  {
   "cell_type": "code",
   "execution_count": 33,
   "id": "703f9153-e4f8-4000-92bc-778b2fab5b78",
   "metadata": {},
   "outputs": [],
   "source": [
    "df = dict({\n",
    "    \"file_path\":file_paths,\n",
    "    # \"std_dev\":sd,\n",
    "    \"edge_density\":edge_densities,\n",
    "    \"actual_label\":actual_labels,\n",
    "    \"predicted_label\":predicted_labels\n",
    "})"
   ]
  },
  {
   "cell_type": "code",
   "execution_count": 34,
   "id": "c286f2b7-a02e-402a-bd0f-69e272facfed",
   "metadata": {},
   "outputs": [
    {
     "data": {
      "text/html": [
       "<div>\n",
       "<style scoped>\n",
       "    .dataframe tbody tr th:only-of-type {\n",
       "        vertical-align: middle;\n",
       "    }\n",
       "\n",
       "    .dataframe tbody tr th {\n",
       "        vertical-align: top;\n",
       "    }\n",
       "\n",
       "    .dataframe thead th {\n",
       "        text-align: right;\n",
       "    }\n",
       "</style>\n",
       "<table border=\"1\" class=\"dataframe\">\n",
       "  <thead>\n",
       "    <tr style=\"text-align: right;\">\n",
       "      <th></th>\n",
       "      <th>file_path</th>\n",
       "      <th>edge_density</th>\n",
       "      <th>actual_label</th>\n",
       "      <th>predicted_label</th>\n",
       "    </tr>\n",
       "  </thead>\n",
       "  <tbody>\n",
       "    <tr>\n",
       "      <th>0</th>\n",
       "      <td>../images/box-53-true.jpg</td>\n",
       "      <td>0.018006</td>\n",
       "      <td>1</td>\n",
       "      <td>0</td>\n",
       "    </tr>\n",
       "    <tr>\n",
       "      <th>1</th>\n",
       "      <td>../images/box-27.jpg</td>\n",
       "      <td>0.000000</td>\n",
       "      <td>0</td>\n",
       "      <td>0</td>\n",
       "    </tr>\n",
       "    <tr>\n",
       "      <th>2</th>\n",
       "      <td>../images/box-32.jpg</td>\n",
       "      <td>0.000000</td>\n",
       "      <td>0</td>\n",
       "      <td>0</td>\n",
       "    </tr>\n",
       "    <tr>\n",
       "      <th>3</th>\n",
       "      <td>../images/box-48.jpg</td>\n",
       "      <td>0.000000</td>\n",
       "      <td>0</td>\n",
       "      <td>0</td>\n",
       "    </tr>\n",
       "    <tr>\n",
       "      <th>4</th>\n",
       "      <td>../images/box-41-true.jpg</td>\n",
       "      <td>0.118248</td>\n",
       "      <td>1</td>\n",
       "      <td>1</td>\n",
       "    </tr>\n",
       "    <tr>\n",
       "      <th>...</th>\n",
       "      <td>...</td>\n",
       "      <td>...</td>\n",
       "      <td>...</td>\n",
       "      <td>...</td>\n",
       "    </tr>\n",
       "    <tr>\n",
       "      <th>59</th>\n",
       "      <td>../images/box-29-true.jpg</td>\n",
       "      <td>0.077130</td>\n",
       "      <td>1</td>\n",
       "      <td>1</td>\n",
       "    </tr>\n",
       "    <tr>\n",
       "      <th>60</th>\n",
       "      <td>../images/box-12-true.jpg</td>\n",
       "      <td>0.026068</td>\n",
       "      <td>1</td>\n",
       "      <td>1</td>\n",
       "    </tr>\n",
       "    <tr>\n",
       "      <th>61</th>\n",
       "      <td>../images/box-23.jpg</td>\n",
       "      <td>0.004569</td>\n",
       "      <td>0</td>\n",
       "      <td>0</td>\n",
       "    </tr>\n",
       "    <tr>\n",
       "      <th>62</th>\n",
       "      <td>../images/box-18.jpg</td>\n",
       "      <td>0.000000</td>\n",
       "      <td>0</td>\n",
       "      <td>0</td>\n",
       "    </tr>\n",
       "    <tr>\n",
       "      <th>63</th>\n",
       "      <td>../images/box-37-true.jpg</td>\n",
       "      <td>0.051599</td>\n",
       "      <td>1</td>\n",
       "      <td>1</td>\n",
       "    </tr>\n",
       "  </tbody>\n",
       "</table>\n",
       "<p>64 rows × 4 columns</p>\n",
       "</div>"
      ],
      "text/plain": [
       "                    file_path  edge_density  actual_label  predicted_label\n",
       "0   ../images/box-53-true.jpg      0.018006             1                0\n",
       "1        ../images/box-27.jpg      0.000000             0                0\n",
       "2        ../images/box-32.jpg      0.000000             0                0\n",
       "3        ../images/box-48.jpg      0.000000             0                0\n",
       "4   ../images/box-41-true.jpg      0.118248             1                1\n",
       "..                        ...           ...           ...              ...\n",
       "59  ../images/box-29-true.jpg      0.077130             1                1\n",
       "60  ../images/box-12-true.jpg      0.026068             1                1\n",
       "61       ../images/box-23.jpg      0.004569             0                0\n",
       "62       ../images/box-18.jpg      0.000000             0                0\n",
       "63  ../images/box-37-true.jpg      0.051599             1                1\n",
       "\n",
       "[64 rows x 4 columns]"
      ]
     },
     "execution_count": 34,
     "metadata": {},
     "output_type": "execute_result"
    }
   ],
   "source": [
    "df = pd.DataFrame(df)\n",
    "df"
   ]
  },
  {
   "cell_type": "code",
   "execution_count": 35,
   "id": "66567bd1-b2ae-4573-9a48-a2fbfce1937b",
   "metadata": {},
   "outputs": [
    {
     "data": {
      "text/html": [
       "<div>\n",
       "<style scoped>\n",
       "    .dataframe tbody tr th:only-of-type {\n",
       "        vertical-align: middle;\n",
       "    }\n",
       "\n",
       "    .dataframe tbody tr th {\n",
       "        vertical-align: top;\n",
       "    }\n",
       "\n",
       "    .dataframe thead th {\n",
       "        text-align: right;\n",
       "    }\n",
       "</style>\n",
       "<table border=\"1\" class=\"dataframe\">\n",
       "  <thead>\n",
       "    <tr style=\"text-align: right;\">\n",
       "      <th></th>\n",
       "      <th>file_path</th>\n",
       "      <th>edge_density</th>\n",
       "      <th>actual_label</th>\n",
       "      <th>predicted_label</th>\n",
       "    </tr>\n",
       "  </thead>\n",
       "  <tbody>\n",
       "    <tr>\n",
       "      <th>0</th>\n",
       "      <td>../images/box-53-true.jpg</td>\n",
       "      <td>0.018006</td>\n",
       "      <td>1</td>\n",
       "      <td>0</td>\n",
       "    </tr>\n",
       "    <tr>\n",
       "      <th>4</th>\n",
       "      <td>../images/box-41-true.jpg</td>\n",
       "      <td>0.118248</td>\n",
       "      <td>1</td>\n",
       "      <td>1</td>\n",
       "    </tr>\n",
       "    <tr>\n",
       "      <th>15</th>\n",
       "      <td>../images/box-14-true.jpg</td>\n",
       "      <td>0.083042</td>\n",
       "      <td>1</td>\n",
       "      <td>1</td>\n",
       "    </tr>\n",
       "    <tr>\n",
       "      <th>16</th>\n",
       "      <td>../images/box-52-true.jpg</td>\n",
       "      <td>0.048643</td>\n",
       "      <td>1</td>\n",
       "      <td>1</td>\n",
       "    </tr>\n",
       "    <tr>\n",
       "      <th>22</th>\n",
       "      <td>../images/box-26-true.jpg</td>\n",
       "      <td>0.101317</td>\n",
       "      <td>1</td>\n",
       "      <td>1</td>\n",
       "    </tr>\n",
       "    <tr>\n",
       "      <th>24</th>\n",
       "      <td>../images/box-59-true.jpg</td>\n",
       "      <td>0.046762</td>\n",
       "      <td>1</td>\n",
       "      <td>1</td>\n",
       "    </tr>\n",
       "    <tr>\n",
       "      <th>28</th>\n",
       "      <td>../images/box-9-true.jpg</td>\n",
       "      <td>0.069874</td>\n",
       "      <td>1</td>\n",
       "      <td>1</td>\n",
       "    </tr>\n",
       "    <tr>\n",
       "      <th>29</th>\n",
       "      <td>../images/box-47-true.jpg</td>\n",
       "      <td>0.071486</td>\n",
       "      <td>1</td>\n",
       "      <td>1</td>\n",
       "    </tr>\n",
       "    <tr>\n",
       "      <th>30</th>\n",
       "      <td>../images/box-17-true.jpg</td>\n",
       "      <td>0.123085</td>\n",
       "      <td>1</td>\n",
       "      <td>1</td>\n",
       "    </tr>\n",
       "    <tr>\n",
       "      <th>35</th>\n",
       "      <td>../images/box-28-true.jpg</td>\n",
       "      <td>0.105617</td>\n",
       "      <td>1</td>\n",
       "      <td>1</td>\n",
       "    </tr>\n",
       "    <tr>\n",
       "      <th>44</th>\n",
       "      <td>../images/box-42-true.jpg</td>\n",
       "      <td>0.061005</td>\n",
       "      <td>1</td>\n",
       "      <td>1</td>\n",
       "    </tr>\n",
       "    <tr>\n",
       "      <th>48</th>\n",
       "      <td>../images/box-38-true.jpg</td>\n",
       "      <td>0.081698</td>\n",
       "      <td>1</td>\n",
       "      <td>1</td>\n",
       "    </tr>\n",
       "    <tr>\n",
       "      <th>55</th>\n",
       "      <td>../images/box-25-true.jpg</td>\n",
       "      <td>0.071755</td>\n",
       "      <td>1</td>\n",
       "      <td>1</td>\n",
       "    </tr>\n",
       "    <tr>\n",
       "      <th>59</th>\n",
       "      <td>../images/box-29-true.jpg</td>\n",
       "      <td>0.077130</td>\n",
       "      <td>1</td>\n",
       "      <td>1</td>\n",
       "    </tr>\n",
       "    <tr>\n",
       "      <th>60</th>\n",
       "      <td>../images/box-12-true.jpg</td>\n",
       "      <td>0.026068</td>\n",
       "      <td>1</td>\n",
       "      <td>1</td>\n",
       "    </tr>\n",
       "    <tr>\n",
       "      <th>63</th>\n",
       "      <td>../images/box-37-true.jpg</td>\n",
       "      <td>0.051599</td>\n",
       "      <td>1</td>\n",
       "      <td>1</td>\n",
       "    </tr>\n",
       "  </tbody>\n",
       "</table>\n",
       "</div>"
      ],
      "text/plain": [
       "                    file_path  edge_density  actual_label  predicted_label\n",
       "0   ../images/box-53-true.jpg      0.018006             1                0\n",
       "4   ../images/box-41-true.jpg      0.118248             1                1\n",
       "15  ../images/box-14-true.jpg      0.083042             1                1\n",
       "16  ../images/box-52-true.jpg      0.048643             1                1\n",
       "22  ../images/box-26-true.jpg      0.101317             1                1\n",
       "24  ../images/box-59-true.jpg      0.046762             1                1\n",
       "28   ../images/box-9-true.jpg      0.069874             1                1\n",
       "29  ../images/box-47-true.jpg      0.071486             1                1\n",
       "30  ../images/box-17-true.jpg      0.123085             1                1\n",
       "35  ../images/box-28-true.jpg      0.105617             1                1\n",
       "44  ../images/box-42-true.jpg      0.061005             1                1\n",
       "48  ../images/box-38-true.jpg      0.081698             1                1\n",
       "55  ../images/box-25-true.jpg      0.071755             1                1\n",
       "59  ../images/box-29-true.jpg      0.077130             1                1\n",
       "60  ../images/box-12-true.jpg      0.026068             1                1\n",
       "63  ../images/box-37-true.jpg      0.051599             1                1"
      ]
     },
     "execution_count": 35,
     "metadata": {},
     "output_type": "execute_result"
    }
   ],
   "source": [
    "df[df['actual_label']==1]"
   ]
  },
  {
   "cell_type": "code",
   "execution_count": 36,
   "id": "978e63ab-906c-44c0-8f5d-4dd4d8951cbc",
   "metadata": {},
   "outputs": [
    {
     "data": {
      "text/plain": [
       "(16, 4)"
      ]
     },
     "execution_count": 36,
     "metadata": {},
     "output_type": "execute_result"
    }
   ],
   "source": [
    "df[df['actual_label']==1].shape"
   ]
  },
  {
   "cell_type": "code",
   "execution_count": 37,
   "id": "98cdffda-72fa-4970-8217-bae1aaf055be",
   "metadata": {},
   "outputs": [
    {
     "data": {
      "text/html": [
       "<div>\n",
       "<style scoped>\n",
       "    .dataframe tbody tr th:only-of-type {\n",
       "        vertical-align: middle;\n",
       "    }\n",
       "\n",
       "    .dataframe tbody tr th {\n",
       "        vertical-align: top;\n",
       "    }\n",
       "\n",
       "    .dataframe thead th {\n",
       "        text-align: right;\n",
       "    }\n",
       "</style>\n",
       "<table border=\"1\" class=\"dataframe\">\n",
       "  <thead>\n",
       "    <tr style=\"text-align: right;\">\n",
       "      <th></th>\n",
       "      <th>file_path</th>\n",
       "      <th>edge_density</th>\n",
       "      <th>actual_label</th>\n",
       "      <th>predicted_label</th>\n",
       "    </tr>\n",
       "  </thead>\n",
       "  <tbody>\n",
       "    <tr>\n",
       "      <th>4</th>\n",
       "      <td>../images/box-41-true.jpg</td>\n",
       "      <td>0.118248</td>\n",
       "      <td>1</td>\n",
       "      <td>1</td>\n",
       "    </tr>\n",
       "    <tr>\n",
       "      <th>11</th>\n",
       "      <td>../images/box-55.jpg</td>\n",
       "      <td>0.025800</td>\n",
       "      <td>0</td>\n",
       "      <td>1</td>\n",
       "    </tr>\n",
       "    <tr>\n",
       "      <th>15</th>\n",
       "      <td>../images/box-14-true.jpg</td>\n",
       "      <td>0.083042</td>\n",
       "      <td>1</td>\n",
       "      <td>1</td>\n",
       "    </tr>\n",
       "    <tr>\n",
       "      <th>16</th>\n",
       "      <td>../images/box-52-true.jpg</td>\n",
       "      <td>0.048643</td>\n",
       "      <td>1</td>\n",
       "      <td>1</td>\n",
       "    </tr>\n",
       "    <tr>\n",
       "      <th>22</th>\n",
       "      <td>../images/box-26-true.jpg</td>\n",
       "      <td>0.101317</td>\n",
       "      <td>1</td>\n",
       "      <td>1</td>\n",
       "    </tr>\n",
       "    <tr>\n",
       "      <th>24</th>\n",
       "      <td>../images/box-59-true.jpg</td>\n",
       "      <td>0.046762</td>\n",
       "      <td>1</td>\n",
       "      <td>1</td>\n",
       "    </tr>\n",
       "    <tr>\n",
       "      <th>28</th>\n",
       "      <td>../images/box-9-true.jpg</td>\n",
       "      <td>0.069874</td>\n",
       "      <td>1</td>\n",
       "      <td>1</td>\n",
       "    </tr>\n",
       "    <tr>\n",
       "      <th>29</th>\n",
       "      <td>../images/box-47-true.jpg</td>\n",
       "      <td>0.071486</td>\n",
       "      <td>1</td>\n",
       "      <td>1</td>\n",
       "    </tr>\n",
       "    <tr>\n",
       "      <th>30</th>\n",
       "      <td>../images/box-17-true.jpg</td>\n",
       "      <td>0.123085</td>\n",
       "      <td>1</td>\n",
       "      <td>1</td>\n",
       "    </tr>\n",
       "    <tr>\n",
       "      <th>35</th>\n",
       "      <td>../images/box-28-true.jpg</td>\n",
       "      <td>0.105617</td>\n",
       "      <td>1</td>\n",
       "      <td>1</td>\n",
       "    </tr>\n",
       "    <tr>\n",
       "      <th>40</th>\n",
       "      <td>../images/box-49.jpg</td>\n",
       "      <td>0.056974</td>\n",
       "      <td>0</td>\n",
       "      <td>1</td>\n",
       "    </tr>\n",
       "    <tr>\n",
       "      <th>44</th>\n",
       "      <td>../images/box-42-true.jpg</td>\n",
       "      <td>0.061005</td>\n",
       "      <td>1</td>\n",
       "      <td>1</td>\n",
       "    </tr>\n",
       "    <tr>\n",
       "      <th>48</th>\n",
       "      <td>../images/box-38-true.jpg</td>\n",
       "      <td>0.081698</td>\n",
       "      <td>1</td>\n",
       "      <td>1</td>\n",
       "    </tr>\n",
       "    <tr>\n",
       "      <th>52</th>\n",
       "      <td>../images/box-56.jpg</td>\n",
       "      <td>0.072292</td>\n",
       "      <td>0</td>\n",
       "      <td>1</td>\n",
       "    </tr>\n",
       "    <tr>\n",
       "      <th>55</th>\n",
       "      <td>../images/box-25-true.jpg</td>\n",
       "      <td>0.071755</td>\n",
       "      <td>1</td>\n",
       "      <td>1</td>\n",
       "    </tr>\n",
       "    <tr>\n",
       "      <th>59</th>\n",
       "      <td>../images/box-29-true.jpg</td>\n",
       "      <td>0.077130</td>\n",
       "      <td>1</td>\n",
       "      <td>1</td>\n",
       "    </tr>\n",
       "    <tr>\n",
       "      <th>60</th>\n",
       "      <td>../images/box-12-true.jpg</td>\n",
       "      <td>0.026068</td>\n",
       "      <td>1</td>\n",
       "      <td>1</td>\n",
       "    </tr>\n",
       "    <tr>\n",
       "      <th>63</th>\n",
       "      <td>../images/box-37-true.jpg</td>\n",
       "      <td>0.051599</td>\n",
       "      <td>1</td>\n",
       "      <td>1</td>\n",
       "    </tr>\n",
       "  </tbody>\n",
       "</table>\n",
       "</div>"
      ],
      "text/plain": [
       "                    file_path  edge_density  actual_label  predicted_label\n",
       "4   ../images/box-41-true.jpg      0.118248             1                1\n",
       "11       ../images/box-55.jpg      0.025800             0                1\n",
       "15  ../images/box-14-true.jpg      0.083042             1                1\n",
       "16  ../images/box-52-true.jpg      0.048643             1                1\n",
       "22  ../images/box-26-true.jpg      0.101317             1                1\n",
       "24  ../images/box-59-true.jpg      0.046762             1                1\n",
       "28   ../images/box-9-true.jpg      0.069874             1                1\n",
       "29  ../images/box-47-true.jpg      0.071486             1                1\n",
       "30  ../images/box-17-true.jpg      0.123085             1                1\n",
       "35  ../images/box-28-true.jpg      0.105617             1                1\n",
       "40       ../images/box-49.jpg      0.056974             0                1\n",
       "44  ../images/box-42-true.jpg      0.061005             1                1\n",
       "48  ../images/box-38-true.jpg      0.081698             1                1\n",
       "52       ../images/box-56.jpg      0.072292             0                1\n",
       "55  ../images/box-25-true.jpg      0.071755             1                1\n",
       "59  ../images/box-29-true.jpg      0.077130             1                1\n",
       "60  ../images/box-12-true.jpg      0.026068             1                1\n",
       "63  ../images/box-37-true.jpg      0.051599             1                1"
      ]
     },
     "execution_count": 37,
     "metadata": {},
     "output_type": "execute_result"
    }
   ],
   "source": [
    "df[df['predicted_label']==1]"
   ]
  },
  {
   "cell_type": "code",
   "execution_count": 38,
   "id": "ac6e39b6-5d1c-4a5e-9987-af5be22353f3",
   "metadata": {},
   "outputs": [
    {
     "data": {
      "text/plain": [
       "(18, 4)"
      ]
     },
     "execution_count": 38,
     "metadata": {},
     "output_type": "execute_result"
    }
   ],
   "source": [
    "df[df['predicted_label']==1].shape"
   ]
  },
  {
   "cell_type": "code",
   "execution_count": 96,
   "id": "bc1e5258-c0ad-4b08-bab0-70b73d4a6898",
   "metadata": {},
   "outputs": [],
   "source": [
    "sd_ones = df[df['actual_label']==1]['std_dev']"
   ]
  },
  {
   "cell_type": "code",
   "execution_count": 97,
   "id": "7479b0b8-eee9-4f66-ba13-172c5273abbb",
   "metadata": {},
   "outputs": [
    {
     "data": {
      "text/plain": [
       "71.09602774283795"
      ]
     },
     "execution_count": 97,
     "metadata": {},
     "output_type": "execute_result"
    }
   ],
   "source": [
    "sd_ones.max()"
   ]
  },
  {
   "cell_type": "code",
   "execution_count": 98,
   "id": "63e58f82-100e-4336-a966-180bd78d0f7a",
   "metadata": {},
   "outputs": [
    {
     "data": {
      "text/plain": [
       "9.642308632540242"
      ]
     },
     "execution_count": 98,
     "metadata": {},
     "output_type": "execute_result"
    }
   ],
   "source": [
    "sd_ones.min()"
   ]
  },
  {
   "cell_type": "code",
   "execution_count": 99,
   "id": "a4fd373a-ba42-4cda-ae7f-9efe911b9211",
   "metadata": {},
   "outputs": [],
   "source": [
    "sd_zeros = df[df['actual_label']==0]['std_dev']"
   ]
  },
  {
   "cell_type": "code",
   "execution_count": 100,
   "id": "7634125c-1537-4d93-8a90-8cabdb2df9b2",
   "metadata": {},
   "outputs": [
    {
     "data": {
      "text/plain": [
       "71.82590327375168"
      ]
     },
     "execution_count": 100,
     "metadata": {},
     "output_type": "execute_result"
    }
   ],
   "source": [
    "sd_zeros.max()"
   ]
  },
  {
   "cell_type": "code",
   "execution_count": 101,
   "id": "b3a83c91-9372-4300-b3bc-74b0d4038450",
   "metadata": {},
   "outputs": [
    {
     "data": {
      "text/plain": [
       "2.4293311013630015"
      ]
     },
     "execution_count": 101,
     "metadata": {},
     "output_type": "execute_result"
    }
   ],
   "source": [
    "sd_zeros.min()"
   ]
  },
  {
   "cell_type": "code",
   "execution_count": 102,
   "id": "bbd45f45-1904-4a4b-a1ce-04067b220acc",
   "metadata": {
    "scrolled": true
   },
   "outputs": [
    {
     "data": {
      "text/plain": [
       "1     16.080124\n",
       "2      6.351244\n",
       "3      5.476936\n",
       "5      4.261095\n",
       "6      4.914777\n",
       "7      3.661628\n",
       "8      5.762281\n",
       "9      4.986844\n",
       "10     7.837668\n",
       "11     8.951473\n",
       "12     3.579955\n",
       "13     3.543139\n",
       "14     3.734300\n",
       "17     4.557097\n",
       "18     5.514952\n",
       "19     4.589051\n",
       "20    11.907461\n",
       "21     5.885554\n",
       "23     8.305973\n",
       "25     4.269640\n",
       "26     4.534686\n",
       "27     3.810030\n",
       "31     3.963837\n",
       "32     5.449059\n",
       "33    12.620618\n",
       "34    18.140195\n",
       "36     5.768385\n",
       "37     5.084598\n",
       "38     4.506719\n",
       "39     2.429331\n",
       "40    10.310428\n",
       "41    16.533430\n",
       "42     4.917268\n",
       "43     6.424262\n",
       "45     4.401940\n",
       "46     6.972280\n",
       "47     9.888326\n",
       "49     4.339412\n",
       "50    15.279067\n",
       "51     3.896219\n",
       "52     9.656914\n",
       "53     2.700818\n",
       "54     5.427652\n",
       "55    71.825903\n",
       "57     4.318101\n",
       "58     3.986411\n",
       "59     4.946881\n",
       "62     3.809193\n",
       "63    12.698433\n",
       "Name: std_dev, dtype: float64"
      ]
     },
     "execution_count": 102,
     "metadata": {},
     "output_type": "execute_result"
    }
   ],
   "source": [
    "sd_zeros"
   ]
  },
  {
   "cell_type": "code",
   "execution_count": null,
   "id": "7db5db18-704d-40ed-927e-2880ac921d71",
   "metadata": {},
   "outputs": [],
   "source": []
  }
 ],
 "metadata": {
  "kernelspec": {
   "display_name": "Python 3 (ipykernel)",
   "language": "python",
   "name": "python3"
  },
  "language_info": {
   "codemirror_mode": {
    "name": "ipython",
    "version": 3
   },
   "file_extension": ".py",
   "mimetype": "text/x-python",
   "name": "python",
   "nbconvert_exporter": "python",
   "pygments_lexer": "ipython3",
   "version": "3.12.3"
  }
 },
 "nbformat": 4,
 "nbformat_minor": 5
}
