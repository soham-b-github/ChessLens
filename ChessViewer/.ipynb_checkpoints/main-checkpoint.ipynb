{
 "cells": [
  {
   "cell_type": "code",
   "execution_count": 7,
   "id": "cce9bb20-c931-4396-8c44-3493de1f073c",
   "metadata": {},
   "outputs": [],
   "source": [
    "fen_list = [\n",
    "    \"rnbqkbnr/pppppppp/8/8/8/8/PPPPPPPP/RNBQKBNR w KQkq - 0 1 \",\n",
    "    \"rnbqkbnr/pppppppp/8/8/4P3/8/PPPP1PPP/RNBQKBNR b KQkq - 0 1\",\n",
    "\"rnbqkbnr/pppp1ppp/8/4p3/4P3/8/PPPP1PPP/RNBQKBNR w KQkq e6 0 2\",\n",
    "\"r1bqkbnr/pppp1ppp/2n5/4p3/4P3/5N2/PPPP1PPP/RNBQKB1R w KQkq - 2 3\",\n",
    "\"r1bqkbnr/pppp1ppp/2n5/1B2p3/4P3/5N2/PPPP1PPP/RNBQK2R b KQkq - 3 3\",\n",
    "\"r1bqkbnr/1ppp1ppp/p1n5/1B2p3/4P3/5N2/PPPP1PPP/RNBQK2R w KQkq - 0 4\",\n",
    "\"r1bqkbnr/1ppp1ppp/p1n5/4p3/B3P3/5N2/PPPP1PPP/RNBQK2R b KQkq - 1 4\",\n",
    "\"r1bqkbnr/2pp1ppp/p1n5/1p2p3/B3P3/5N2/PPPP1PPP/RNBQK2R w KQkq b6 0 5\",\n",
    "\"r1bqkbnr/2pp1ppp/p1n5/1p2p3/4P3/1B3N2/PPPP1PPP/RNBQK2R b KQkq - 1 5\",\n",
    "\"r1bqkbnr/2pp1ppp/p7/np2p3/4P3/1B3N2/PPPP1PPP/RNBQK2R w KQkq - 2 6\",\n",
    "    \"r1bqkbnr/2pp1ppp/p7/np2p3/4P3/1BP2N2/PP1P1PPP/RNBQK2R b KQkq - 0 6\"\n",
    "]\n"
   ]
  },
  {
   "cell_type": "code",
   "execution_count": 1,
   "id": "b5d8e0c0-88f2-4ea0-8b6f-7f39b36af2e7",
   "metadata": {},
   "outputs": [
    {
     "name": "stdout",
     "output_type": "stream",
     "text": [
      "ChessViewer initialized. Methods available: ['auto_play', 'current_index', 'display_position', 'fen_list', 'generate_board_image', 'get_active_player', 'run', 'setup_time_control', 'show_next_position', 'show_previous_position', 'start_play', 'stop_play', 'update_clocks', 'validate_fen']\n"
     ]
    }
   ],
   "source": [
    "from ChessViewer import ChessViewer\n",
    "from game import fen_list\n",
    "\n",
    "# Define player names (can be customized)\n",
    "white_player = \"ronak\"  # \"Magnus Carlsen\"\n",
    "black_player = \"darpan\"  # \"Hikaru Nakamura\"\n",
    "\n",
    "# Run the viewer\n",
    "viewer = ChessViewer(fen_list, white_player, black_player, delay=4000)\n",
    "viewer.run()"
   ]
  },
  {
   "cell_type": "code",
   "execution_count": null,
   "id": "f0cdcff1-5042-4fd5-b386-e2f36fd62932",
   "metadata": {},
   "outputs": [],
   "source": []
  }
 ],
 "metadata": {
  "kernelspec": {
   "display_name": "Python 3 (ipykernel)",
   "language": "python",
   "name": "python3"
  },
  "language_info": {
   "codemirror_mode": {
    "name": "ipython",
    "version": 3
   },
   "file_extension": ".py",
   "mimetype": "text/x-python",
   "name": "python",
   "nbconvert_exporter": "python",
   "pygments_lexer": "ipython3",
   "version": "3.12.4"
  }
 },
 "nbformat": 4,
 "nbformat_minor": 5
}
