{
 "cells": [
  {
   "cell_type": "markdown",
   "id": "a57e994f-1e28-4f49-ad50-8fb294034b1c",
   "metadata": {},
   "source": [
    "<center> <b><h1>CHESS LENS</h1></b><br>\n",
    "<b><h2>Team BSB64</h2></b></center>"
   ]
  },
  {
   "cell_type": "code",
   "execution_count": 1,
   "id": "7bc6a118-997a-41fb-9fe7-625b67b1fa25",
   "metadata": {},
   "outputs": [],
   "source": [
    "import sys\n",
    "sys.path.append('./utils')\n",
    "\n",
    "import os"
   ]
  },
  {
   "cell_type": "code",
   "execution_count": 2,
   "id": "0fb731b7-0f62-4fb1-8d5c-577aa0e3f869",
   "metadata": {},
   "outputs": [],
   "source": [
    "import numpy as np\n",
    "import cv2\n",
    "import matplotlib.pyplot as plt\n",
    "import pandas as pd"
   ]
  },
  {
   "cell_type": "code",
   "execution_count": 3,
   "id": "3c3649fd-c59b-4eab-a1c7-61a0c60ce9fd",
   "metadata": {},
   "outputs": [],
   "source": [
    "import occupancy_detector as od\n",
    "import chessboard_processor as cbd\n",
    "import detector as md\n",
    "import visualizer"
   ]
  },
  {
   "cell_type": "code",
   "execution_count": 4,
   "id": "fecef68b-5962-42ea-abcd-adee3aa27762",
   "metadata": {},
   "outputs": [],
   "source": [
    "board_matrix = [\n",
    "    [\"r\", \"n\", \"b\", \"q\", \"k\", \"b\", \"n\", \"r\"],\n",
    "    [\"p\"] * 8,\n",
    "    [\"\"] * 8,\n",
    "    [\"\"] * 8,\n",
    "    [\"\"] * 8,\n",
    "    [\"\"] * 8,\n",
    "    [\"P\"] * 8,\n",
    "    [\"R\", \"N\", \"B\", \"Q\", \"K\", \"B\", \"N\", \"R\"]\n",
    "]"
   ]
  },
  {
   "cell_type": "markdown",
   "id": "16d62dc7-b82b-4995-b8f5-e60bad48da5a",
   "metadata": {},
   "source": [
    "## Preprocess the Chessboard"
   ]
  },
  {
   "cell_type": "code",
   "execution_count": 5,
   "id": "938e099f-0d62-43b9-b3f9-b135072d9ce9",
   "metadata": {},
   "outputs": [
    {
     "name": "stderr",
     "output_type": "stream",
     "text": [
      "QSocketNotifier: Can only be used with threads started with QThread\n"
     ]
    }
   ],
   "source": [
    "cbd.process_chessboard(\"images/board/test3.jpeg\",\"images/demo5/\",\"box\",True)"
   ]
  },
  {
   "cell_type": "markdown",
   "id": "438bd6b1-0013-4f65-8501-25c3f245eaba",
   "metadata": {},
   "source": [
    "## Checking the ACCURACY of OCCUPANCY Detector"
   ]
  },
  {
   "cell_type": "code",
   "execution_count": 40,
   "id": "4eb8c14f-5ca9-45da-b417-f16fc12456a9",
   "metadata": {
    "scrolled": true
   },
   "outputs": [
    {
     "name": "stdout",
     "output_type": "stream",
     "text": [
      "Status\t\tActual\tPredicted\n",
      "Std_dev = 54.40071551481788\n",
      "edge_density = 0.1127340456817959\n",
      "Processing:images/demo4/box-3-true.jpg\t\t1\t1\n",
      "Std_dev = 52.374225152294635\n",
      "edge_density = 0.05989608861876287\n",
      "Processing:images/demo4/box-11-true.jpg\t\t1\t1\n",
      "Std_dev = 30.213455232881326\n",
      "edge_density = 0.019507891383197726\n",
      "Processing:images/demo4/box-46.jpg\t\t0\t0\n",
      "Std_dev = 36.0466682494598\n",
      "edge_density = 0.055680815606313105\n",
      "Processing:images/demo4/box-61-true.jpg\t\t1\t1\n",
      "Std_dev = 34.94339152115216\n",
      "edge_density = 0.026958141358690325\n",
      "Processing:images/demo4/box-31.jpg\t\t0\t1\n",
      "Std_dev = 37.36754620318535\n",
      "edge_density = 0.021860601901774336\n",
      "Processing:images/demo4/box-21.jpg\t\t0\t1\n",
      "Std_dev = 35.35293974218647\n",
      "edge_density = 0.02333104597588472\n",
      "Processing:images/demo4/box-20.jpg\t\t0\t1\n",
      "Std_dev = 38.48196666958099\n",
      "edge_density = 0.02627193412410548\n",
      "Processing:images/demo4/box-16.jpg\t\t0\t1\n",
      "Std_dev = 31.157530912803576\n",
      "edge_density = 0.021468483482011566\n",
      "Processing:images/demo4/box-29.jpg\t\t0\t1\n",
      "Std_dev = 38.20442452930324\n",
      "edge_density = 0.052641897853151653\n",
      "Processing:images/demo4/box-54-true.jpg\t\t1\t1\n",
      "Std_dev = 59.548883623333026\n",
      "edge_density = 0.052445838643270265\n",
      "Processing:images/demo4/box-58-true.jpg\t\t1\t1\n",
      "Std_dev = 60.25801460707392\n",
      "edge_density = 0.05626899323595726\n",
      "Processing:images/demo4/box-51-true.jpg\t\t1\t1\n",
      "Std_dev = 54.18358798807746\n",
      "edge_density = 0.06538574649544163\n",
      "Processing:images/demo4/box-9-true.jpg\t\t1\t1\n",
      "Std_dev = 47.40258260154577\n",
      "edge_density = 0.0595039701990001\n",
      "Processing:images/demo4/box-12-true.jpg\t\t1\t1\n",
      "Std_dev = 38.400823375328244\n",
      "edge_density = 0.021958631506715027\n",
      "Processing:images/demo4/box-33.jpg\t\t0\t1\n",
      "Std_dev = 34.268848270577514\n",
      "edge_density = 0.02068424664248603\n",
      "Processing:images/demo4/box-41.jpg\t\t0\t1\n",
      "Std_dev = 43.410642556636965\n",
      "edge_density = 0.058131555729830406\n",
      "Processing:images/demo4/box-10-true.jpg\t\t1\t1\n",
      "Std_dev = 33.90271115203559\n",
      "edge_density = 0.021468483482011566\n",
      "Processing:images/demo4/box-26.jpg\t\t0\t1\n",
      "Std_dev = 53.02050630705275\n",
      "edge_density = 0.1116557200274483\n",
      "Processing:images/demo4/box-5-true.jpg\t\t1\t1\n",
      "Std_dev = 23.565036593789255\n",
      "edge_density = 0.03705519066758161\n",
      "Processing:images/demo4/box-43.jpg\t\t0\t1\n",
      "Std_dev = 57.601391425527666\n",
      "edge_density = 0.12243897657092442\n",
      "Processing:images/demo4/box-2-true.jpg\t\t1\t1\n",
      "Std_dev = 32.0076128405139\n",
      "edge_density = 0.027154200568571707\n",
      "Processing:images/demo4/box-39.jpg\t\t0\t1\n",
      "Std_dev = 34.889041650339244\n",
      "edge_density = 0.07165964121164592\n",
      "Processing:images/demo4/box-63-true.jpg\t\t1\t1\n",
      "Std_dev = 57.20102404157454\n",
      "edge_density = 0.09753945691598863\n",
      "Processing:images/demo4/box-15-true.jpg\t\t1\t1\n",
      "Std_dev = 57.50897008391015\n",
      "edge_density = 0.044505440643074205\n",
      "Processing:images/demo4/box-55-true.jpg\t\t1\t1\n",
      "Std_dev = 34.34119547883033\n",
      "edge_density = 0.03195765121066562\n",
      "Processing:images/demo4/box-32.jpg\t\t0\t1\n",
      "Std_dev = 31.660356388057725\n",
      "edge_density = 0.019605920988138417\n",
      "Processing:images/demo4/box-42.jpg\t\t0\t0\n",
      "Std_dev = 48.15952984170058\n",
      "edge_density = 0.08587393392804626\n",
      "Processing:images/demo4/box-7-true.jpg\t\t1\t1\n",
      "Std_dev = 53.02371773139547\n",
      "edge_density = 0.05156357219880404\n",
      "Processing:images/demo4/box-53-true.jpg\t\t1\t1\n",
      "Std_dev = 54.80482892135856\n",
      "edge_density = 0.06999313792765414\n",
      "Processing:images/demo4/box-13-true.jpg\t\t1\t1\n",
      "Std_dev = 62.075688924955536\n",
      "edge_density = 0.07362023331045976\n",
      "Processing:images/demo4/box-56-true.jpg\t\t1\t1\n",
      "Std_dev = 43.865190095923346\n",
      "edge_density = 0.05979805901382217\n",
      "Processing:images/demo4/box-59-true.jpg\t\t1\t1\n",
      "Std_dev = 59.981925407950996\n",
      "edge_density = 0.058131555729830406\n",
      "Processing:images/demo4/box-60-true.jpg\t\t1\t1\n",
      "Std_dev = 26.600652034592688\n",
      "edge_density = 0.02578178609940202\n",
      "Processing:images/demo4/box-44.jpg\t\t0\t1\n",
      "Std_dev = 36.08197153576797\n",
      "edge_density = 0.01970395059307911\n",
      "Processing:images/demo4/box-30.jpg\t\t0\t0\n",
      "Std_dev = 27.88065995559939\n",
      "edge_density = 0.029310851877266935\n",
      "Processing:images/demo4/box-35.jpg\t\t0\t1\n",
      "Std_dev = 44.237522811979176\n",
      "edge_density = 0.05920988138417802\n",
      "Processing:images/demo4/box-50-true.jpg\t\t1\t1\n",
      "Std_dev = 41.58083839750204\n",
      "edge_density = 0.024115282815410255\n",
      "Processing:images/demo4/box-24.jpg\t\t0\t1\n",
      "Std_dev = 61.37812913178564\n",
      "edge_density = 0.10224487795314186\n",
      "Processing:images/demo4/box-6-true.jpg\t\t1\t1\n",
      "Std_dev = 43.02434691761449\n",
      "edge_density = 0.04440741103813352\n",
      "Processing:images/demo4/box-8-true.jpg\t\t1\t1\n",
      "Std_dev = 62.83594238999404\n",
      "edge_density = 0.055092637976668954\n",
      "Processing:images/demo4/box-49-true.jpg\t\t1\t1\n",
      "Std_dev = 38.087966943246634\n",
      "edge_density = 0.07607097343397706\n",
      "Processing:images/demo4/box-52-true.jpg\t\t1\t1\n",
      "Std_dev = 30.476744298823014\n",
      "edge_density = 0.032153710420547\n",
      "Processing:images/demo4/box-34.jpg\t\t0\t1\n",
      "Std_dev = 52.76277736239308\n",
      "edge_density = 0.0631310655818057\n",
      "Processing:images/demo4/box-62-true.jpg\t\t1\t1\n",
      "Std_dev = 27.861606473778224\n",
      "edge_density = 0.02440937163023233\n",
      "Processing:images/demo4/box-36.jpg\t\t0\t1\n",
      "Std_dev = 33.22716219302837\n",
      "edge_density = 0.019605920988138417\n",
      "Processing:images/demo4/box-28.jpg\t\t0\t0\n",
      "Std_dev = 34.447681685676045\n",
      "edge_density = 0.022546809136359182\n",
      "Processing:images/demo4/box-19.jpg\t\t0\t1\n",
      "Std_dev = 36.64449359030991\n",
      "edge_density = 0.027448289383393786\n",
      "Processing:images/demo4/box-25.jpg\t\t0\t1\n",
      "Std_dev = 59.8997132442219\n",
      "edge_density = 0.07616900303891776\n",
      "Processing:images/demo4/box-0-true.jpg\t\t1\t1\n",
      "Std_dev = 46.684070015498826\n",
      "edge_density = 0.06734633859425547\n",
      "Processing:images/demo4/box-57-true.jpg\t\t1\t1\n",
      "Std_dev = 30.306302900710406\n",
      "edge_density = 0.031271443976080775\n",
      "Processing:images/demo4/box-47.jpg\t\t0\t1\n",
      "Std_dev = 33.350976356545736\n",
      "edge_density = 0.020782276247426724\n",
      "Processing:images/demo4/box-23.jpg\t\t0\t1\n",
      "Std_dev = 51.152849335075594\n",
      "edge_density = 0.07322811489069699\n",
      "Processing:images/demo4/box-14-true.jpg\t\t1\t1\n",
      "Std_dev = 35.56190741970631\n",
      "edge_density = 0.01970395059307911\n",
      "Processing:images/demo4/box-22.jpg\t\t0\t0\n",
      "Std_dev = 36.564667145775765\n",
      "edge_density = 0.02921282227232624\n",
      "Processing:images/demo4/box-17.jpg\t\t0\t1\n",
      "Std_dev = 22.658813865243275\n",
      "edge_density = 0.019605920988138417\n",
      "Processing:images/demo4/box-45.jpg\t\t0\t0\n",
      "Std_dev = 29.71434287153319\n",
      "edge_density = 0.03587883540829331\n",
      "Processing:images/demo4/box-27.jpg\t\t0\t1\n",
      "Std_dev = 36.91665913372879\n",
      "edge_density = 0.07989412802666405\n",
      "Processing:images/demo4/box-48-true.jpg\t\t1\t1\n",
      "Std_dev = 45.022643168330255\n",
      "edge_density = 0.05166160180374473\n",
      "Processing:images/demo4/box-1-true.jpg\t\t1\t1\n",
      "Std_dev = 29.9670991081219\n",
      "edge_density = 0.019507891383197726\n",
      "Processing:images/demo4/box-37.jpg\t\t0\t0\n",
      "Std_dev = 36.34028215547514\n",
      "edge_density = 0.04195667091461622\n",
      "Processing:images/demo4/box-18.jpg\t\t0\t1\n",
      "Std_dev = 55.81019970007134\n",
      "edge_density = 0.12204685815116165\n",
      "Processing:images/demo4/box-4-true.jpg\t\t1\t1\n",
      "Std_dev = 40.930284593207546\n",
      "edge_density = 0.029800999901970396\n",
      "Processing:images/demo4/box-40.jpg\t\t0\t1\n",
      "Std_dev = 28.363696687368904\n",
      "edge_density = 0.01970395059307911\n",
      "Processing:images/demo4/box-38.jpg\t\t0\t0\n"
     ]
    }
   ],
   "source": [
    "folder = \"images/demo4\"\n",
    "actual_labels, predicted_labels = [],[]\n",
    "\n",
    "print(\"Status\\t\\tActual\\tPredicted\")\n",
    "for filename in os.listdir(folder):\n",
    "    if filename.endswith(\".jpg\") or filename.endswith(\".png\"):\n",
    "        file_path = os.path.join(folder, filename)\n",
    "        actual_labels+=[1] if \"true\" in filename else [0]\n",
    "\n",
    "        box = cv2.imread(file_path, cv2.IMREAD_GRAYSCALE)\n",
    "        pred = od.is_occupied(box)\n",
    "        predicted_labels+=[1] if pred==True else [0]\n",
    "        print(f\"Processing:{file_path}\\t\\t{actual_labels[-1]}\\t{predicted_labels[-1]}\")\n",
    "        "
   ]
  },
  {
   "cell_type": "code",
   "execution_count": 59,
   "id": "bdb3ce40",
   "metadata": {},
   "outputs": [
    {
     "name": "stdout",
     "output_type": "stream",
     "text": [
      "Epoch 1/100\n"
     ]
    },
    {
     "name": "stderr",
     "output_type": "stream",
     "text": [
      "/home/db/.local/lib/python3.12/site-packages/keras/src/layers/convolutional/base_conv.py:107: UserWarning: Do not pass an `input_shape`/`input_dim` argument to a layer. When using Sequential models, prefer using an `Input(shape)` object as the first layer in the model instead.\n",
      "  super().__init__(activity_regularizer=activity_regularizer, **kwargs)\n"
     ]
    },
    {
     "name": "stdout",
     "output_type": "stream",
     "text": [
      "\u001b[1m5/5\u001b[0m \u001b[32m━━━━━━━━━━━━━━━━━━━━\u001b[0m\u001b[37m\u001b[0m \u001b[1m1s\u001b[0m 45ms/step - accuracy: 0.6621 - loss: 0.7148 - val_accuracy: 0.7500 - val_loss: 0.6321\n",
      "Epoch 2/100\n",
      "\u001b[1m5/5\u001b[0m \u001b[32m━━━━━━━━━━━━━━━━━━━━\u001b[0m\u001b[37m\u001b[0m \u001b[1m0s\u001b[0m 23ms/step - accuracy: 0.5989 - loss: 0.6513 - val_accuracy: 0.7500 - val_loss: 0.6361\n",
      "Epoch 3/100\n",
      "\u001b[1m5/5\u001b[0m \u001b[32m━━━━━━━━━━━━━━━━━━━━\u001b[0m\u001b[37m\u001b[0m \u001b[1m0s\u001b[0m 23ms/step - accuracy: 0.6298 - loss: 0.6354 - val_accuracy: 0.7500 - val_loss: 0.6212\n",
      "Epoch 4/100\n",
      "\u001b[1m5/5\u001b[0m \u001b[32m━━━━━━━━━━━━━━━━━━━━\u001b[0m\u001b[37m\u001b[0m \u001b[1m0s\u001b[0m 23ms/step - accuracy: 0.6532 - loss: 0.6099 - val_accuracy: 0.7500 - val_loss: 0.6237\n",
      "Epoch 5/100\n",
      "\u001b[1m5/5\u001b[0m \u001b[32m━━━━━━━━━━━━━━━━━━━━\u001b[0m\u001b[37m\u001b[0m \u001b[1m0s\u001b[0m 23ms/step - accuracy: 0.7145 - loss: 0.6199 - val_accuracy: 0.7500 - val_loss: 0.6482\n",
      "Epoch 6/100\n",
      "\u001b[1m5/5\u001b[0m \u001b[32m━━━━━━━━━━━━━━━━━━━━\u001b[0m\u001b[37m\u001b[0m \u001b[1m0s\u001b[0m 23ms/step - accuracy: 0.7003 - loss: 0.6201 - val_accuracy: 0.6250 - val_loss: 0.6664\n",
      "Epoch 7/100\n",
      "\u001b[1m5/5\u001b[0m \u001b[32m━━━━━━━━━━━━━━━━━━━━\u001b[0m\u001b[37m\u001b[0m \u001b[1m0s\u001b[0m 23ms/step - accuracy: 0.6980 - loss: 0.5870 - val_accuracy: 0.7500 - val_loss: 0.6454\n",
      "Epoch 8/100\n",
      "\u001b[1m5/5\u001b[0m \u001b[32m━━━━━━━━━━━━━━━━━━━━\u001b[0m\u001b[37m\u001b[0m \u001b[1m0s\u001b[0m 23ms/step - accuracy: 0.7382 - loss: 0.5472 - val_accuracy: 0.5000 - val_loss: 0.7218\n",
      "Epoch 9/100\n",
      "\u001b[1m5/5\u001b[0m \u001b[32m━━━━━━━━━━━━━━━━━━━━\u001b[0m\u001b[37m\u001b[0m \u001b[1m0s\u001b[0m 23ms/step - accuracy: 0.6934 - loss: 0.5934 - val_accuracy: 0.3750 - val_loss: 0.7987\n",
      "Epoch 10/100\n",
      "\u001b[1m5/5\u001b[0m \u001b[32m━━━━━━━━━━━━━━━━━━━━\u001b[0m\u001b[37m\u001b[0m \u001b[1m0s\u001b[0m 22ms/step - accuracy: 0.6569 - loss: 0.6131 - val_accuracy: 0.6250 - val_loss: 0.6938\n",
      "Epoch 11/100\n",
      "\u001b[1m5/5\u001b[0m \u001b[32m━━━━━━━━━━━━━━━━━━━━\u001b[0m\u001b[37m\u001b[0m \u001b[1m0s\u001b[0m 23ms/step - accuracy: 0.6786 - loss: 0.5878 - val_accuracy: 0.5000 - val_loss: 0.7005\n",
      "Epoch 12/100\n",
      "\u001b[1m5/5\u001b[0m \u001b[32m━━━━━━━━━━━━━━━━━━━━\u001b[0m\u001b[37m\u001b[0m \u001b[1m0s\u001b[0m 25ms/step - accuracy: 0.7546 - loss: 0.6005 - val_accuracy: 0.3750 - val_loss: 0.7637\n",
      "Epoch 13/100\n",
      "\u001b[1m5/5\u001b[0m \u001b[32m━━━━━━━━━━━━━━━━━━━━\u001b[0m\u001b[37m\u001b[0m \u001b[1m0s\u001b[0m 23ms/step - accuracy: 0.7096 - loss: 0.5869 - val_accuracy: 0.3750 - val_loss: 0.8273\n",
      "Epoch 14/100\n",
      "\u001b[1m5/5\u001b[0m \u001b[32m━━━━━━━━━━━━━━━━━━━━\u001b[0m\u001b[37m\u001b[0m \u001b[1m0s\u001b[0m 23ms/step - accuracy: 0.6173 - loss: 0.5477 - val_accuracy: 0.3750 - val_loss: 0.8538\n",
      "Epoch 15/100\n",
      "\u001b[1m5/5\u001b[0m \u001b[32m━━━━━━━━━━━━━━━━━━━━\u001b[0m\u001b[37m\u001b[0m \u001b[1m0s\u001b[0m 24ms/step - accuracy: 0.7142 - loss: 0.5519 - val_accuracy: 0.3750 - val_loss: 0.8996\n",
      "Epoch 16/100\n",
      "\u001b[1m5/5\u001b[0m \u001b[32m━━━━━━━━━━━━━━━━━━━━\u001b[0m\u001b[37m\u001b[0m \u001b[1m0s\u001b[0m 23ms/step - accuracy: 0.6919 - loss: 0.5450 - val_accuracy: 0.3750 - val_loss: 0.8657\n",
      "Epoch 17/100\n",
      "\u001b[1m5/5\u001b[0m \u001b[32m━━━━━━━━━━━━━━━━━━━━\u001b[0m\u001b[37m\u001b[0m \u001b[1m0s\u001b[0m 23ms/step - accuracy: 0.7017 - loss: 0.5973 - val_accuracy: 0.3750 - val_loss: 0.8831\n",
      "Epoch 18/100\n",
      "\u001b[1m5/5\u001b[0m \u001b[32m━━━━━━━━━━━━━━━━━━━━\u001b[0m\u001b[37m\u001b[0m \u001b[1m0s\u001b[0m 22ms/step - accuracy: 0.8142 - loss: 0.4135 - val_accuracy: 0.2500 - val_loss: 0.9540\n",
      "Epoch 19/100\n",
      "\u001b[1m5/5\u001b[0m \u001b[32m━━━━━━━━━━━━━━━━━━━━\u001b[0m\u001b[37m\u001b[0m \u001b[1m0s\u001b[0m 23ms/step - accuracy: 0.6963 - loss: 0.5303 - val_accuracy: 0.2500 - val_loss: 0.9944\n",
      "Epoch 20/100\n",
      "\u001b[1m5/5\u001b[0m \u001b[32m━━━━━━━━━━━━━━━━━━━━\u001b[0m\u001b[37m\u001b[0m \u001b[1m0s\u001b[0m 23ms/step - accuracy: 0.7856 - loss: 0.4538 - val_accuracy: 0.3750 - val_loss: 0.9382\n",
      "Epoch 21/100\n",
      "\u001b[1m5/5\u001b[0m \u001b[32m━━━━━━━━━━━━━━━━━━━━\u001b[0m\u001b[37m\u001b[0m \u001b[1m0s\u001b[0m 22ms/step - accuracy: 0.7373 - loss: 0.4455 - val_accuracy: 0.3750 - val_loss: 0.9787\n",
      "Epoch 22/100\n",
      "\u001b[1m5/5\u001b[0m \u001b[32m━━━━━━━━━━━━━━━━━━━━\u001b[0m\u001b[37m\u001b[0m \u001b[1m0s\u001b[0m 24ms/step - accuracy: 0.7029 - loss: 0.5085 - val_accuracy: 0.2500 - val_loss: 1.0574\n",
      "Epoch 23/100\n",
      "\u001b[1m5/5\u001b[0m \u001b[32m━━━━━━━━━━━━━━━━━━━━\u001b[0m\u001b[37m\u001b[0m \u001b[1m0s\u001b[0m 23ms/step - accuracy: 0.7867 - loss: 0.4530 - val_accuracy: 0.2500 - val_loss: 1.1972\n",
      "Epoch 24/100\n",
      "\u001b[1m5/5\u001b[0m \u001b[32m━━━━━━━━━━━━━━━━━━━━\u001b[0m\u001b[37m\u001b[0m \u001b[1m0s\u001b[0m 25ms/step - accuracy: 0.6948 - loss: 0.5274 - val_accuracy: 0.2500 - val_loss: 1.2257\n",
      "Epoch 25/100\n",
      "\u001b[1m5/5\u001b[0m \u001b[32m━━━━━━━━━━━━━━━━━━━━\u001b[0m\u001b[37m\u001b[0m \u001b[1m0s\u001b[0m 23ms/step - accuracy: 0.7112 - loss: 0.5218 - val_accuracy: 0.2500 - val_loss: 1.2328\n",
      "Epoch 26/100\n",
      "\u001b[1m5/5\u001b[0m \u001b[32m━━━━━━━━━━━━━━━━━━━━\u001b[0m\u001b[37m\u001b[0m \u001b[1m0s\u001b[0m 23ms/step - accuracy: 0.7517 - loss: 0.4330 - val_accuracy: 0.2500 - val_loss: 1.2567\n",
      "Epoch 27/100\n",
      "\u001b[1m5/5\u001b[0m \u001b[32m━━━━━━━━━━━━━━━━━━━━\u001b[0m\u001b[37m\u001b[0m \u001b[1m0s\u001b[0m 24ms/step - accuracy: 0.7648 - loss: 0.3783 - val_accuracy: 0.3750 - val_loss: 1.1392\n",
      "Epoch 28/100\n",
      "\u001b[1m5/5\u001b[0m \u001b[32m━━━━━━━━━━━━━━━━━━━━\u001b[0m\u001b[37m\u001b[0m \u001b[1m0s\u001b[0m 23ms/step - accuracy: 0.7011 - loss: 0.4233 - val_accuracy: 0.2500 - val_loss: 1.1274\n",
      "Epoch 29/100\n",
      "\u001b[1m5/5\u001b[0m \u001b[32m━━━━━━━━━━━━━━━━━━━━\u001b[0m\u001b[37m\u001b[0m \u001b[1m0s\u001b[0m 23ms/step - accuracy: 0.8523 - loss: 0.3976 - val_accuracy: 0.3750 - val_loss: 1.1471\n",
      "Epoch 30/100\n",
      "\u001b[1m5/5\u001b[0m \u001b[32m━━━━━━━━━━━━━━━━━━━━\u001b[0m\u001b[37m\u001b[0m \u001b[1m0s\u001b[0m 23ms/step - accuracy: 0.7711 - loss: 0.3997 - val_accuracy: 0.2500 - val_loss: 1.2150\n",
      "Epoch 31/100\n",
      "\u001b[1m5/5\u001b[0m \u001b[32m━━━━━━━━━━━━━━━━━━━━\u001b[0m\u001b[37m\u001b[0m \u001b[1m0s\u001b[0m 22ms/step - accuracy: 0.7798 - loss: 0.4172 - val_accuracy: 0.2500 - val_loss: 1.3994\n",
      "Epoch 32/100\n",
      "\u001b[1m5/5\u001b[0m \u001b[32m━━━━━━━━━━━━━━━━━━━━\u001b[0m\u001b[37m\u001b[0m \u001b[1m0s\u001b[0m 23ms/step - accuracy: 0.6494 - loss: 0.4974 - val_accuracy: 0.2500 - val_loss: 1.3823\n",
      "Epoch 33/100\n",
      "\u001b[1m5/5\u001b[0m \u001b[32m━━━━━━━━━━━━━━━━━━━━\u001b[0m\u001b[37m\u001b[0m \u001b[1m0s\u001b[0m 25ms/step - accuracy: 0.6890 - loss: 0.4718 - val_accuracy: 0.2500 - val_loss: 1.2927\n",
      "Epoch 34/100\n",
      "\u001b[1m5/5\u001b[0m \u001b[32m━━━━━━━━━━━━━━━━━━━━\u001b[0m\u001b[37m\u001b[0m \u001b[1m0s\u001b[0m 24ms/step - accuracy: 0.7963 - loss: 0.3656 - val_accuracy: 0.2500 - val_loss: 1.3578\n",
      "Epoch 35/100\n",
      "\u001b[1m5/5\u001b[0m \u001b[32m━━━━━━━━━━━━━━━━━━━━\u001b[0m\u001b[37m\u001b[0m \u001b[1m0s\u001b[0m 23ms/step - accuracy: 0.7983 - loss: 0.3919 - val_accuracy: 0.2500 - val_loss: 1.4888\n",
      "Epoch 36/100\n",
      "\u001b[1m5/5\u001b[0m \u001b[32m━━━━━━━━━━━━━━━━━━━━\u001b[0m\u001b[37m\u001b[0m \u001b[1m0s\u001b[0m 23ms/step - accuracy: 0.8226 - loss: 0.3684 - val_accuracy: 0.2500 - val_loss: 1.5445\n",
      "Epoch 37/100\n",
      "\u001b[1m5/5\u001b[0m \u001b[32m━━━━━━━━━━━━━━━━━━━━\u001b[0m\u001b[37m\u001b[0m \u001b[1m0s\u001b[0m 23ms/step - accuracy: 0.8121 - loss: 0.3807 - val_accuracy: 0.2500 - val_loss: 1.5870\n",
      "Epoch 38/100\n",
      "\u001b[1m5/5\u001b[0m \u001b[32m━━━━━━━━━━━━━━━━━━━━\u001b[0m\u001b[37m\u001b[0m \u001b[1m0s\u001b[0m 23ms/step - accuracy: 0.7300 - loss: 0.4531 - val_accuracy: 0.2500 - val_loss: 1.5890\n",
      "Epoch 39/100\n",
      "\u001b[1m5/5\u001b[0m \u001b[32m━━━━━━━━━━━━━━━━━━━━\u001b[0m\u001b[37m\u001b[0m \u001b[1m0s\u001b[0m 24ms/step - accuracy: 0.7231 - loss: 0.4167 - val_accuracy: 0.2500 - val_loss: 1.5678\n",
      "Epoch 40/100\n",
      "\u001b[1m5/5\u001b[0m \u001b[32m━━━━━━━━━━━━━━━━━━━━\u001b[0m\u001b[37m\u001b[0m \u001b[1m0s\u001b[0m 24ms/step - accuracy: 0.7601 - loss: 0.3990 - val_accuracy: 0.2500 - val_loss: 1.6458\n",
      "Epoch 41/100\n",
      "\u001b[1m5/5\u001b[0m \u001b[32m━━━━━━━━━━━━━━━━━━━━\u001b[0m\u001b[37m\u001b[0m \u001b[1m0s\u001b[0m 23ms/step - accuracy: 0.8309 - loss: 0.3855 - val_accuracy: 0.2500 - val_loss: 1.6892\n",
      "Epoch 42/100\n",
      "\u001b[1m5/5\u001b[0m \u001b[32m━━━━━━━━━━━━━━━━━━━━\u001b[0m\u001b[37m\u001b[0m \u001b[1m0s\u001b[0m 24ms/step - accuracy: 0.7645 - loss: 0.3554 - val_accuracy: 0.3750 - val_loss: 1.5199\n",
      "Epoch 43/100\n",
      "\u001b[1m5/5\u001b[0m \u001b[32m━━━━━━━━━━━━━━━━━━━━\u001b[0m\u001b[37m\u001b[0m \u001b[1m0s\u001b[0m 23ms/step - accuracy: 0.7500 - loss: 0.4008 - val_accuracy: 0.3750 - val_loss: 1.3700\n",
      "Epoch 44/100\n",
      "\u001b[1m5/5\u001b[0m \u001b[32m━━━━━━━━━━━━━━━━━━━━\u001b[0m\u001b[37m\u001b[0m \u001b[1m0s\u001b[0m 23ms/step - accuracy: 0.7740 - loss: 0.3899 - val_accuracy: 0.3750 - val_loss: 1.4373\n",
      "Epoch 45/100\n",
      "\u001b[1m5/5\u001b[0m \u001b[32m━━━━━━━━━━━━━━━━━━━━\u001b[0m\u001b[37m\u001b[0m \u001b[1m0s\u001b[0m 24ms/step - accuracy: 0.7714 - loss: 0.3870 - val_accuracy: 0.2500 - val_loss: 1.5023\n",
      "Epoch 46/100\n",
      "\u001b[1m5/5\u001b[0m \u001b[32m━━━━━━━━━━━━━━━━━━━━\u001b[0m\u001b[37m\u001b[0m \u001b[1m0s\u001b[0m 23ms/step - accuracy: 0.7650 - loss: 0.4123 - val_accuracy: 0.2500 - val_loss: 1.4986\n",
      "Epoch 47/100\n",
      "\u001b[1m5/5\u001b[0m \u001b[32m━━━━━━━━━━━━━━━━━━━━\u001b[0m\u001b[37m\u001b[0m \u001b[1m0s\u001b[0m 24ms/step - accuracy: 0.7818 - loss: 0.3449 - val_accuracy: 0.2500 - val_loss: 1.6179\n",
      "Epoch 48/100\n",
      "\u001b[1m5/5\u001b[0m \u001b[32m━━━━━━━━━━━━━━━━━━━━\u001b[0m\u001b[37m\u001b[0m \u001b[1m0s\u001b[0m 24ms/step - accuracy: 0.7546 - loss: 0.3421 - val_accuracy: 0.2500 - val_loss: 1.7839\n",
      "Epoch 49/100\n",
      "\u001b[1m5/5\u001b[0m \u001b[32m━━━━━━━━━━━━━━━━━━━━\u001b[0m\u001b[37m\u001b[0m \u001b[1m0s\u001b[0m 25ms/step - accuracy: 0.7798 - loss: 0.3478 - val_accuracy: 0.2500 - val_loss: 1.7877\n",
      "Epoch 50/100\n",
      "\u001b[1m5/5\u001b[0m \u001b[32m━━━━━━━━━━━━━━━━━━━━\u001b[0m\u001b[37m\u001b[0m \u001b[1m0s\u001b[0m 24ms/step - accuracy: 0.7821 - loss: 0.3571 - val_accuracy: 0.2500 - val_loss: 1.8087\n",
      "Epoch 51/100\n",
      "\u001b[1m5/5\u001b[0m \u001b[32m━━━━━━━━━━━━━━━━━━━━\u001b[0m\u001b[37m\u001b[0m \u001b[1m0s\u001b[0m 23ms/step - accuracy: 0.7838 - loss: 0.3903 - val_accuracy: 0.2500 - val_loss: 1.9020\n",
      "Epoch 52/100\n"
     ]
    },
    {
     "name": "stdout",
     "output_type": "stream",
     "text": [
      "\u001b[1m5/5\u001b[0m \u001b[32m━━━━━━━━━━━━━━━━━━━━\u001b[0m\u001b[37m\u001b[0m \u001b[1m0s\u001b[0m 25ms/step - accuracy: 0.8573 - loss: 0.3053 - val_accuracy: 0.2500 - val_loss: 1.9840\n",
      "Epoch 53/100\n",
      "\u001b[1m5/5\u001b[0m \u001b[32m━━━━━━━━━━━━━━━━━━━━\u001b[0m\u001b[37m\u001b[0m \u001b[1m0s\u001b[0m 22ms/step - accuracy: 0.7332 - loss: 0.4103 - val_accuracy: 0.2500 - val_loss: 1.8923\n",
      "Epoch 54/100\n",
      "\u001b[1m5/5\u001b[0m \u001b[32m━━━━━━━━━━━━━━━━━━━━\u001b[0m\u001b[37m\u001b[0m \u001b[1m0s\u001b[0m 24ms/step - accuracy: 0.8110 - loss: 0.4024 - val_accuracy: 0.2500 - val_loss: 1.9080\n",
      "Epoch 55/100\n",
      "\u001b[1m5/5\u001b[0m \u001b[32m━━━━━━━━━━━━━━━━━━━━\u001b[0m\u001b[37m\u001b[0m \u001b[1m0s\u001b[0m 24ms/step - accuracy: 0.8425 - loss: 0.3124 - val_accuracy: 0.2500 - val_loss: 1.9029\n",
      "Epoch 56/100\n",
      "\u001b[1m5/5\u001b[0m \u001b[32m━━━━━━━━━━━━━━━━━━━━\u001b[0m\u001b[37m\u001b[0m \u001b[1m0s\u001b[0m 24ms/step - accuracy: 0.7514 - loss: 0.4786 - val_accuracy: 0.2500 - val_loss: 1.8341\n",
      "Epoch 57/100\n",
      "\u001b[1m5/5\u001b[0m \u001b[32m━━━━━━━━━━━━━━━━━━━━\u001b[0m\u001b[37m\u001b[0m \u001b[1m0s\u001b[0m 24ms/step - accuracy: 0.7535 - loss: 0.3638 - val_accuracy: 0.2500 - val_loss: 1.8106\n",
      "Epoch 58/100\n",
      "\u001b[1m5/5\u001b[0m \u001b[32m━━━━━━━━━━━━━━━━━━━━\u001b[0m\u001b[37m\u001b[0m \u001b[1m0s\u001b[0m 26ms/step - accuracy: 0.7445 - loss: 0.3978 - val_accuracy: 0.2500 - val_loss: 1.6619\n",
      "Epoch 59/100\n",
      "\u001b[1m5/5\u001b[0m \u001b[32m━━━━━━━━━━━━━━━━━━━━\u001b[0m\u001b[37m\u001b[0m \u001b[1m0s\u001b[0m 23ms/step - accuracy: 0.7694 - loss: 0.4365 - val_accuracy: 0.2500 - val_loss: 1.6713\n",
      "Epoch 60/100\n",
      "\u001b[1m5/5\u001b[0m \u001b[32m━━━━━━━━━━━━━━━━━━━━\u001b[0m\u001b[37m\u001b[0m \u001b[1m0s\u001b[0m 24ms/step - accuracy: 0.8142 - loss: 0.3492 - val_accuracy: 0.2500 - val_loss: 1.7062\n",
      "Epoch 61/100\n",
      "\u001b[1m5/5\u001b[0m \u001b[32m━━━━━━━━━━━━━━━━━━━━\u001b[0m\u001b[37m\u001b[0m \u001b[1m0s\u001b[0m 22ms/step - accuracy: 0.7806 - loss: 0.3687 - val_accuracy: 0.2500 - val_loss: 1.7127\n",
      "Epoch 62/100\n",
      "\u001b[1m5/5\u001b[0m \u001b[32m━━━━━━━━━━━━━━━━━━━━\u001b[0m\u001b[37m\u001b[0m \u001b[1m0s\u001b[0m 23ms/step - accuracy: 0.8526 - loss: 0.3007 - val_accuracy: 0.2500 - val_loss: 1.7435\n",
      "Epoch 63/100\n",
      "\u001b[1m5/5\u001b[0m \u001b[32m━━━━━━━━━━━━━━━━━━━━\u001b[0m\u001b[37m\u001b[0m \u001b[1m0s\u001b[0m 25ms/step - accuracy: 0.8353 - loss: 0.3130 - val_accuracy: 0.2500 - val_loss: 1.9002\n",
      "Epoch 64/100\n",
      "\u001b[1m5/5\u001b[0m \u001b[32m━━━━━━━━━━━━━━━━━━━━\u001b[0m\u001b[37m\u001b[0m \u001b[1m0s\u001b[0m 26ms/step - accuracy: 0.7940 - loss: 0.2998 - val_accuracy: 0.2500 - val_loss: 2.1015\n",
      "Epoch 65/100\n",
      "\u001b[1m5/5\u001b[0m \u001b[32m━━━━━━━━━━━━━━━━━━━━\u001b[0m\u001b[37m\u001b[0m \u001b[1m0s\u001b[0m 23ms/step - accuracy: 0.8064 - loss: 0.3228 - val_accuracy: 0.2500 - val_loss: 2.2399\n",
      "Epoch 66/100\n",
      "\u001b[1m5/5\u001b[0m \u001b[32m━━━━━━━━━━━━━━━━━━━━\u001b[0m\u001b[37m\u001b[0m \u001b[1m0s\u001b[0m 23ms/step - accuracy: 0.7934 - loss: 0.3592 - val_accuracy: 0.2500 - val_loss: 2.1254\n",
      "Epoch 67/100\n",
      "\u001b[1m5/5\u001b[0m \u001b[32m━━━━━━━━━━━━━━━━━━━━\u001b[0m\u001b[37m\u001b[0m \u001b[1m0s\u001b[0m 26ms/step - accuracy: 0.7731 - loss: 0.3347 - val_accuracy: 0.2500 - val_loss: 1.9420\n",
      "Epoch 68/100\n",
      "\u001b[1m5/5\u001b[0m \u001b[32m━━━━━━━━━━━━━━━━━━━━\u001b[0m\u001b[37m\u001b[0m \u001b[1m0s\u001b[0m 24ms/step - accuracy: 0.7309 - loss: 0.4028 - val_accuracy: 0.2500 - val_loss: 1.7845\n",
      "Epoch 69/100\n",
      "\u001b[1m5/5\u001b[0m \u001b[32m━━━━━━━━━━━━━━━━━━━━\u001b[0m\u001b[37m\u001b[0m \u001b[1m0s\u001b[0m 24ms/step - accuracy: 0.7934 - loss: 0.3705 - val_accuracy: 0.2500 - val_loss: 1.6776\n",
      "Epoch 70/100\n",
      "\u001b[1m5/5\u001b[0m \u001b[32m━━━━━━━━━━━━━━━━━━━━\u001b[0m\u001b[37m\u001b[0m \u001b[1m0s\u001b[0m 25ms/step - accuracy: 0.8093 - loss: 0.3123 - val_accuracy: 0.2500 - val_loss: 1.6743\n",
      "Epoch 71/100\n",
      "\u001b[1m5/5\u001b[0m \u001b[32m━━━━━━━━━━━━━━━━━━━━\u001b[0m\u001b[37m\u001b[0m \u001b[1m0s\u001b[0m 24ms/step - accuracy: 0.8575 - loss: 0.3159 - val_accuracy: 0.2500 - val_loss: 1.6940\n",
      "Epoch 72/100\n",
      "\u001b[1m5/5\u001b[0m \u001b[32m━━━━━━━━━━━━━━━━━━━━\u001b[0m\u001b[37m\u001b[0m \u001b[1m0s\u001b[0m 25ms/step - accuracy: 0.7786 - loss: 0.3401 - val_accuracy: 0.2500 - val_loss: 1.8127\n",
      "Epoch 73/100\n",
      "\u001b[1m5/5\u001b[0m \u001b[32m━━━━━━━━━━━━━━━━━━━━\u001b[0m\u001b[37m\u001b[0m \u001b[1m0s\u001b[0m 26ms/step - accuracy: 0.7558 - loss: 0.3249 - val_accuracy: 0.2500 - val_loss: 1.9363\n",
      "Epoch 74/100\n",
      "\u001b[1m5/5\u001b[0m \u001b[32m━━━━━━━━━━━━━━━━━━━━\u001b[0m\u001b[37m\u001b[0m \u001b[1m0s\u001b[0m 24ms/step - accuracy: 0.7503 - loss: 0.3752 - val_accuracy: 0.2500 - val_loss: 2.0720\n",
      "Epoch 75/100\n",
      "\u001b[1m5/5\u001b[0m \u001b[32m━━━━━━━━━━━━━━━━━━━━\u001b[0m\u001b[37m\u001b[0m \u001b[1m0s\u001b[0m 25ms/step - accuracy: 0.8431 - loss: 0.3282 - val_accuracy: 0.2500 - val_loss: 2.2774\n",
      "Epoch 76/100\n",
      "\u001b[1m5/5\u001b[0m \u001b[32m━━━━━━━━━━━━━━━━━━━━\u001b[0m\u001b[37m\u001b[0m \u001b[1m0s\u001b[0m 26ms/step - accuracy: 0.8289 - loss: 0.3434 - val_accuracy: 0.2500 - val_loss: 2.3379\n",
      "Epoch 77/100\n",
      "\u001b[1m5/5\u001b[0m \u001b[32m━━━━━━━━━━━━━━━━━━━━\u001b[0m\u001b[37m\u001b[0m \u001b[1m0s\u001b[0m 26ms/step - accuracy: 0.7792 - loss: 0.3531 - val_accuracy: 0.2500 - val_loss: 2.2883\n",
      "Epoch 78/100\n",
      "\u001b[1m5/5\u001b[0m \u001b[32m━━━━━━━━━━━━━━━━━━━━\u001b[0m\u001b[37m\u001b[0m \u001b[1m0s\u001b[0m 23ms/step - accuracy: 0.7671 - loss: 0.3356 - val_accuracy: 0.2500 - val_loss: 2.2206\n",
      "Epoch 79/100\n",
      "\u001b[1m5/5\u001b[0m \u001b[32m━━━━━━━━━━━━━━━━━━━━\u001b[0m\u001b[37m\u001b[0m \u001b[1m0s\u001b[0m 23ms/step - accuracy: 0.7743 - loss: 0.2916 - val_accuracy: 0.2500 - val_loss: 2.2594\n",
      "Epoch 80/100\n",
      "\u001b[1m5/5\u001b[0m \u001b[32m━━━━━━━━━━━━━━━━━━━━\u001b[0m\u001b[37m\u001b[0m \u001b[1m0s\u001b[0m 27ms/step - accuracy: 0.7297 - loss: 0.3883 - val_accuracy: 0.2500 - val_loss: 2.2735\n",
      "Epoch 81/100\n",
      "\u001b[1m5/5\u001b[0m \u001b[32m━━━━━━━━━━━━━━━━━━━━\u001b[0m\u001b[37m\u001b[0m \u001b[1m0s\u001b[0m 27ms/step - accuracy: 0.8286 - loss: 0.3461 - val_accuracy: 0.2500 - val_loss: 2.1895\n",
      "Epoch 82/100\n",
      "\u001b[1m5/5\u001b[0m \u001b[32m━━━━━━━━━━━━━━━━━━━━\u001b[0m\u001b[37m\u001b[0m \u001b[1m0s\u001b[0m 25ms/step - accuracy: 0.7205 - loss: 0.3796 - val_accuracy: 0.2500 - val_loss: 2.0515\n",
      "Epoch 83/100\n",
      "\u001b[1m5/5\u001b[0m \u001b[32m━━━━━━━━━━━━━━━━━━━━\u001b[0m\u001b[37m\u001b[0m \u001b[1m0s\u001b[0m 24ms/step - accuracy: 0.7948 - loss: 0.3462 - val_accuracy: 0.2500 - val_loss: 1.9442\n",
      "Epoch 84/100\n",
      "\u001b[1m5/5\u001b[0m \u001b[32m━━━━━━━━━━━━━━━━━━━━\u001b[0m\u001b[37m\u001b[0m \u001b[1m0s\u001b[0m 26ms/step - accuracy: 0.8142 - loss: 0.3095 - val_accuracy: 0.2500 - val_loss: 1.9755\n",
      "Epoch 85/100\n",
      "\u001b[1m5/5\u001b[0m \u001b[32m━━━━━━━━━━━━━━━━━━━━\u001b[0m\u001b[37m\u001b[0m \u001b[1m0s\u001b[0m 24ms/step - accuracy: 0.7664 - loss: 0.3234 - val_accuracy: 0.2500 - val_loss: 2.0606\n",
      "Epoch 86/100\n",
      "\u001b[1m5/5\u001b[0m \u001b[32m━━━━━━━━━━━━━━━━━━━━\u001b[0m\u001b[37m\u001b[0m \u001b[1m0s\u001b[0m 24ms/step - accuracy: 0.9058 - loss: 0.2869 - val_accuracy: 0.2500 - val_loss: 2.3127\n",
      "Epoch 87/100\n",
      "\u001b[1m5/5\u001b[0m \u001b[32m━━━━━━━━━━━━━━━━━━━━\u001b[0m\u001b[37m\u001b[0m \u001b[1m0s\u001b[0m 24ms/step - accuracy: 0.8029 - loss: 0.2917 - val_accuracy: 0.2500 - val_loss: 2.5595\n",
      "Epoch 88/100\n",
      "\u001b[1m5/5\u001b[0m \u001b[32m━━━━━━━━━━━━━━━━━━━━\u001b[0m\u001b[37m\u001b[0m \u001b[1m0s\u001b[0m 24ms/step - accuracy: 0.7873 - loss: 0.2883 - val_accuracy: 0.2500 - val_loss: 2.8307\n",
      "Epoch 89/100\n",
      "\u001b[1m5/5\u001b[0m \u001b[32m━━━━━━━━━━━━━━━━━━━━\u001b[0m\u001b[37m\u001b[0m \u001b[1m0s\u001b[0m 25ms/step - accuracy: 0.7852 - loss: 0.3286 - val_accuracy: 0.2500 - val_loss: 2.7698\n",
      "Epoch 90/100\n",
      "\u001b[1m5/5\u001b[0m \u001b[32m━━━━━━━━━━━━━━━━━━━━\u001b[0m\u001b[37m\u001b[0m \u001b[1m0s\u001b[0m 24ms/step - accuracy: 0.7402 - loss: 0.3300 - val_accuracy: 0.2500 - val_loss: 2.4512\n",
      "Epoch 91/100\n",
      "\u001b[1m5/5\u001b[0m \u001b[32m━━━━━━━━━━━━━━━━━━━━\u001b[0m\u001b[37m\u001b[0m \u001b[1m0s\u001b[0m 25ms/step - accuracy: 0.8168 - loss: 0.3039 - val_accuracy: 0.2500 - val_loss: 2.3256\n",
      "Epoch 92/100\n",
      "\u001b[1m5/5\u001b[0m \u001b[32m━━━━━━━━━━━━━━━━━━━━\u001b[0m\u001b[37m\u001b[0m \u001b[1m0s\u001b[0m 25ms/step - accuracy: 0.8052 - loss: 0.3489 - val_accuracy: 0.2500 - val_loss: 2.1886\n",
      "Epoch 93/100\n",
      "\u001b[1m5/5\u001b[0m \u001b[32m━━━━━━━━━━━━━━━━━━━━\u001b[0m\u001b[37m\u001b[0m \u001b[1m0s\u001b[0m 25ms/step - accuracy: 0.8226 - loss: 0.3106 - val_accuracy: 0.2500 - val_loss: 2.2213\n",
      "Epoch 94/100\n",
      "\u001b[1m5/5\u001b[0m \u001b[32m━━━━━━━━━━━━━━━━━━━━\u001b[0m\u001b[37m\u001b[0m \u001b[1m0s\u001b[0m 23ms/step - accuracy: 0.8070 - loss: 0.2761 - val_accuracy: 0.2500 - val_loss: 2.3338\n",
      "Epoch 95/100\n",
      "\u001b[1m5/5\u001b[0m \u001b[32m━━━━━━━━━━━━━━━━━━━━\u001b[0m\u001b[37m\u001b[0m \u001b[1m0s\u001b[0m 23ms/step - accuracy: 0.8243 - loss: 0.3236 - val_accuracy: 0.2500 - val_loss: 2.3741\n",
      "Epoch 96/100\n",
      "\u001b[1m5/5\u001b[0m \u001b[32m━━━━━━━━━━━━━━━━━━━━\u001b[0m\u001b[37m\u001b[0m \u001b[1m0s\u001b[0m 24ms/step - accuracy: 0.8801 - loss: 0.2649 - val_accuracy: 0.2500 - val_loss: 2.4820\n",
      "Epoch 97/100\n",
      "\u001b[1m5/5\u001b[0m \u001b[32m━━━━━━━━━━━━━━━━━━━━\u001b[0m\u001b[37m\u001b[0m \u001b[1m0s\u001b[0m 24ms/step - accuracy: 0.8121 - loss: 0.3060 - val_accuracy: 0.2500 - val_loss: 2.5498\n",
      "Epoch 98/100\n",
      "\u001b[1m5/5\u001b[0m \u001b[32m━━━━━━━━━━━━━━━━━━━━\u001b[0m\u001b[37m\u001b[0m \u001b[1m0s\u001b[0m 27ms/step - accuracy: 0.7612 - loss: 0.3654 - val_accuracy: 0.2500 - val_loss: 2.3343\n",
      "Epoch 99/100\n",
      "\u001b[1m5/5\u001b[0m \u001b[32m━━━━━━━━━━━━━━━━━━━━\u001b[0m\u001b[37m\u001b[0m \u001b[1m0s\u001b[0m 24ms/step - accuracy: 0.7480 - loss: 0.3183 - val_accuracy: 0.2500 - val_loss: 2.2767\n",
      "Epoch 100/100\n",
      "\u001b[1m5/5\u001b[0m \u001b[32m━━━━━━━━━━━━━━━━━━━━\u001b[0m\u001b[37m\u001b[0m \u001b[1m0s\u001b[0m 26ms/step - accuracy: 0.7867 - loss: 0.3224 - val_accuracy: 0.2500 - val_loss: 2.1823\n",
      "\u001b[1m1/1\u001b[0m \u001b[32m━━━━━━━━━━━━━━━━━━━━\u001b[0m\u001b[37m\u001b[0m \u001b[1m0s\u001b[0m 55ms/step\n",
      "\n",
      "CNN Occupancy Detector Accuracy: 0.4000\n",
      "\n",
      "Status\t\tActual\tPredicted\n",
      "Correct\t\t0\t0\n",
      "Correct\t\t0\t0\n",
      "Correct\t\t0\t0\n",
      "Correct\t\t0\t0\n",
      "Wrong\t\t0\t1\n",
      "Wrong\t\t1\t0\n",
      "Wrong\t\t1\t0\n",
      "Wrong\t\t0\t1\n",
      "Wrong\t\t1\t0\n",
      "Correct\t\t0\t0\n",
      "Wrong\t\t1\t0\n",
      "Correct\t\t0\t0\n",
      "Wrong\t\t1\t0\n",
      "Wrong\t\t1\t0\n",
      "Correct\t\t0\t0\n",
      "Wrong\t\t0\t1\n",
      "Wrong\t\t0\t1\n",
      "Wrong\t\t1\t0\n",
      "Wrong\t\t0\t1\n",
      "Correct\t\t0\t0\n"
     ]
    }
   ],
   "source": [
    "import os\n",
    "import numpy as np\n",
    "import cv2\n",
    "from tensorflow.keras.models import Sequential\n",
    "from tensorflow.keras.layers import Conv2D, MaxPooling2D, Flatten, Dense, Dropout\n",
    "from tensorflow.keras.utils import to_categorical\n",
    "from sklearn.model_selection import train_test_split\n",
    "from sklearn.metrics import accuracy_score\n",
    "\n",
    "# === Step 1: Load & preprocess images ===\n",
    "folder = \"images/demo4\"\n",
    "X, y = [], []\n",
    "\n",
    "for filename in os.listdir(folder):\n",
    "    if filename.endswith(\".jpg\") or filename.endswith(\".png\"):\n",
    "        file_path = os.path.join(folder, filename)\n",
    "        \n",
    "        img = cv2.imread(file_path, cv2.IMREAD_GRAYSCALE)\n",
    "        img = cv2.resize(img, (64, 64))  # Resize to fixed shape\n",
    "        img = img / 255.0  # Normalize pixel values to [0, 1]\n",
    "        \n",
    "        label = 1 if \"true\" in filename else 0\n",
    "        \n",
    "        X.append(img)\n",
    "        y.append(label)\n",
    "\n",
    "X = np.array(X).reshape(-1, 64, 64, 1)  # Add channel dimension\n",
    "y = np.array(y)\n",
    "\n",
    "# === Step 2: Train/test split ===\n",
    "X_train, X_test, y_train, y_test = train_test_split(X, y, test_size=0.2, random_state=42)\n",
    "\n",
    "# === Step 3: Build CNN model ===\n",
    "model = Sequential([\n",
    "    Conv2D(32, (3, 3), activation='relu', input_shape=(64, 64, 1)),\n",
    "    MaxPooling2D(2, 2),\n",
    "    \n",
    "    Conv2D(64, (3, 3), activation='relu'),\n",
    "    MaxPooling2D(2, 2),\n",
    "\n",
    "    Flatten(),\n",
    "    Dense(64, activation='relu'),\n",
    "    Dropout(0.5),\n",
    "    Dense(1, activation='sigmoid')  # Binary classification\n",
    "])\n",
    "\n",
    "model.compile(optimizer='adam', loss='binary_crossentropy', metrics=['accuracy'])\n",
    "\n",
    "# === Step 4: Train ===\n",
    "model.fit(X_train, y_train, epochs=100, batch_size=16, validation_split=0.1)\n",
    "\n",
    "# === Step 5: Evaluate ===\n",
    "y_pred_probs = model.predict(X_test)\n",
    "y_pred = (y_pred_probs > 0.5).astype(\"int\").flatten()\n",
    "\n",
    "acc = accuracy_score(y_test, y_pred)\n",
    "print(f\"\\nCNN Occupancy Detector Accuracy: {acc:.4f}\")\n",
    "\n",
    "# === Step 6: Print Actual vs Predicted Labels ===\n",
    "print(\"\\nStatus\\t\\tActual\\tPredicted\")\n",
    "for i in range(len(y_test)):\n",
    "    actual = y_test[i]\n",
    "    pred = y_pred[i]\n",
    "    status = \"Correct\" if actual == pred else \"Wrong\"\n",
    "    print(f\"{status}\\t\\t{actual}\\t{pred}\")\n"
   ]
  },
  {
   "cell_type": "code",
   "execution_count": 7,
   "id": "39652992",
   "metadata": {},
   "outputs": [
    {
     "name": "stdout",
     "output_type": "stream",
     "text": [
      "Trying different thresholds...\n"
     ]
    },
    {
     "ename": "KeyboardInterrupt",
     "evalue": "",
     "output_type": "error",
     "traceback": [
      "\u001b[0;31m---------------------------------------------------------------------------\u001b[0m",
      "\u001b[0;31mKeyboardInterrupt\u001b[0m                         Traceback (most recent call last)",
      "Cell \u001b[0;32mIn[7], line 33\u001b[0m\n\u001b[1;32m     30\u001b[0m \u001b[38;5;28;01mfor\u001b[39;00m std_thresh \u001b[38;5;129;01min\u001b[39;00m \u001b[38;5;28mrange\u001b[39m(\u001b[38;5;241m5\u001b[39m, \u001b[38;5;241m1000\u001b[39m, \u001b[38;5;241m5\u001b[39m):\n\u001b[1;32m     31\u001b[0m     \u001b[38;5;28;01mfor\u001b[39;00m edge_thresh \u001b[38;5;129;01min\u001b[39;00m \u001b[38;5;28mrange\u001b[39m(\u001b[38;5;241m2\u001b[39m, \u001b[38;5;241m2000\u001b[39m, \u001b[38;5;241m10\u001b[39m):\n\u001b[1;32m     32\u001b[0m         predicted_labels \u001b[38;5;241m=\u001b[39m [\n\u001b[0;32m---> 33\u001b[0m             \u001b[38;5;241m1\u001b[39m \u001b[38;5;28;01mif\u001b[39;00m \u001b[43mis_occupied\u001b[49m\u001b[43m(\u001b[49m\u001b[43mimg\u001b[49m\u001b[43m,\u001b[49m\u001b[43m \u001b[49m\u001b[43mstd_thresh\u001b[49m\u001b[43m,\u001b[49m\u001b[43m \u001b[49m\u001b[43medge_thresh\u001b[49m\u001b[43m)\u001b[49m \u001b[38;5;28;01melse\u001b[39;00m \u001b[38;5;241m0\u001b[39m\n\u001b[1;32m     34\u001b[0m             \u001b[38;5;28;01mfor\u001b[39;00m img \u001b[38;5;129;01min\u001b[39;00m images\n\u001b[1;32m     35\u001b[0m         ]\n\u001b[1;32m     36\u001b[0m         acc \u001b[38;5;241m=\u001b[39m accuracy_score(actual_labels, predicted_labels)\n\u001b[1;32m     38\u001b[0m         \u001b[38;5;28;01mif\u001b[39;00m acc \u001b[38;5;241m>\u001b[39m best_acc:\n",
      "Cell \u001b[0;32mIn[7], line 8\u001b[0m, in \u001b[0;36mis_occupied\u001b[0;34m(img, std_thresh, edge_thresh)\u001b[0m\n\u001b[1;32m      7\u001b[0m \u001b[38;5;28;01mdef\u001b[39;00m \u001b[38;5;21mis_occupied\u001b[39m(img, std_thresh, edge_thresh):\n\u001b[0;32m----> 8\u001b[0m     std_dev \u001b[38;5;241m=\u001b[39m \u001b[43mnp\u001b[49m\u001b[38;5;241;43m.\u001b[39;49m\u001b[43mstd\u001b[49m\u001b[43m(\u001b[49m\u001b[43mimg\u001b[49m\u001b[43m)\u001b[49m\n\u001b[1;32m      9\u001b[0m     edges \u001b[38;5;241m=\u001b[39m cv2\u001b[38;5;241m.\u001b[39mCanny(img, edge_thresh \u001b[38;5;241m/\u001b[39m\u001b[38;5;241m/\u001b[39m \u001b[38;5;241m2\u001b[39m, edge_thresh)\n\u001b[1;32m     10\u001b[0m     edge_density \u001b[38;5;241m=\u001b[39m np\u001b[38;5;241m.\u001b[39msum(edges \u001b[38;5;241m>\u001b[39m \u001b[38;5;241m0\u001b[39m) \u001b[38;5;241m/\u001b[39m img\u001b[38;5;241m.\u001b[39msize\n",
      "File \u001b[0;32m/usr/lib/python3/dist-packages/numpy/core/fromnumeric.py:3645\u001b[0m, in \u001b[0;36mstd\u001b[0;34m(a, axis, dtype, out, ddof, keepdims, where)\u001b[0m\n\u001b[1;32m   3642\u001b[0m     \u001b[38;5;28;01melse\u001b[39;00m:\n\u001b[1;32m   3643\u001b[0m         \u001b[38;5;28;01mreturn\u001b[39;00m std(axis\u001b[38;5;241m=\u001b[39maxis, dtype\u001b[38;5;241m=\u001b[39mdtype, out\u001b[38;5;241m=\u001b[39mout, ddof\u001b[38;5;241m=\u001b[39mddof, \u001b[38;5;241m*\u001b[39m\u001b[38;5;241m*\u001b[39mkwargs)\n\u001b[0;32m-> 3645\u001b[0m \u001b[38;5;28;01mreturn\u001b[39;00m \u001b[43m_methods\u001b[49m\u001b[38;5;241;43m.\u001b[39;49m\u001b[43m_std\u001b[49m\u001b[43m(\u001b[49m\u001b[43ma\u001b[49m\u001b[43m,\u001b[49m\u001b[43m \u001b[49m\u001b[43maxis\u001b[49m\u001b[38;5;241;43m=\u001b[39;49m\u001b[43maxis\u001b[49m\u001b[43m,\u001b[49m\u001b[43m \u001b[49m\u001b[43mdtype\u001b[49m\u001b[38;5;241;43m=\u001b[39;49m\u001b[43mdtype\u001b[49m\u001b[43m,\u001b[49m\u001b[43m \u001b[49m\u001b[43mout\u001b[49m\u001b[38;5;241;43m=\u001b[39;49m\u001b[43mout\u001b[49m\u001b[43m,\u001b[49m\u001b[43m \u001b[49m\u001b[43mddof\u001b[49m\u001b[38;5;241;43m=\u001b[39;49m\u001b[43mddof\u001b[49m\u001b[43m,\u001b[49m\n\u001b[1;32m   3646\u001b[0m \u001b[43m                     \u001b[49m\u001b[38;5;241;43m*\u001b[39;49m\u001b[38;5;241;43m*\u001b[39;49m\u001b[43mkwargs\u001b[49m\u001b[43m)\u001b[49m\n",
      "File \u001b[0;32m/usr/lib/python3/dist-packages/numpy/core/_methods.py:206\u001b[0m, in \u001b[0;36m_std\u001b[0;34m(a, axis, dtype, out, ddof, keepdims, where)\u001b[0m\n\u001b[1;32m    204\u001b[0m \u001b[38;5;28;01mdef\u001b[39;00m \u001b[38;5;21m_std\u001b[39m(a, axis\u001b[38;5;241m=\u001b[39m\u001b[38;5;28;01mNone\u001b[39;00m, dtype\u001b[38;5;241m=\u001b[39m\u001b[38;5;28;01mNone\u001b[39;00m, out\u001b[38;5;241m=\u001b[39m\u001b[38;5;28;01mNone\u001b[39;00m, ddof\u001b[38;5;241m=\u001b[39m\u001b[38;5;241m0\u001b[39m, keepdims\u001b[38;5;241m=\u001b[39m\u001b[38;5;28;01mFalse\u001b[39;00m, \u001b[38;5;241m*\u001b[39m,\n\u001b[1;32m    205\u001b[0m          where\u001b[38;5;241m=\u001b[39m\u001b[38;5;28;01mTrue\u001b[39;00m):\n\u001b[0;32m--> 206\u001b[0m     ret \u001b[38;5;241m=\u001b[39m \u001b[43m_var\u001b[49m\u001b[43m(\u001b[49m\u001b[43ma\u001b[49m\u001b[43m,\u001b[49m\u001b[43m \u001b[49m\u001b[43maxis\u001b[49m\u001b[38;5;241;43m=\u001b[39;49m\u001b[43maxis\u001b[49m\u001b[43m,\u001b[49m\u001b[43m \u001b[49m\u001b[43mdtype\u001b[49m\u001b[38;5;241;43m=\u001b[39;49m\u001b[43mdtype\u001b[49m\u001b[43m,\u001b[49m\u001b[43m \u001b[49m\u001b[43mout\u001b[49m\u001b[38;5;241;43m=\u001b[39;49m\u001b[43mout\u001b[49m\u001b[43m,\u001b[49m\u001b[43m \u001b[49m\u001b[43mddof\u001b[49m\u001b[38;5;241;43m=\u001b[39;49m\u001b[43mddof\u001b[49m\u001b[43m,\u001b[49m\n\u001b[1;32m    207\u001b[0m \u001b[43m               \u001b[49m\u001b[43mkeepdims\u001b[49m\u001b[38;5;241;43m=\u001b[39;49m\u001b[43mkeepdims\u001b[49m\u001b[43m,\u001b[49m\u001b[43m \u001b[49m\u001b[43mwhere\u001b[49m\u001b[38;5;241;43m=\u001b[39;49m\u001b[43mwhere\u001b[49m\u001b[43m)\u001b[49m\n\u001b[1;32m    209\u001b[0m     \u001b[38;5;28;01mif\u001b[39;00m \u001b[38;5;28misinstance\u001b[39m(ret, mu\u001b[38;5;241m.\u001b[39mndarray):\n\u001b[1;32m    210\u001b[0m         ret \u001b[38;5;241m=\u001b[39m um\u001b[38;5;241m.\u001b[39msqrt(ret, out\u001b[38;5;241m=\u001b[39mret)\n",
      "File \u001b[0;32m/usr/lib/python3/dist-packages/numpy/core/_methods.py:163\u001b[0m, in \u001b[0;36m_var\u001b[0;34m(a, axis, dtype, out, ddof, keepdims, where)\u001b[0m\n\u001b[1;32m    161\u001b[0m \u001b[38;5;28;01mif\u001b[39;00m \u001b[38;5;28misinstance\u001b[39m(arrmean, mu\u001b[38;5;241m.\u001b[39mndarray):\n\u001b[1;32m    162\u001b[0m     \u001b[38;5;28;01mwith\u001b[39;00m _no_nep50_warning():\n\u001b[0;32m--> 163\u001b[0m         arrmean \u001b[38;5;241m=\u001b[39m \u001b[43mum\u001b[49m\u001b[38;5;241;43m.\u001b[39;49m\u001b[43mtrue_divide\u001b[49m\u001b[43m(\u001b[49m\u001b[43marrmean\u001b[49m\u001b[43m,\u001b[49m\u001b[43m \u001b[49m\u001b[43mdiv\u001b[49m\u001b[43m,\u001b[49m\u001b[43m \u001b[49m\u001b[43mout\u001b[49m\u001b[38;5;241;43m=\u001b[39;49m\u001b[43marrmean\u001b[49m\u001b[43m,\u001b[49m\n\u001b[1;32m    164\u001b[0m \u001b[43m                                 \u001b[49m\u001b[43mcasting\u001b[49m\u001b[38;5;241;43m=\u001b[39;49m\u001b[38;5;124;43m'\u001b[39;49m\u001b[38;5;124;43munsafe\u001b[39;49m\u001b[38;5;124;43m'\u001b[39;49m\u001b[43m,\u001b[49m\u001b[43m \u001b[49m\u001b[43msubok\u001b[49m\u001b[38;5;241;43m=\u001b[39;49m\u001b[38;5;28;43;01mFalse\u001b[39;49;00m\u001b[43m)\u001b[49m\n\u001b[1;32m    165\u001b[0m \u001b[38;5;28;01melif\u001b[39;00m \u001b[38;5;28mhasattr\u001b[39m(arrmean, \u001b[38;5;124m\"\u001b[39m\u001b[38;5;124mdtype\u001b[39m\u001b[38;5;124m\"\u001b[39m):\n\u001b[1;32m    166\u001b[0m     arrmean \u001b[38;5;241m=\u001b[39m arrmean\u001b[38;5;241m.\u001b[39mdtype\u001b[38;5;241m.\u001b[39mtype(arrmean \u001b[38;5;241m/\u001b[39m rcount)\n",
      "\u001b[0;31mKeyboardInterrupt\u001b[0m: "
     ]
    }
   ],
   "source": [
    "# import os\n",
    "# import cv2\n",
    "# import numpy as np\n",
    "# from sklearn.metrics import accuracy_score\n",
    "\n",
    "# # === Rule-based occupancy detector ===\n",
    "# def is_occupied(img, std_thresh, edge_thresh):\n",
    "#     std_dev = np.std(img)\n",
    "#     edges = cv2.Canny(img, edge_thresh // 2, edge_thresh)\n",
    "#     edge_density = np.sum(edges > 0) / img.size\n",
    "#     return std_dev > std_thresh and edge_density > 0.02\n",
    "\n",
    "# # === Load data and actual labels from filenames ===\n",
    "# folder = \"images/demo5\"\n",
    "# images = []\n",
    "# actual_labels = []\n",
    "\n",
    "# for filename in os.listdir(folder):\n",
    "#     if filename.endswith(\".jpg\") or filename.endswith(\".png\"):\n",
    "#         file_path = os.path.join(folder, filename)\n",
    "#         img = cv2.imread(file_path, cv2.IMREAD_GRAYSCALE)\n",
    "#         images.append(img)\n",
    "#         actual_labels.append(1 if \"true\" in filename else 0)\n",
    "\n",
    "# # === Try various combinations of thresholds ===\n",
    "# best_acc = 0\n",
    "# best_params = (0, 0)\n",
    "\n",
    "# print(\"Trying different thresholds...\")\n",
    "# for std_thresh in range(0, 1000, 5):\n",
    "#     for edge_thresh in range(0, 2000, 10):\n",
    "#         predicted_labels = [\n",
    "#             1 if is_occupied(img, std_thresh, edge_thresh) else 0\n",
    "#             for img in images\n",
    "#         ]\n",
    "#         acc = accuracy_score(actual_labels, predicted_labels)\n",
    "        \n",
    "#         if acc > best_acc:\n",
    "#             best_acc = acc\n",
    "#             best_params = (std_thresh, edge_thresh)\n",
    "\n",
    "# print(f\"\\n✅ Best Accuracy: {best_acc:.4f}\")\n",
    "# print(f\"Optimal std_thresh: {best_params[0]}, edge_thresh: {best_params[1]}\")\n",
    "\n",
    "\n",
    "\n",
    "\n",
    "\n",
    "import os\n",
    "import cv2\n",
    "import numpy as np\n",
    "from sklearn.metrics import accuracy_score\n",
    "\n",
    "# === Rule-based occupancy detector ===\n",
    "def is_occupied(img, std_thresh, edge_thresh):\n",
    "    std_dev = np.std(img)\n",
    "    edges = cv2.Canny(img, edge_thresh // 2, edge_thresh)\n",
    "    edge_density = np.sum(edges > 0) / img.size\n",
    "    return std_dev > std_thresh and edge_density > 0.02\n",
    "\n",
    "# === Load data and actual labels from filenames ===\n",
    "folder = \"images/demo5\"\n",
    "images = []\n",
    "actual_labels = []\n",
    "filenames = []\n",
    "\n",
    "for filename in os.listdir(folder):\n",
    "    if filename.endswith(\".jpg\") or filename.endswith(\".png\"):\n",
    "        file_path = os.path.join(folder, filename)\n",
    "        img = cv2.imread(file_path, cv2.IMREAD_GRAYSCALE)\n",
    "        images.append(img)\n",
    "        actual_labels.append(1 if \"true\" in filename else 0)\n",
    "        filenames.append(filename)\n",
    "\n",
    "# === Try various combinations of thresholds ===\n",
    "best_acc = 0\n",
    "best_params = (0, 0)\n",
    "best_predictions = []\n",
    "\n",
    "print(\"Trying different thresholds...\")\n",
    "for std_thresh in range(0, 1000, 5):\n",
    "    for edge_thresh in range(0, 2000, 10):\n",
    "        predicted_labels = [\n",
    "            1 if is_occupied(img, std_thresh, edge_thresh) else 0\n",
    "            for img in images\n",
    "        ]\n",
    "        acc = accuracy_score(actual_labels, predicted_labels)\n",
    "        \n",
    "        if acc > best_acc:\n",
    "            best_acc = acc\n",
    "            best_params = (std_thresh, edge_thresh)\n",
    "            best_predictions = predicted_labels.copy()\n",
    "\n",
    "# === Output best result summary ===\n",
    "print(f\"\\n✅ Best Accuracy: {best_acc:.4f}\")\n",
    "print(f\"Optimal std_thresh: {best_params[0]}, edge_thresh: {best_params[1]}\")\n",
    "print(\"\\nStatus\\t\\tActual\\tPredicted\\tFilename\")\n",
    "\n",
    "for actual, predicted, fname in zip(actual_labels, best_predictions, filenames):\n",
    "    status = \"Correct\" if actual == predicted else \"Wrong\"\n",
    "    print(f\"{status}\\t\\t{actual}\\t{predicted}\\t\\t{fname}\")\n",
    "\n"
   ]
  },
  {
   "cell_type": "code",
   "execution_count": null,
   "id": "2fd9c07f-6d08-4036-a35f-bc2c12fc595f",
   "metadata": {},
   "outputs": [],
   "source": [
    "TP = 0 # True Positives: Actual 1 and Pred 1\n",
    "FP = 0 # False Positives: Actual 0 but Pred 1\n",
    "FN = 0 # False Negatives: Actual 1 but Pred 0\n",
    "TN = 0 # True Negatives: Actual 0 and Pred 0"
   ]
  },
  {
   "cell_type": "code",
   "execution_count": null,
   "id": "bd20fccb-8c17-4a32-8005-92dabe198884",
   "metadata": {
    "scrolled": true
   },
   "outputs": [],
   "source": [
    "count = 0\n",
    "for i in actual_labels:\n",
    "    count+=1 if i==1 else 0\n",
    "\n",
    "print(count)"
   ]
  },
  {
   "cell_type": "code",
   "execution_count": null,
   "id": "000332c8-16bd-42f9-8513-04657c6b40ef",
   "metadata": {},
   "outputs": [],
   "source": [
    "len(actual_labels)"
   ]
  },
  {
   "cell_type": "code",
   "execution_count": null,
   "id": "fda9a97c-d020-4f4e-bd4a-d95e8214517d",
   "metadata": {},
   "outputs": [],
   "source": [
    "count = 0\n",
    "for i in predicted_labels:\n",
    "    count+=1 if i==1 else 0\n",
    "\n",
    "print(count)"
   ]
  },
  {
   "cell_type": "code",
   "execution_count": 55,
   "id": "74e56d0a-ee2b-4fcf-8b87-bb31bc3d4276",
   "metadata": {},
   "outputs": [],
   "source": [
    "for i in range(64):\n",
    "    TP+=1 if actual_labels[i]==1 and predicted_labels[i]==1 else 0\n",
    "    FP+=1 if actual_labels[i]==0 and predicted_labels[i]==1 else 0\n",
    "    FN+=1 if actual_labels[i]==1 and predicted_labels[i]==0 else 0\n",
    "    TN+=1 if actual_labels[i]==0 and predicted_labels[i]==0 else 0"
   ]
  },
  {
   "cell_type": "code",
   "execution_count": 56,
   "id": "f7223c39-b740-4fbe-8dca-6fa5967369c3",
   "metadata": {},
   "outputs": [
    {
     "data": {
      "text/plain": [
       "0.625"
      ]
     },
     "execution_count": 56,
     "metadata": {},
     "output_type": "execute_result"
    }
   ],
   "source": [
    "from sklearn.metrics import accuracy_score\n",
    "y_pred = [0, 2, 1, 3]\n",
    "y_true = [0, 1, 2, 3]\n",
    "accuracy_score(actual_labels, predicted_labels)"
   ]
  },
  {
   "cell_type": "code",
   "execution_count": 57,
   "id": "f4e1ed09-6d09-47a4-a0aa-9711cd8411b5",
   "metadata": {},
   "outputs": [
    {
     "name": "stdout",
     "output_type": "stream",
     "text": [
      "Accuracy = 0.625\n"
     ]
    }
   ],
   "source": [
    "print(f\"Accuracy = {(TP+TN)/(TP+TN+FN+FP)}\")"
   ]
  },
  {
   "cell_type": "code",
   "execution_count": null,
   "id": "dcc819dd",
   "metadata": {},
   "outputs": [],
   "source": [
    "# model = RandomForestClassifier()"
   ]
  },
  {
   "cell_type": "code",
   "execution_count": 18,
   "id": "a03a8ba4-cf97-4fec-adbf-864a890c5216",
   "metadata": {},
   "outputs": [
    {
     "name": "stdout",
     "output_type": "stream",
     "text": [
      "Std_dev = 40.523988249462306\n",
      "edge_density = 0.10067637877211238\n"
     ]
    },
    {
     "data": {
      "text/plain": [
       "True"
      ]
     },
     "execution_count": 18,
     "metadata": {},
     "output_type": "execute_result"
    }
   ],
   "source": [
    "od.is_occupied(cv2.imread(\"images/demo/box-10-true.jpg\",cv2.IMREAD_GRAYSCALE))"
   ]
  },
  {
   "cell_type": "code",
   "execution_count": 20,
   "id": "2bb803c8-dcc1-44b0-bb6e-a30bb2029266",
   "metadata": {},
   "outputs": [
    {
     "name": "stdout",
     "output_type": "stream",
     "text": [
      "Std_dev = 41.5222200709579\n",
      "edge_density = 0.04890738813735692\n"
     ]
    },
    {
     "data": {
      "text/plain": [
       "True"
      ]
     },
     "execution_count": 20,
     "metadata": {},
     "output_type": "execute_result"
    }
   ],
   "source": [
    "od.is_occupied(cv2.imread(\"images/demo/box-17.jpg\",cv2.IMREAD_GRAYSCALE))"
   ]
  },
  {
   "cell_type": "code",
   "execution_count": 39,
   "id": "9395cc38-60c3-4a0f-99ad-91b53f0425a1",
   "metadata": {},
   "outputs": [],
   "source": [
    "def is_occupied(square_img, std_thresh=27, edge_thresh=100):\n",
    "    std_dev = np.std(square_img)\n",
    "    edges = cv2.Canny(square_img, 50, 150)\n",
    "    edge_density = np.sum(edges > 0) / square_img.size\n",
    "    print(f\"Std_dev = {std_dev}\")\n",
    "    print(f\"edge_density = {edge_density}\")\n",
    "    return std_dev > std_thresh and edge_density > 0.02"
   ]
  },
  {
   "cell_type": "code",
   "execution_count": 40,
   "id": "7e8f7513-0b97-4a0b-aecc-9d1064edf114",
   "metadata": {},
   "outputs": [
    {
     "name": "stdout",
     "output_type": "stream",
     "text": [
      "Std_dev = 26.26463519151476\n",
      "edge_density = 0.02423411065386374\n"
     ]
    },
    {
     "data": {
      "text/plain": [
       "False"
      ]
     },
     "execution_count": 40,
     "metadata": {},
     "output_type": "execute_result"
    }
   ],
   "source": [
    "is_occupied(cv2.imread(\"images/box-2.jpg\",cv2.IMREAD_GRAYSCALE))"
   ]
  },
  {
   "cell_type": "code",
   "execution_count": 41,
   "id": "10a9ff9b-cf78-428f-9804-bfb90fd20feb",
   "metadata": {},
   "outputs": [
    {
     "name": "stdout",
     "output_type": "stream",
     "text": [
      "Std_dev = 61.01861777268127\n",
      "edge_density = 0.07133058984910837\n"
     ]
    },
    {
     "data": {
      "text/plain": [
       "True"
      ]
     },
     "execution_count": 41,
     "metadata": {},
     "output_type": "execute_result"
    }
   ],
   "source": [
    "is_occupied(cv2.imread(\"images/box-9-true.jpg\",cv2.IMREAD_GRAYSCALE))"
   ]
  },
  {
   "cell_type": "code",
   "execution_count": null,
   "id": "2d392e46-0f9d-4d62-8cf3-bfae312464e4",
   "metadata": {},
   "outputs": [],
   "source": []
  },
  {
   "cell_type": "code",
   "execution_count": 42,
   "id": "94629c25-c54d-41c6-8dca-e1c8ab715331",
   "metadata": {},
   "outputs": [
    {
     "name": "stdout",
     "output_type": "stream",
     "text": [
      "45\n"
     ]
    }
   ],
   "source": [
    "count = 0\n",
    "for i in predicted_labels:\n",
    "    count+=1 if i==1 else 0\n",
    "\n",
    "print(count)"
   ]
  },
  {
   "cell_type": "code",
   "execution_count": 32,
   "id": "c04d63e0-07a7-466b-a8b2-7074321d06a2",
   "metadata": {
    "scrolled": true
   },
   "outputs": [
    {
     "name": "stdout",
     "output_type": "stream",
     "text": [
      "Status\t\tActual\tPredicted\n"
     ]
    }
   ],
   "source": [
    "folder = \"../images\"\n",
    "actual_labels, predicted_labels,sd,edge_densities = [],[],[],[]\n",
    "std_thresh=27;edge_thresh=100\n",
    "\n",
    "file_paths=[]\n",
    "print(\"Status\\t\\tActual\\tPredicted\")\n",
    "\n",
    "for filename in os.listdir(folder):\n",
    "    if filename.endswith(\".jpg\") or filename.endswith(\".png\"):\n",
    "        file_path = os.path.join(folder, filename)\n",
    "        file_paths+=[file_path]\n",
    "        \n",
    "        square_img = cv2.imread(file_path,cv2.IMREAD_GRAYSCALE)\n",
    "        square_img = square_img[10:-10,10:-10]\n",
    "        \n",
    "        actual_labels+=[1] if \"true\" in filename else [0]\n",
    "        \n",
    "        std_dev = np.std(square_img)\n",
    "        edges = cv2.Canny(square_img, 50, 150)\n",
    "        edge_density = np.sum(edges > 0) / square_img.size\n",
    "\n",
    "        predicted_labels+=[1] if (edge_density > 0.02) else [0]\n",
    "        \n",
    "        sd+=[std_dev]\n",
    "        edge_densities+=[edge_density]"
   ]
  },
  {
   "cell_type": "code",
   "execution_count": 33,
   "id": "703f9153-e4f8-4000-92bc-778b2fab5b78",
   "metadata": {},
   "outputs": [],
   "source": [
    "df = dict({\n",
    "    \"file_path\":file_paths,\n",
    "    # \"std_dev\":sd,\n",
    "    \"edge_density\":edge_densities,\n",
    "    \"actual_label\":actual_labels,\n",
    "    \"predicted_label\":predicted_labels\n",
    "})"
   ]
  },
  {
   "cell_type": "code",
   "execution_count": 34,
   "id": "c286f2b7-a02e-402a-bd0f-69e272facfed",
   "metadata": {},
   "outputs": [
    {
     "data": {
      "text/html": [
       "<div>\n",
       "<style scoped>\n",
       "    .dataframe tbody tr th:only-of-type {\n",
       "        vertical-align: middle;\n",
       "    }\n",
       "\n",
       "    .dataframe tbody tr th {\n",
       "        vertical-align: top;\n",
       "    }\n",
       "\n",
       "    .dataframe thead th {\n",
       "        text-align: right;\n",
       "    }\n",
       "</style>\n",
       "<table border=\"1\" class=\"dataframe\">\n",
       "  <thead>\n",
       "    <tr style=\"text-align: right;\">\n",
       "      <th></th>\n",
       "      <th>file_path</th>\n",
       "      <th>edge_density</th>\n",
       "      <th>actual_label</th>\n",
       "      <th>predicted_label</th>\n",
       "    </tr>\n",
       "  </thead>\n",
       "  <tbody>\n",
       "    <tr>\n",
       "      <th>0</th>\n",
       "      <td>../images/box-53-true.jpg</td>\n",
       "      <td>0.018006</td>\n",
       "      <td>1</td>\n",
       "      <td>0</td>\n",
       "    </tr>\n",
       "    <tr>\n",
       "      <th>1</th>\n",
       "      <td>../images/box-27.jpg</td>\n",
       "      <td>0.000000</td>\n",
       "      <td>0</td>\n",
       "      <td>0</td>\n",
       "    </tr>\n",
       "    <tr>\n",
       "      <th>2</th>\n",
       "      <td>../images/box-32.jpg</td>\n",
       "      <td>0.000000</td>\n",
       "      <td>0</td>\n",
       "      <td>0</td>\n",
       "    </tr>\n",
       "    <tr>\n",
       "      <th>3</th>\n",
       "      <td>../images/box-48.jpg</td>\n",
       "      <td>0.000000</td>\n",
       "      <td>0</td>\n",
       "      <td>0</td>\n",
       "    </tr>\n",
       "    <tr>\n",
       "      <th>4</th>\n",
       "      <td>../images/box-41-true.jpg</td>\n",
       "      <td>0.118248</td>\n",
       "      <td>1</td>\n",
       "      <td>1</td>\n",
       "    </tr>\n",
       "    <tr>\n",
       "      <th>...</th>\n",
       "      <td>...</td>\n",
       "      <td>...</td>\n",
       "      <td>...</td>\n",
       "      <td>...</td>\n",
       "    </tr>\n",
       "    <tr>\n",
       "      <th>59</th>\n",
       "      <td>../images/box-29-true.jpg</td>\n",
       "      <td>0.077130</td>\n",
       "      <td>1</td>\n",
       "      <td>1</td>\n",
       "    </tr>\n",
       "    <tr>\n",
       "      <th>60</th>\n",
       "      <td>../images/box-12-true.jpg</td>\n",
       "      <td>0.026068</td>\n",
       "      <td>1</td>\n",
       "      <td>1</td>\n",
       "    </tr>\n",
       "    <tr>\n",
       "      <th>61</th>\n",
       "      <td>../images/box-23.jpg</td>\n",
       "      <td>0.004569</td>\n",
       "      <td>0</td>\n",
       "      <td>0</td>\n",
       "    </tr>\n",
       "    <tr>\n",
       "      <th>62</th>\n",
       "      <td>../images/box-18.jpg</td>\n",
       "      <td>0.000000</td>\n",
       "      <td>0</td>\n",
       "      <td>0</td>\n",
       "    </tr>\n",
       "    <tr>\n",
       "      <th>63</th>\n",
       "      <td>../images/box-37-true.jpg</td>\n",
       "      <td>0.051599</td>\n",
       "      <td>1</td>\n",
       "      <td>1</td>\n",
       "    </tr>\n",
       "  </tbody>\n",
       "</table>\n",
       "<p>64 rows × 4 columns</p>\n",
       "</div>"
      ],
      "text/plain": [
       "                    file_path  edge_density  actual_label  predicted_label\n",
       "0   ../images/box-53-true.jpg      0.018006             1                0\n",
       "1        ../images/box-27.jpg      0.000000             0                0\n",
       "2        ../images/box-32.jpg      0.000000             0                0\n",
       "3        ../images/box-48.jpg      0.000000             0                0\n",
       "4   ../images/box-41-true.jpg      0.118248             1                1\n",
       "..                        ...           ...           ...              ...\n",
       "59  ../images/box-29-true.jpg      0.077130             1                1\n",
       "60  ../images/box-12-true.jpg      0.026068             1                1\n",
       "61       ../images/box-23.jpg      0.004569             0                0\n",
       "62       ../images/box-18.jpg      0.000000             0                0\n",
       "63  ../images/box-37-true.jpg      0.051599             1                1\n",
       "\n",
       "[64 rows x 4 columns]"
      ]
     },
     "execution_count": 34,
     "metadata": {},
     "output_type": "execute_result"
    }
   ],
   "source": [
    "df = pd.DataFrame(df)\n",
    "df"
   ]
  },
  {
   "cell_type": "code",
   "execution_count": 35,
   "id": "66567bd1-b2ae-4573-9a48-a2fbfce1937b",
   "metadata": {},
   "outputs": [
    {
     "data": {
      "text/html": [
       "<div>\n",
       "<style scoped>\n",
       "    .dataframe tbody tr th:only-of-type {\n",
       "        vertical-align: middle;\n",
       "    }\n",
       "\n",
       "    .dataframe tbody tr th {\n",
       "        vertical-align: top;\n",
       "    }\n",
       "\n",
       "    .dataframe thead th {\n",
       "        text-align: right;\n",
       "    }\n",
       "</style>\n",
       "<table border=\"1\" class=\"dataframe\">\n",
       "  <thead>\n",
       "    <tr style=\"text-align: right;\">\n",
       "      <th></th>\n",
       "      <th>file_path</th>\n",
       "      <th>edge_density</th>\n",
       "      <th>actual_label</th>\n",
       "      <th>predicted_label</th>\n",
       "    </tr>\n",
       "  </thead>\n",
       "  <tbody>\n",
       "    <tr>\n",
       "      <th>0</th>\n",
       "      <td>../images/box-53-true.jpg</td>\n",
       "      <td>0.018006</td>\n",
       "      <td>1</td>\n",
       "      <td>0</td>\n",
       "    </tr>\n",
       "    <tr>\n",
       "      <th>4</th>\n",
       "      <td>../images/box-41-true.jpg</td>\n",
       "      <td>0.118248</td>\n",
       "      <td>1</td>\n",
       "      <td>1</td>\n",
       "    </tr>\n",
       "    <tr>\n",
       "      <th>15</th>\n",
       "      <td>../images/box-14-true.jpg</td>\n",
       "      <td>0.083042</td>\n",
       "      <td>1</td>\n",
       "      <td>1</td>\n",
       "    </tr>\n",
       "    <tr>\n",
       "      <th>16</th>\n",
       "      <td>../images/box-52-true.jpg</td>\n",
       "      <td>0.048643</td>\n",
       "      <td>1</td>\n",
       "      <td>1</td>\n",
       "    </tr>\n",
       "    <tr>\n",
       "      <th>22</th>\n",
       "      <td>../images/box-26-true.jpg</td>\n",
       "      <td>0.101317</td>\n",
       "      <td>1</td>\n",
       "      <td>1</td>\n",
       "    </tr>\n",
       "    <tr>\n",
       "      <th>24</th>\n",
       "      <td>../images/box-59-true.jpg</td>\n",
       "      <td>0.046762</td>\n",
       "      <td>1</td>\n",
       "      <td>1</td>\n",
       "    </tr>\n",
       "    <tr>\n",
       "      <th>28</th>\n",
       "      <td>../images/box-9-true.jpg</td>\n",
       "      <td>0.069874</td>\n",
       "      <td>1</td>\n",
       "      <td>1</td>\n",
       "    </tr>\n",
       "    <tr>\n",
       "      <th>29</th>\n",
       "      <td>../images/box-47-true.jpg</td>\n",
       "      <td>0.071486</td>\n",
       "      <td>1</td>\n",
       "      <td>1</td>\n",
       "    </tr>\n",
       "    <tr>\n",
       "      <th>30</th>\n",
       "      <td>../images/box-17-true.jpg</td>\n",
       "      <td>0.123085</td>\n",
       "      <td>1</td>\n",
       "      <td>1</td>\n",
       "    </tr>\n",
       "    <tr>\n",
       "      <th>35</th>\n",
       "      <td>../images/box-28-true.jpg</td>\n",
       "      <td>0.105617</td>\n",
       "      <td>1</td>\n",
       "      <td>1</td>\n",
       "    </tr>\n",
       "    <tr>\n",
       "      <th>44</th>\n",
       "      <td>../images/box-42-true.jpg</td>\n",
       "      <td>0.061005</td>\n",
       "      <td>1</td>\n",
       "      <td>1</td>\n",
       "    </tr>\n",
       "    <tr>\n",
       "      <th>48</th>\n",
       "      <td>../images/box-38-true.jpg</td>\n",
       "      <td>0.081698</td>\n",
       "      <td>1</td>\n",
       "      <td>1</td>\n",
       "    </tr>\n",
       "    <tr>\n",
       "      <th>55</th>\n",
       "      <td>../images/box-25-true.jpg</td>\n",
       "      <td>0.071755</td>\n",
       "      <td>1</td>\n",
       "      <td>1</td>\n",
       "    </tr>\n",
       "    <tr>\n",
       "      <th>59</th>\n",
       "      <td>../images/box-29-true.jpg</td>\n",
       "      <td>0.077130</td>\n",
       "      <td>1</td>\n",
       "      <td>1</td>\n",
       "    </tr>\n",
       "    <tr>\n",
       "      <th>60</th>\n",
       "      <td>../images/box-12-true.jpg</td>\n",
       "      <td>0.026068</td>\n",
       "      <td>1</td>\n",
       "      <td>1</td>\n",
       "    </tr>\n",
       "    <tr>\n",
       "      <th>63</th>\n",
       "      <td>../images/box-37-true.jpg</td>\n",
       "      <td>0.051599</td>\n",
       "      <td>1</td>\n",
       "      <td>1</td>\n",
       "    </tr>\n",
       "  </tbody>\n",
       "</table>\n",
       "</div>"
      ],
      "text/plain": [
       "                    file_path  edge_density  actual_label  predicted_label\n",
       "0   ../images/box-53-true.jpg      0.018006             1                0\n",
       "4   ../images/box-41-true.jpg      0.118248             1                1\n",
       "15  ../images/box-14-true.jpg      0.083042             1                1\n",
       "16  ../images/box-52-true.jpg      0.048643             1                1\n",
       "22  ../images/box-26-true.jpg      0.101317             1                1\n",
       "24  ../images/box-59-true.jpg      0.046762             1                1\n",
       "28   ../images/box-9-true.jpg      0.069874             1                1\n",
       "29  ../images/box-47-true.jpg      0.071486             1                1\n",
       "30  ../images/box-17-true.jpg      0.123085             1                1\n",
       "35  ../images/box-28-true.jpg      0.105617             1                1\n",
       "44  ../images/box-42-true.jpg      0.061005             1                1\n",
       "48  ../images/box-38-true.jpg      0.081698             1                1\n",
       "55  ../images/box-25-true.jpg      0.071755             1                1\n",
       "59  ../images/box-29-true.jpg      0.077130             1                1\n",
       "60  ../images/box-12-true.jpg      0.026068             1                1\n",
       "63  ../images/box-37-true.jpg      0.051599             1                1"
      ]
     },
     "execution_count": 35,
     "metadata": {},
     "output_type": "execute_result"
    }
   ],
   "source": [
    "df[df['actual_label']==1]"
   ]
  },
  {
   "cell_type": "code",
   "execution_count": 36,
   "id": "978e63ab-906c-44c0-8f5d-4dd4d8951cbc",
   "metadata": {},
   "outputs": [
    {
     "data": {
      "text/plain": [
       "(16, 4)"
      ]
     },
     "execution_count": 36,
     "metadata": {},
     "output_type": "execute_result"
    }
   ],
   "source": [
    "df[df['actual_label']==1].shape"
   ]
  },
  {
   "cell_type": "code",
   "execution_count": 37,
   "id": "98cdffda-72fa-4970-8217-bae1aaf055be",
   "metadata": {},
   "outputs": [
    {
     "data": {
      "text/html": [
       "<div>\n",
       "<style scoped>\n",
       "    .dataframe tbody tr th:only-of-type {\n",
       "        vertical-align: middle;\n",
       "    }\n",
       "\n",
       "    .dataframe tbody tr th {\n",
       "        vertical-align: top;\n",
       "    }\n",
       "\n",
       "    .dataframe thead th {\n",
       "        text-align: right;\n",
       "    }\n",
       "</style>\n",
       "<table border=\"1\" class=\"dataframe\">\n",
       "  <thead>\n",
       "    <tr style=\"text-align: right;\">\n",
       "      <th></th>\n",
       "      <th>file_path</th>\n",
       "      <th>edge_density</th>\n",
       "      <th>actual_label</th>\n",
       "      <th>predicted_label</th>\n",
       "    </tr>\n",
       "  </thead>\n",
       "  <tbody>\n",
       "    <tr>\n",
       "      <th>4</th>\n",
       "      <td>../images/box-41-true.jpg</td>\n",
       "      <td>0.118248</td>\n",
       "      <td>1</td>\n",
       "      <td>1</td>\n",
       "    </tr>\n",
       "    <tr>\n",
       "      <th>11</th>\n",
       "      <td>../images/box-55.jpg</td>\n",
       "      <td>0.025800</td>\n",
       "      <td>0</td>\n",
       "      <td>1</td>\n",
       "    </tr>\n",
       "    <tr>\n",
       "      <th>15</th>\n",
       "      <td>../images/box-14-true.jpg</td>\n",
       "      <td>0.083042</td>\n",
       "      <td>1</td>\n",
       "      <td>1</td>\n",
       "    </tr>\n",
       "    <tr>\n",
       "      <th>16</th>\n",
       "      <td>../images/box-52-true.jpg</td>\n",
       "      <td>0.048643</td>\n",
       "      <td>1</td>\n",
       "      <td>1</td>\n",
       "    </tr>\n",
       "    <tr>\n",
       "      <th>22</th>\n",
       "      <td>../images/box-26-true.jpg</td>\n",
       "      <td>0.101317</td>\n",
       "      <td>1</td>\n",
       "      <td>1</td>\n",
       "    </tr>\n",
       "    <tr>\n",
       "      <th>24</th>\n",
       "      <td>../images/box-59-true.jpg</td>\n",
       "      <td>0.046762</td>\n",
       "      <td>1</td>\n",
       "      <td>1</td>\n",
       "    </tr>\n",
       "    <tr>\n",
       "      <th>28</th>\n",
       "      <td>../images/box-9-true.jpg</td>\n",
       "      <td>0.069874</td>\n",
       "      <td>1</td>\n",
       "      <td>1</td>\n",
       "    </tr>\n",
       "    <tr>\n",
       "      <th>29</th>\n",
       "      <td>../images/box-47-true.jpg</td>\n",
       "      <td>0.071486</td>\n",
       "      <td>1</td>\n",
       "      <td>1</td>\n",
       "    </tr>\n",
       "    <tr>\n",
       "      <th>30</th>\n",
       "      <td>../images/box-17-true.jpg</td>\n",
       "      <td>0.123085</td>\n",
       "      <td>1</td>\n",
       "      <td>1</td>\n",
       "    </tr>\n",
       "    <tr>\n",
       "      <th>35</th>\n",
       "      <td>../images/box-28-true.jpg</td>\n",
       "      <td>0.105617</td>\n",
       "      <td>1</td>\n",
       "      <td>1</td>\n",
       "    </tr>\n",
       "    <tr>\n",
       "      <th>40</th>\n",
       "      <td>../images/box-49.jpg</td>\n",
       "      <td>0.056974</td>\n",
       "      <td>0</td>\n",
       "      <td>1</td>\n",
       "    </tr>\n",
       "    <tr>\n",
       "      <th>44</th>\n",
       "      <td>../images/box-42-true.jpg</td>\n",
       "      <td>0.061005</td>\n",
       "      <td>1</td>\n",
       "      <td>1</td>\n",
       "    </tr>\n",
       "    <tr>\n",
       "      <th>48</th>\n",
       "      <td>../images/box-38-true.jpg</td>\n",
       "      <td>0.081698</td>\n",
       "      <td>1</td>\n",
       "      <td>1</td>\n",
       "    </tr>\n",
       "    <tr>\n",
       "      <th>52</th>\n",
       "      <td>../images/box-56.jpg</td>\n",
       "      <td>0.072292</td>\n",
       "      <td>0</td>\n",
       "      <td>1</td>\n",
       "    </tr>\n",
       "    <tr>\n",
       "      <th>55</th>\n",
       "      <td>../images/box-25-true.jpg</td>\n",
       "      <td>0.071755</td>\n",
       "      <td>1</td>\n",
       "      <td>1</td>\n",
       "    </tr>\n",
       "    <tr>\n",
       "      <th>59</th>\n",
       "      <td>../images/box-29-true.jpg</td>\n",
       "      <td>0.077130</td>\n",
       "      <td>1</td>\n",
       "      <td>1</td>\n",
       "    </tr>\n",
       "    <tr>\n",
       "      <th>60</th>\n",
       "      <td>../images/box-12-true.jpg</td>\n",
       "      <td>0.026068</td>\n",
       "      <td>1</td>\n",
       "      <td>1</td>\n",
       "    </tr>\n",
       "    <tr>\n",
       "      <th>63</th>\n",
       "      <td>../images/box-37-true.jpg</td>\n",
       "      <td>0.051599</td>\n",
       "      <td>1</td>\n",
       "      <td>1</td>\n",
       "    </tr>\n",
       "  </tbody>\n",
       "</table>\n",
       "</div>"
      ],
      "text/plain": [
       "                    file_path  edge_density  actual_label  predicted_label\n",
       "4   ../images/box-41-true.jpg      0.118248             1                1\n",
       "11       ../images/box-55.jpg      0.025800             0                1\n",
       "15  ../images/box-14-true.jpg      0.083042             1                1\n",
       "16  ../images/box-52-true.jpg      0.048643             1                1\n",
       "22  ../images/box-26-true.jpg      0.101317             1                1\n",
       "24  ../images/box-59-true.jpg      0.046762             1                1\n",
       "28   ../images/box-9-true.jpg      0.069874             1                1\n",
       "29  ../images/box-47-true.jpg      0.071486             1                1\n",
       "30  ../images/box-17-true.jpg      0.123085             1                1\n",
       "35  ../images/box-28-true.jpg      0.105617             1                1\n",
       "40       ../images/box-49.jpg      0.056974             0                1\n",
       "44  ../images/box-42-true.jpg      0.061005             1                1\n",
       "48  ../images/box-38-true.jpg      0.081698             1                1\n",
       "52       ../images/box-56.jpg      0.072292             0                1\n",
       "55  ../images/box-25-true.jpg      0.071755             1                1\n",
       "59  ../images/box-29-true.jpg      0.077130             1                1\n",
       "60  ../images/box-12-true.jpg      0.026068             1                1\n",
       "63  ../images/box-37-true.jpg      0.051599             1                1"
      ]
     },
     "execution_count": 37,
     "metadata": {},
     "output_type": "execute_result"
    }
   ],
   "source": [
    "df[df['predicted_label']==1]"
   ]
  },
  {
   "cell_type": "code",
   "execution_count": 38,
   "id": "ac6e39b6-5d1c-4a5e-9987-af5be22353f3",
   "metadata": {},
   "outputs": [
    {
     "data": {
      "text/plain": [
       "(18, 4)"
      ]
     },
     "execution_count": 38,
     "metadata": {},
     "output_type": "execute_result"
    }
   ],
   "source": [
    "df[df['predicted_label']==1].shape"
   ]
  },
  {
   "cell_type": "code",
   "execution_count": 96,
   "id": "bc1e5258-c0ad-4b08-bab0-70b73d4a6898",
   "metadata": {},
   "outputs": [],
   "source": [
    "sd_ones = df[df['actual_label']==1]['std_dev']"
   ]
  },
  {
   "cell_type": "code",
   "execution_count": 97,
   "id": "7479b0b8-eee9-4f66-ba13-172c5273abbb",
   "metadata": {},
   "outputs": [
    {
     "data": {
      "text/plain": [
       "71.09602774283795"
      ]
     },
     "execution_count": 97,
     "metadata": {},
     "output_type": "execute_result"
    }
   ],
   "source": [
    "sd_ones.max()"
   ]
  },
  {
   "cell_type": "code",
   "execution_count": 98,
   "id": "63e58f82-100e-4336-a966-180bd78d0f7a",
   "metadata": {},
   "outputs": [
    {
     "data": {
      "text/plain": [
       "9.642308632540242"
      ]
     },
     "execution_count": 98,
     "metadata": {},
     "output_type": "execute_result"
    }
   ],
   "source": [
    "sd_ones.min()"
   ]
  },
  {
   "cell_type": "code",
   "execution_count": 99,
   "id": "a4fd373a-ba42-4cda-ae7f-9efe911b9211",
   "metadata": {},
   "outputs": [],
   "source": [
    "sd_zeros = df[df['actual_label']==0]['std_dev']"
   ]
  },
  {
   "cell_type": "code",
   "execution_count": 100,
   "id": "7634125c-1537-4d93-8a90-8cabdb2df9b2",
   "metadata": {},
   "outputs": [
    {
     "data": {
      "text/plain": [
       "71.82590327375168"
      ]
     },
     "execution_count": 100,
     "metadata": {},
     "output_type": "execute_result"
    }
   ],
   "source": [
    "sd_zeros.max()"
   ]
  },
  {
   "cell_type": "code",
   "execution_count": 101,
   "id": "b3a83c91-9372-4300-b3bc-74b0d4038450",
   "metadata": {},
   "outputs": [
    {
     "data": {
      "text/plain": [
       "2.4293311013630015"
      ]
     },
     "execution_count": 101,
     "metadata": {},
     "output_type": "execute_result"
    }
   ],
   "source": [
    "sd_zeros.min()"
   ]
  },
  {
   "cell_type": "code",
   "execution_count": 102,
   "id": "bbd45f45-1904-4a4b-a1ce-04067b220acc",
   "metadata": {
    "scrolled": true
   },
   "outputs": [
    {
     "data": {
      "text/plain": [
       "1     16.080124\n",
       "2      6.351244\n",
       "3      5.476936\n",
       "5      4.261095\n",
       "6      4.914777\n",
       "7      3.661628\n",
       "8      5.762281\n",
       "9      4.986844\n",
       "10     7.837668\n",
       "11     8.951473\n",
       "12     3.579955\n",
       "13     3.543139\n",
       "14     3.734300\n",
       "17     4.557097\n",
       "18     5.514952\n",
       "19     4.589051\n",
       "20    11.907461\n",
       "21     5.885554\n",
       "23     8.305973\n",
       "25     4.269640\n",
       "26     4.534686\n",
       "27     3.810030\n",
       "31     3.963837\n",
       "32     5.449059\n",
       "33    12.620618\n",
       "34    18.140195\n",
       "36     5.768385\n",
       "37     5.084598\n",
       "38     4.506719\n",
       "39     2.429331\n",
       "40    10.310428\n",
       "41    16.533430\n",
       "42     4.917268\n",
       "43     6.424262\n",
       "45     4.401940\n",
       "46     6.972280\n",
       "47     9.888326\n",
       "49     4.339412\n",
       "50    15.279067\n",
       "51     3.896219\n",
       "52     9.656914\n",
       "53     2.700818\n",
       "54     5.427652\n",
       "55    71.825903\n",
       "57     4.318101\n",
       "58     3.986411\n",
       "59     4.946881\n",
       "62     3.809193\n",
       "63    12.698433\n",
       "Name: std_dev, dtype: float64"
      ]
     },
     "execution_count": 102,
     "metadata": {},
     "output_type": "execute_result"
    }
   ],
   "source": [
    "sd_zeros"
   ]
  },
  {
   "cell_type": "code",
   "execution_count": null,
   "id": "7db5db18-704d-40ed-927e-2880ac921d71",
   "metadata": {},
   "outputs": [],
   "source": []
  }
 ],
 "metadata": {
  "kernelspec": {
   "display_name": "Python 3 (ipykernel)",
   "language": "python",
   "name": "python3"
  },
  "language_info": {
   "codemirror_mode": {
    "name": "ipython",
    "version": 3
   },
   "file_extension": ".py",
   "mimetype": "text/x-python",
   "name": "python",
   "nbconvert_exporter": "python",
   "pygments_lexer": "ipython3",
   "version": "3.12.3"
  }
 },
 "nbformat": 4,
 "nbformat_minor": 5
}
