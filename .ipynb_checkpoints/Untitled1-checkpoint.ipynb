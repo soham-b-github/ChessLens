{
 "cells": [
  {
   "cell_type": "code",
   "execution_count": 3,
   "id": "ba483a46",
   "metadata": {},
   "outputs": [],
   "source": [
    "# Take streaming data from mobile camera\n",
    "import cv2\n",
    "\n",
    "# Replace this with the actual address from the app\n",
    "url = 'http://192.168.1.195:8080/video'\n",
    "\n",
    "def capture_from_mobile(url):\n",
    "    cap = cv2.VideoCapture(url)\n",
    "\n",
    "    if not cap.isOpened():\n",
    "        print(\"Error: Unable to open mobile stream.\")\n",
    "        return\n",
    "\n",
    "    print(\"Press 'c' to capture a frame, 'q' to quit.\")\n",
    "\n",
    "    while True:\n",
    "        ret, frame = cap.read()\n",
    "        if not ret:\n",
    "            print(\"Failed to grab frame.\")\n",
    "            break\n",
    "\n",
    "        cv2.imshow('Mobile Stream', frame)\n",
    "\n",
    "        key = cv2.waitKey(1) & 0xFF\n",
    "        if key == ord('c'):\n",
    "            cv2.imwrite(\"images/mobile_frame.jpg\", frame)\n",
    "            print(\"Frame captured as 'mobile_frame.jpg'\")\n",
    "            return frame\n",
    "        elif key == ord('q'):\n",
    "            break\n",
    "\n",
    "    cap.release()\n",
    "    cv2.destroyAllWindows()\n",
    "\n",
    "# Example usage\n",
    "# capture_from_mobile(url)\n"
   ]
  },
  {
   "cell_type": "code",
   "execution_count": 4,
   "id": "37bed93d",
   "metadata": {},
   "outputs": [
    {
     "name": "stdout",
     "output_type": "stream",
     "text": [
      "Press 'c' to capture a frame, 'q' to quit.\n",
      "Frame captured as 'mobile_frame.jpg'\n"
     ]
    },
    {
     "data": {
      "text/plain": [
       "array([[[  4,  13,  10],\n",
       "        [  7,  16,  13],\n",
       "        [ 13,  22,  19],\n",
       "        ...,\n",
       "        [ 92,  84,  79],\n",
       "        [ 85,  76,  74],\n",
       "        [ 78,  69,  67]],\n",
       "\n",
       "       [[  2,  11,   8],\n",
       "        [  6,  15,  12],\n",
       "        [ 11,  20,  17],\n",
       "        ...,\n",
       "        [ 91,  83,  78],\n",
       "        [ 83,  74,  72],\n",
       "        [ 77,  68,  66]],\n",
       "\n",
       "       [[ 18,  29,  31],\n",
       "        [ 21,  32,  34],\n",
       "        [ 27,  38,  40],\n",
       "        ...,\n",
       "        [ 79,  77,  78],\n",
       "        [ 71,  68,  71],\n",
       "        [ 65,  62,  65]],\n",
       "\n",
       "       ...,\n",
       "\n",
       "       [[155, 173, 183],\n",
       "        [154, 172, 182],\n",
       "        [154, 172, 182],\n",
       "        ...,\n",
       "        [ 21,  42,  31],\n",
       "        [ 22,  48,  23],\n",
       "        [ 23,  49,  24]],\n",
       "\n",
       "       [[155, 173, 183],\n",
       "        [155, 173, 183],\n",
       "        [154, 172, 182],\n",
       "        ...,\n",
       "        [ 24,  51,  23],\n",
       "        [ 23,  58,   6],\n",
       "        [ 22,  57,   5]],\n",
       "\n",
       "       [[151, 169, 179],\n",
       "        [150, 168, 178],\n",
       "        [149, 167, 177],\n",
       "        ...,\n",
       "        [ 27,  54,  26],\n",
       "        [ 25,  60,   8],\n",
       "        [ 23,  58,   6]]], dtype=uint8)"
      ]
     },
     "execution_count": 4,
     "metadata": {},
     "output_type": "execute_result"
    }
   ],
   "source": [
    "capture_from_mobile(url)"
   ]
  },
  {
   "cell_type": "code",
   "execution_count": null,
   "id": "192322d9",
   "metadata": {},
   "outputs": [],
   "source": []
  }
 ],
 "metadata": {
  "kernelspec": {
   "display_name": "Python 3 (ipykernel)",
   "language": "python",
   "name": "python3"
  },
  "language_info": {
   "codemirror_mode": {
    "name": "ipython",
    "version": 3
   },
   "file_extension": ".py",
   "mimetype": "text/x-python",
   "name": "python",
   "nbconvert_exporter": "python",
   "pygments_lexer": "ipython3",
   "version": "3.12.3"
  }
 },
 "nbformat": 4,
 "nbformat_minor": 5
}
