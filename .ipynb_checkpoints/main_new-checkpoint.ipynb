{
 "cells": [
  {
   "cell_type": "markdown",
   "id": "a57e994f-1e28-4f49-ad50-8fb294034b1c",
   "metadata": {},
   "source": [
    "<center> <b><h1>CHESS LENS</h1></b><br>\n",
    "<b><h2>Team BSB64</h2></b></center>"
   ]
  },
  {
   "cell_type": "code",
   "execution_count": 1,
   "id": "7bc6a118-997a-41fb-9fe7-625b67b1fa25",
   "metadata": {},
   "outputs": [],
   "source": [
    "import sys\n",
    "sys.path.append('./utils')\n",
    "\n",
    "import os"
   ]
  },
  {
   "cell_type": "code",
   "execution_count": 2,
   "id": "0fb731b7-0f62-4fb1-8d5c-577aa0e3f869",
   "metadata": {},
   "outputs": [],
   "source": [
    "import numpy as np\n",
    "import cv2\n",
    "import matplotlib.pyplot as plt\n",
    "import pandas as pd"
   ]
  },
  {
   "cell_type": "code",
   "execution_count": 3,
   "id": "3c3649fd-c59b-4eab-a1c7-61a0c60ce9fd",
   "metadata": {},
   "outputs": [],
   "source": [
    "import occupancy_detector as od\n",
    "import chessboard_processor as cbd\n",
    "import detector as md\n",
    "import visualizer"
   ]
  },
  {
   "cell_type": "markdown",
   "id": "16d62dc7-b82b-4995-b8f5-e60bad48da5a",
   "metadata": {},
   "source": [
    "## Preprocess the Chessboard"
   ]
  },
  {
   "cell_type": "code",
   "execution_count": 6,
   "id": "938e099f-0d62-43b9-b3f9-b135072d9ce9",
   "metadata": {},
   "outputs": [],
   "source": [
    "cbd.process_chessboard(\"images/board/test08.jpeg\",\"images/demo5/\",\"box\",True)"
   ]
  },
  {
   "cell_type": "markdown",
   "id": "438bd6b1-0013-4f65-8501-25c3f245eaba",
   "metadata": {},
   "source": [
    "## Checking the ACCURACY of OCCUPANCY Detector"
   ]
  },
  {
   "cell_type": "code",
   "execution_count": 7,
   "id": "840f4f09",
   "metadata": {},
   "outputs": [
    {
     "name": "stdout",
     "output_type": "stream",
     "text": [
      "Trying different thresholds...\n",
      "\n",
      "✅ Best Accuracy: 0.8125\n",
      "Optimal std_thresh: 40, edge_thresh: 590\n",
      "\n",
      "Status\t\tActual\tPredicted\tFilename\n",
      "Correct\t\t1\t1\t\tbox-3-true.jpg\n",
      "Correct\t\t1\t1\t\tbox-11-true.jpg\n",
      "Wrong\t\t0\t1\t\tbox-46.jpg\n",
      "Correct\t\t1\t1\t\tbox-61-true.jpg\n",
      "Correct\t\t0\t0\t\tbox-31.jpg\n",
      "Correct\t\t0\t0\t\tbox-21.jpg\n",
      "Correct\t\t0\t0\t\tbox-20.jpg\n",
      "Correct\t\t0\t0\t\tbox-16.jpg\n",
      "Correct\t\t0\t0\t\tbox-29.jpg\n",
      "Correct\t\t1\t1\t\tbox-54-true.jpg\n",
      "Correct\t\t1\t1\t\tbox-58-true.jpg\n",
      "Correct\t\t1\t1\t\tbox-51-true.jpg\n",
      "Correct\t\t1\t1\t\tbox-9-true.jpg\n",
      "Correct\t\t1\t1\t\tbox-12-true.jpg\n",
      "Correct\t\t0\t0\t\tbox-33.jpg\n",
      "Correct\t\t0\t0\t\tbox-41.jpg\n",
      "Correct\t\t1\t1\t\tbox-10-true.jpg\n",
      "Correct\t\t0\t0\t\tbox-26.jpg\n",
      "Correct\t\t1\t1\t\tbox-5-true.jpg\n",
      "Correct\t\t0\t0\t\tbox-43.jpg\n",
      "Correct\t\t1\t1\t\tbox-2-true.jpg\n",
      "Wrong\t\t0\t1\t\tbox-39.jpg\n",
      "Wrong\t\t1\t0\t\tbox-63-true.jpg\n",
      "Correct\t\t1\t1\t\tbox-15-true.jpg\n",
      "Correct\t\t1\t1\t\tbox-55-true.jpg\n",
      "Correct\t\t0\t0\t\tbox-32.jpg\n",
      "Correct\t\t0\t0\t\tbox-42.jpg\n",
      "Correct\t\t1\t1\t\tbox-7-true.jpg\n",
      "Correct\t\t1\t1\t\tbox-53-true.jpg\n",
      "Correct\t\t1\t1\t\tbox-13-true.jpg\n",
      "Correct\t\t1\t1\t\tbox-56-true.jpg\n",
      "Wrong\t\t1\t0\t\tbox-59-true.jpg\n",
      "Correct\t\t1\t1\t\tbox-60-true.jpg\n",
      "Wrong\t\t0\t1\t\tbox-44.jpg\n",
      "Wrong\t\t0\t1\t\tbox-30.jpg\n",
      "Correct\t\t0\t0\t\tbox-35.jpg\n",
      "Wrong\t\t1\t0\t\tbox-50-true.jpg\n",
      "Correct\t\t0\t0\t\tbox-24.jpg\n",
      "Correct\t\t1\t1\t\tbox-6-true.jpg\n",
      "Wrong\t\t1\t0\t\tbox-8-true.jpg\n",
      "Correct\t\t1\t1\t\tbox-49-true.jpg\n",
      "Wrong\t\t1\t0\t\tbox-52-true.jpg\n",
      "Correct\t\t0\t0\t\tbox-34.jpg\n",
      "Correct\t\t1\t1\t\tbox-62-true.jpg\n",
      "Correct\t\t0\t0\t\tbox-36.jpg\n",
      "Correct\t\t0\t0\t\tbox-28.jpg\n",
      "Correct\t\t0\t0\t\tbox-19.jpg\n",
      "Correct\t\t0\t0\t\tbox-25.jpg\n",
      "Correct\t\t1\t1\t\tbox-0-true.jpg\n",
      "Wrong\t\t1\t0\t\tbox-57-true.jpg\n",
      "Correct\t\t0\t0\t\tbox-47.jpg\n",
      "Correct\t\t0\t0\t\tbox-23.jpg\n",
      "Correct\t\t1\t1\t\tbox-14-true.jpg\n",
      "Wrong\t\t0\t1\t\tbox-22.jpg\n",
      "Correct\t\t0\t0\t\tbox-17.jpg\n",
      "Correct\t\t0\t0\t\tbox-45.jpg\n",
      "Correct\t\t0\t0\t\tbox-27.jpg\n",
      "Correct\t\t1\t1\t\tbox-48-true.jpg\n",
      "Correct\t\t1\t1\t\tbox-1-true.jpg\n",
      "Wrong\t\t0\t1\t\tbox-37.jpg\n",
      "Correct\t\t0\t0\t\tbox-18.jpg\n",
      "Correct\t\t1\t1\t\tbox-4-true.jpg\n",
      "Correct\t\t0\t0\t\tbox-40.jpg\n",
      "Correct\t\t0\t0\t\tbox-38.jpg\n"
     ]
    }
   ],
   "source": [
    "import os\n",
    "import cv2\n",
    "import numpy as np\n",
    "from sklearn.metrics import accuracy_score\n",
    "\n",
    "# === Rule-based occupancy detector ===\n",
    "def is_occupied(img, std_thresh, edge_thresh):\n",
    "    std_dev = np.std(img)\n",
    "    edges = cv2.Canny(img, edge_thresh // 2, edge_thresh)\n",
    "    edge_density = np.sum(edges > 0) / img.size\n",
    "    return std_dev > std_thresh and edge_density > 0.02\n",
    "\n",
    "# === Load data and actual labels from filenames ===\n",
    "folder = \"images/demo5\"\n",
    "images = []\n",
    "actual_labels = []\n",
    "filenames = []\n",
    "\n",
    "for filename in os.listdir(folder):\n",
    "    if filename.endswith(\".jpg\") or filename.endswith(\".png\"):\n",
    "        file_path = os.path.join(folder, filename)\n",
    "        img = cv2.imread(file_path, cv2.IMREAD_GRAYSCALE)\n",
    "        images.append(img)\n",
    "        actual_labels.append(1 if \"true\" in filename else 0)\n",
    "        filenames.append(filename)\n",
    "\n",
    "# === Try various combinations of thresholds ===\n",
    "best_acc = 0\n",
    "best_params = (0, 0)\n",
    "best_predictions = []\n",
    "\n",
    "print(\"Trying different thresholds...\")\n",
    "for std_thresh in range(0, 1000, 5):\n",
    "    for edge_thresh in range(0, 2000, 10):\n",
    "        predicted_labels = [\n",
    "            1 if is_occupied(img, std_thresh, edge_thresh) else 0\n",
    "            for img in images\n",
    "        ]\n",
    "        acc = accuracy_score(actual_labels, predicted_labels)\n",
    "        \n",
    "        if acc > best_acc:\n",
    "            best_acc = acc\n",
    "            best_params = (std_thresh, edge_thresh)\n",
    "            best_predictions = predicted_labels.copy()\n",
    "\n",
    "# === Output best result summary ===\n",
    "print(f\"\\nBest Accuracy: {best_acc:.4f}\")\n",
    "print(f\"Optimal std_thresh: {best_params[0]}, edge_thresh: {best_params[1]}\")\n",
    "print(\"\\nStatus\\t\\tActual\\tPredicted\\tFilename\")\n",
    "\n",
    "for actual, predicted, fname in zip(actual_labels, best_predictions, filenames):\n",
    "    status = \"Correct\" if actual == predicted else \"Wrong\"\n",
    "    print(f\"{status}\\t\\t{actual}\\t{predicted}\\t\\t{fname}\")\n",
    "\n"
   ]
  },
  {
   "cell_type": "code",
   "execution_count": 15,
   "id": "2fd9c07f-6d08-4036-a35f-bc2c12fc595f",
   "metadata": {},
   "outputs": [],
   "source": [
    "TP = 0 # True Positives: Actual 1 and Pred 1\n",
    "FP = 0 # False Positives: Actual 0 but Pred 1\n",
    "FN = 0 # False Negatives: Actual 1 but Pred 0\n",
    "TN = 0 # True Negatives: Actual 0 and Pred 0"
   ]
  },
  {
   "cell_type": "code",
   "execution_count": 16,
   "id": "bd20fccb-8c17-4a32-8005-92dabe198884",
   "metadata": {
    "scrolled": true
   },
   "outputs": [
    {
     "name": "stdout",
     "output_type": "stream",
     "text": [
      "32\n"
     ]
    }
   ],
   "source": [
    "count = 0\n",
    "for i in actual_labels:\n",
    "    count+=1 if i==1 else 0\n",
    "\n",
    "print(count)"
   ]
  },
  {
   "cell_type": "code",
   "execution_count": 17,
   "id": "000332c8-16bd-42f9-8513-04657c6b40ef",
   "metadata": {},
   "outputs": [
    {
     "data": {
      "text/plain": [
       "64"
      ]
     },
     "execution_count": 17,
     "metadata": {},
     "output_type": "execute_result"
    }
   ],
   "source": [
    "len(actual_labels)"
   ]
  },
  {
   "cell_type": "code",
   "execution_count": 18,
   "id": "fda9a97c-d020-4f4e-bd4a-d95e8214517d",
   "metadata": {},
   "outputs": [
    {
     "name": "stdout",
     "output_type": "stream",
     "text": [
      "32\n"
     ]
    }
   ],
   "source": [
    "count = 0\n",
    "# for i in predicted_labels:\n",
    "for i in best_predictions:\n",
    "    count+=1 if i==1 else 0\n",
    "\n",
    "print(count)"
   ]
  },
  {
   "cell_type": "code",
   "execution_count": 19,
   "id": "74e56d0a-ee2b-4fcf-8b87-bb31bc3d4276",
   "metadata": {},
   "outputs": [],
   "source": [
    "for i in range(64):\n",
    "    TP+=1 if actual_labels[i]==1 and best_predictions[i]==1 else 0\n",
    "    FP+=1 if actual_labels[i]==0 and best_predictions[i]==1 else 0\n",
    "    FN+=1 if actual_labels[i]==1 and best_predictions[i]==0 else 0\n",
    "    TN+=1 if actual_labels[i]==0 and best_predictions[i]==0 else 0"
   ]
  },
  {
   "cell_type": "code",
   "execution_count": 20,
   "id": "f7223c39-b740-4fbe-8dca-6fa5967369c3",
   "metadata": {},
   "outputs": [
    {
     "data": {
      "text/plain": [
       "0.8125"
      ]
     },
     "execution_count": 20,
     "metadata": {},
     "output_type": "execute_result"
    }
   ],
   "source": [
    "from sklearn.metrics import accuracy_score\n",
    "y_pred = [0, 2, 1, 3]\n",
    "y_true = [0, 1, 2, 3]\n",
    "accuracy_score(actual_labels, best_predictions)"
   ]
  },
  {
   "cell_type": "code",
   "execution_count": 21,
   "id": "f4e1ed09-6d09-47a4-a0aa-9711cd8411b5",
   "metadata": {},
   "outputs": [
    {
     "name": "stdout",
     "output_type": "stream",
     "text": [
      "Accuracy = 0.8125\n"
     ]
    }
   ],
   "source": [
    "print(f\"Accuracy = {(TP+TN)/(TP+TN+FN+FP)}\")"
   ]
  },
  {
   "cell_type": "markdown",
   "id": "7bc8c4a0",
   "metadata": {},
   "source": [
    "For now, the board is at the initial position. With every next move, the board's position will change, and thus will the board matrix. Also, the board matrix needs to be converted to FEN for the UI."
   ]
  },
  {
   "cell_type": "code",
   "execution_count": 22,
   "id": "21766744",
   "metadata": {},
   "outputs": [],
   "source": [
    "board_matrix = [\n",
    "    [\"r\", \"n\", \"b\", \"q\", \"k\", \"b\", \"n\", \"r\"],\n",
    "    [\"p\"] * 8,\n",
    "    [\"\"] * 8,\n",
    "    [\"\"] * 8,\n",
    "    [\"\"] * 8,\n",
    "    [\"\"] * 8,\n",
    "    [\"P\"] * 8,\n",
    "    [\"R\", \"N\", \"B\", \"Q\", \"K\", \"B\", \"N\", \"R\"]\n",
    "]"
   ]
  },
  {
   "cell_type": "code",
   "execution_count": null,
   "id": "cfd30a86",
   "metadata": {},
   "outputs": [],
   "source": [
    "def board_matrix_to_fen(board_matrix):\n",
    "    fen_rows = []\n",
    "    \n",
    "    for row in board_matrix:\n",
    "        fen_row = \"\"\n",
    "        empty_count = 0\n",
    "        \n",
    "        for cell in row:\n",
    "            if cell == \"\":\n",
    "                empty_count += 1\n",
    "            else:\n",
    "                if empty_count > 0:\n",
    "                    fen_row += str(empty_count)\n",
    "                    empty_count = 0\n",
    "                fen_row += cell\n",
    "        if empty_count > 0:\n",
    "            fen_row += str(empty_count)\n",
    "        \n",
    "        fen_rows.append(fen_row)\n",
    "    \n",
    "    # Join all rows with \"/\" and add standard placeholders for FEN (assuming starting position)\n",
    "    fen_position = \"/\".join(fen_rows)\n",
    "    fen = f\"{fen_position} w KQkq - 0 1\"\n",
    "    return fen\n"
   ]
  }
 ],
 "metadata": {
  "kernelspec": {
   "display_name": "Python 3 (ipykernel)",
   "language": "python",
   "name": "python3"
  },
  "language_info": {
   "codemirror_mode": {
    "name": "ipython",
    "version": 3
   },
   "file_extension": ".py",
   "mimetype": "text/x-python",
   "name": "python",
   "nbconvert_exporter": "python",
   "pygments_lexer": "ipython3",
   "version": "3.12.3"
  }
 },
 "nbformat": 4,
 "nbformat_minor": 5
}
