{
 "cells": [
  {
   "cell_type": "code",
   "execution_count": 1,
   "id": "83ec1bf7",
   "metadata": {},
   "outputs": [],
   "source": [
    "import sys\n",
    "sys.path.append('./utils')\n",
    "\n",
    "import os"
   ]
  },
  {
   "cell_type": "code",
   "execution_count": 2,
   "id": "3c55faf8",
   "metadata": {},
   "outputs": [],
   "source": [
    "import numpy as np\n",
    "import cv2\n",
    "import matplotlib.pyplot as plt\n",
    "import pandas as pd"
   ]
  },
  {
   "cell_type": "code",
   "execution_count": 3,
   "id": "9601a703",
   "metadata": {},
   "outputs": [],
   "source": [
    "import occupancy_detector as od\n",
    "import chessboard_processor as cbd\n",
    "import detector as md\n",
    "import visualizer"
   ]
  },
  {
   "cell_type": "code",
   "execution_count": 4,
   "id": "9aa9f545",
   "metadata": {},
   "outputs": [],
   "source": [
    "board_matrix = [\n",
    "    [\"r\", \"n\", \"b\", \"q\", \"k\", \"b\", \"n\", \"r\"],\n",
    "    [\"p\"] * 8,\n",
    "    [\"\"] * 8,\n",
    "    [\"\"] * 8,\n",
    "    [\"\"] * 8,\n",
    "    [\"\"] * 8,\n",
    "    [\"P\"] * 8,\n",
    "    [\"R\", \"N\", \"B\", \"Q\", \"K\", \"B\", \"N\", \"R\"]\n",
    "]"
   ]
  },
  {
   "cell_type": "markdown",
   "id": "376728cd",
   "metadata": {},
   "source": [
    "### Cropping Chessboard from Frame"
   ]
  },
  {
   "cell_type": "code",
   "execution_count": 5,
   "id": "47ccccb3",
   "metadata": {},
   "outputs": [],
   "source": [
    "import cv2\n",
    "import numpy as np\n",
    "\n",
    "def crop_chessboard_from_frame(frame, pattern_size=(7,7), draw=True):\n",
    "    \"\"\"\n",
    "    Detects and crops a chessboard from a frame.\n",
    "    \n",
    "    Args:\n",
    "        frame: Input image (frame from video).\n",
    "        pattern_size: Tuple of (columns, rows) for internal chessboard corners.\n",
    "        draw: If True, shows the detected board.\n",
    "\n",
    "    Returns:\n",
    "        Cropped chessboard image or None if not found.\n",
    "    \"\"\"\n",
    "    gray = cv2.cvtColor(frame, cv2.COLOR_BGR2GRAY)\n",
    "\n",
    "    # Find the chessboard corners\n",
    "    ret, corners = cv2.findChessboardCorners(gray, pattern_size, None)\n",
    "\n",
    "    if ret:\n",
    "        # Get bounding rectangle around detected corners\n",
    "        corners = corners.squeeze()\n",
    "        x, y, w, h = cv2.boundingRect(corners.astype(np.float32))\n",
    "\n",
    "        # Crop the chessboard\n",
    "        cropped = frame[y:y+h, x:x+w]\n",
    "\n",
    "        if draw:\n",
    "            vis = frame.copy()\n",
    "            cv2.drawChessboardCorners(vis, pattern_size, corners, ret)\n",
    "            cv2.imshow(\"Detected Chessboard\", vis)\n",
    "            cv2.waitKey(0)\n",
    "            cv2.destroyAllWindows()\n",
    "\n",
    "        return cropped\n",
    "    else:\n",
    "        print(\"Chessboard not detected.\")\n",
    "        return None"
   ]
  },
  {
   "cell_type": "markdown",
   "id": "3702c5f0",
   "metadata": {},
   "source": [
    "### Rule-based Occupancy Detector"
   ]
  },
  {
   "cell_type": "code",
   "execution_count": null,
   "id": "2c12c796",
   "metadata": {},
   "outputs": [],
   "source": [
    "import os\n",
    "import cv2\n",
    "import numpy as np\n",
    "from sklearn.metrics import accuracy_score\n",
    "\n",
    "# === Rule-based occupancy detector ===\n",
    "def is_occupied(img, std_thresh, edge_thresh):\n",
    "    std_dev = np.std(img)\n",
    "    edges = cv2.Canny(img, edge_thresh // 2, edge_thresh)\n",
    "    edge_density = np.sum(edges > 0) / img.size\n",
    "    return std_dev > std_thresh and edge_density > 0.02\n",
    "\n",
    "# === Load data and actual labels from filenames ===\n",
    "folder = \"images/demo5\"\n",
    "images = []\n",
    "actual_labels = []\n",
    "filenames = []\n",
    "\n",
    "for filename in os.listdir(folder):\n",
    "    if filename.endswith(\".jpg\") or filename.endswith(\".png\"):\n",
    "        file_path = os.path.join(folder, filename)\n",
    "        img = cv2.imread(file_path, cv2.IMREAD_GRAYSCALE)\n",
    "        images.append(img)\n",
    "        actual_labels.append(1 if \"true\" in filename else 0)\n",
    "        filenames.append(filename)\n",
    "\n",
    "# === Try various combinations of thresholds ===\n",
    "best_acc = 0\n",
    "best_params = (0, 0)\n",
    "best_predictions = []\n",
    "\n",
    "print(\"Trying different thresholds...\")\n",
    "for std_thresh in range(0, 1000, 5):\n",
    "    for edge_thresh in range(0, 2000, 10):\n",
    "        predicted_labels = [\n",
    "            1 if is_occupied(img, std_thresh, edge_thresh) else 0\n",
    "            for img in images\n",
    "        ]\n",
    "        acc = accuracy_score(actual_labels, predicted_labels)\n",
    "        \n",
    "        if acc > best_acc:\n",
    "            best_acc = acc\n",
    "            best_params = (std_thresh, edge_thresh)\n",
    "            best_predictions = predicted_labels.copy()\n",
    "\n",
    "# === Output best result summary ===\n",
    "print(f\"\\n✅ Best Accuracy: {best_acc:.4f}\")\n",
    "print(f\"Optimal std_thresh: {best_params[0]}, edge_thresh: {best_params[1]}\")\n",
    "print(\"\\nStatus\\t\\tActual\\tPredicted\\tFilename\")\n",
    "\n",
    "for actual, predicted, fname in zip(actual_labels, best_predictions, filenames):\n",
    "    status = \"Correct\" if actual == predicted else \"Wrong\"\n",
    "    print(f\"{status}\\t\\t{actual}\\t{predicted}\\t\\t{fname}\")\n"
   ]
  },
  {
   "cell_type": "markdown",
   "id": "68899281",
   "metadata": {},
   "source": [
    "### Convert Board Matrix to FEN"
   ]
  },
  {
   "cell_type": "code",
   "execution_count": 6,
   "id": "92fcf86f",
   "metadata": {},
   "outputs": [],
   "source": [
    "def board_matrix_to_fen(board_matrix):\n",
    "    fen_rows = []\n",
    "    \n",
    "    for row in board_matrix:\n",
    "        fen_row = \"\"\n",
    "        empty_count = 0\n",
    "        \n",
    "        for cell in row:\n",
    "            if cell == \"\":\n",
    "                empty_count += 1\n",
    "            else:\n",
    "                if empty_count > 0:\n",
    "                    fen_row += str(empty_count)\n",
    "                    empty_count = 0\n",
    "                fen_row += cell\n",
    "        if empty_count > 0:\n",
    "            fen_row += str(empty_count)\n",
    "        \n",
    "        fen_rows.append(fen_row)\n",
    "    \n",
    "    # Join all rows with \"/\" and add standard placeholders for FEN (assuming starting position)\n",
    "    fen_position = \"/\".join(fen_rows)\n",
    "    fen = f\"{fen_position} w KQkq - 0 1\"\n",
    "    return fen"
   ]
  },
  {
   "cell_type": "markdown",
   "id": "4bad9e62",
   "metadata": {},
   "source": [
    "### Generate Legal FENs"
   ]
  },
  {
   "cell_type": "code",
   "execution_count": 7,
   "id": "3c91970a",
   "metadata": {},
   "outputs": [],
   "source": [
    "import chess\n",
    "\n",
    "def generate_legal_fens(fen):\n",
    "    board = chess.Board(fen)\n",
    "    legal_fens = []\n",
    "\n",
    "    for move in board.legal_moves:\n",
    "        board.push(move)\n",
    "        legal_fens.append(board.fen())\n",
    "        board.pop()\n",
    "\n",
    "    return legal_fens\n",
    "\n",
    "# Example usage\n",
    "# if __name__ == \"__main__\":\n",
    "#     input_fen = \"r1bqkbnr/pppppppp/n7/8/8/5N2/PPPPPPPP/RNBQKB1R w KQkq - 2 2\"  # You can replace this with any valid FEN\n",
    "#     result = generate_legal_fens(input_fen)\n",
    "\n",
    "#     print(f\"Legal FENs from position: {input_fen}\")\n",
    "#     for i, fen in enumerate(result, 1):\n",
    "#         print(f\"{i}. {fen}\")"
   ]
  },
  {
   "cell_type": "markdown",
   "id": "3ed412f7",
   "metadata": {},
   "source": [
    "### UI"
   ]
  },
  {
   "cell_type": "code",
   "execution_count": null,
   "id": "7574d5df",
   "metadata": {},
   "outputs": [],
   "source": [
    "# fen_list = [\n",
    "#     \"rnbqkbnr/pppppppp/8/8/8/8/PPPPPPPP/RNBQKBNR w KQkq - 0 1 \",\n",
    "#     \"rnbqkbnr/pppppppp/8/8/4P3/8/PPPP1PPP/RNBQKBNR b KQkq - 0 1\",\n",
    "# \"rnbqkbnr/pppp1ppp/8/4p3/4P3/8/PPPP1PPP/RNBQKBNR w KQkq e6 0 2\",\n",
    "# \"r1bqkbnr/pppp1ppp/2n5/4p3/4P3/5N2/PPPP1PPP/RNBQKB1R w KQkq - 2 3\",\n",
    "# \"r1bqkbnr/pppp1ppp/2n5/1B2p3/4P3/5N2/PPPP1PPP/RNBQK2R b KQkq - 3 3\",\n",
    "# \"r1bqkbnr/1ppp1ppp/p1n5/1B2p3/4P3/5N2/PPPP1PPP/RNBQK2R w KQkq - 0 4\",\n",
    "# \"r1bqkbnr/1ppp1ppp/p1n5/4p3/B3P3/5N2/PPPP1PPP/RNBQK2R b KQkq - 1 4\",\n",
    "# \"r1bqkbnr/2pp1ppp/p1n5/1p2p3/B3P3/5N2/PPPP1PPP/RNBQK2R w KQkq b6 0 5\",\n",
    "# \"r1bqkbnr/2pp1ppp/p1n5/1p2p3/4P3/1B3N2/PPPP1PPP/RNBQK2R b KQkq - 1 5\",\n",
    "# \"r1bqkbnr/2pp1ppp/p7/np2p3/4P3/1B3N2/PPPP1PPP/RNBQK2R w KQkq - 2 6\",\n",
    "#     \"r1bqkbnr/2pp1ppp/p7/np2p3/4P3/1BP2N2/PP1P1PPP/RNBQK2R b KQkq - 0 6\"\n",
    "# ]\n",
    "# from ChessViewer import ChessViewer\n",
    "# from game import fen_list\n",
    "\n",
    "# Define player names (can be customized)\n",
    "white_player = \"ronak\"  # \"Magnus Carlsen\"\n",
    "black_player = \"darpan\"  # \"Hikaru Nakamura\"\n",
    "\n",
    "# Run the viewer\n",
    "# viewer = ChessViewer(fen_list, white_player, black_player, delay=4000)\n",
    "# viewer.run()\n",
    "\n",
    "\n",
    "def init_viewer(white_player_name, black_player_name):\n",
    "    white_player = white_player_name\n",
    "    black_player = black_player_name\n",
    "\n",
    "def view_game(fen_string):\n",
    "    viewer = ChessViewer(fen_string, white_player, black_player)\n",
    "    viewer.run()"
   ]
  },
  {
   "cell_type": "code",
   "execution_count": null,
   "id": "37af9845",
   "metadata": {},
   "outputs": [],
   "source": []
  },
  {
   "cell_type": "code",
   "execution_count": null,
   "id": "3c516b6c",
   "metadata": {},
   "outputs": [],
   "source": []
  },
  {
   "cell_type": "code",
   "execution_count": null,
   "id": "9e810159",
   "metadata": {},
   "outputs": [],
   "source": []
  },
  {
   "cell_type": "code",
   "execution_count": null,
   "id": "22cb30c4",
   "metadata": {},
   "outputs": [],
   "source": []
  },
  {
   "cell_type": "code",
   "execution_count": null,
   "id": "f4046d85",
   "metadata": {},
   "outputs": [],
   "source": []
  },
  {
   "cell_type": "code",
   "execution_count": null,
   "id": "e957c654",
   "metadata": {},
   "outputs": [],
   "source": []
  },
  {
   "cell_type": "code",
   "execution_count": null,
   "id": "11e5badb",
   "metadata": {},
   "outputs": [],
   "source": []
  },
  {
   "cell_type": "code",
   "execution_count": null,
   "id": "92dc082f",
   "metadata": {},
   "outputs": [],
   "source": []
  }
 ],
 "metadata": {
  "kernelspec": {
   "display_name": "Python 3 (ipykernel)",
   "language": "python",
   "name": "python3"
  },
  "language_info": {
   "codemirror_mode": {
    "name": "ipython",
    "version": 3
   },
   "file_extension": ".py",
   "mimetype": "text/x-python",
   "name": "python",
   "nbconvert_exporter": "python",
   "pygments_lexer": "ipython3",
   "version": "3.12.3"
  }
 },
 "nbformat": 4,
 "nbformat_minor": 5
}
