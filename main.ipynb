{
 "cells": [
  {
   "cell_type": "markdown",
   "id": "a57e994f-1e28-4f49-ad50-8fb294034b1c",
   "metadata": {},
   "source": [
    "<center> <b><h1>CHESS LENS</h1></b><br>\n",
    "<b><h2>Team BSB64</h2></b></center>"
   ]
  },
  {
   "cell_type": "code",
   "execution_count": 1,
   "id": "7bc6a118-997a-41fb-9fe7-625b67b1fa25",
   "metadata": {},
   "outputs": [],
   "source": [
    "import sys\n",
    "sys.path.append('./utils')\n",
    "\n",
    "import os"
   ]
  },
  {
   "cell_type": "code",
   "execution_count": 2,
   "id": "0fb731b7-0f62-4fb1-8d5c-577aa0e3f869",
   "metadata": {},
   "outputs": [],
   "source": [
    "import numpy as np\n",
    "import cv2\n",
    "import matplotlib.pyplot as plt\n",
    "import pandas as pd"
   ]
  },
  {
   "cell_type": "code",
   "execution_count": 3,
   "id": "3c3649fd-c59b-4eab-a1c7-61a0c60ce9fd",
   "metadata": {},
   "outputs": [],
   "source": [
    "import occupancy_detector as od\n",
    "import chessboard_processor as cbd\n",
    "import detector as md\n",
    "import visualizer"
   ]
  },
  {
   "cell_type": "code",
   "execution_count": 4,
   "id": "fecef68b-5962-42ea-abcd-adee3aa27762",
   "metadata": {},
   "outputs": [],
   "source": [
    "board_matrix = [\n",
    "    [\"r\", \"n\", \"b\", \"q\", \"k\", \"b\", \"n\", \"r\"],\n",
    "    [\"p\"] * 8,\n",
    "    [\"\"] * 8,\n",
    "    [\"\"] * 8,\n",
    "    [\"\"] * 8,\n",
    "    [\"\"] * 8,\n",
    "    [\"P\"] * 8,\n",
    "    [\"R\", \"N\", \"B\", \"Q\", \"K\", \"B\", \"N\", \"R\"]\n",
    "]"
   ]
  },
  {
   "cell_type": "markdown",
   "id": "16d62dc7-b82b-4995-b8f5-e60bad48da5a",
   "metadata": {},
   "source": [
    "## Preprocess the Chessboard"
   ]
  },
  {
   "cell_type": "code",
   "execution_count": 5,
   "id": "938e099f-0d62-43b9-b3f9-b135072d9ce9",
   "metadata": {},
   "outputs": [
    {
     "name": "stderr",
     "output_type": "stream",
     "text": [
      "QSocketNotifier: Can only be used with threads started with QThread\n"
     ]
    }
   ],
   "source": [
    "cbd.process_chessboard(\"images/board/test3.jpeg\",\"images/demo5/\",\"box\",True)"
   ]
  },
  {
   "cell_type": "markdown",
   "id": "438bd6b1-0013-4f65-8501-25c3f245eaba",
   "metadata": {},
   "source": [
    "## Checking the ACCURACY of OCCUPANCY Detector"
   ]
  },
  {
   "cell_type": "code",
   "execution_count": 40,
   "id": "4eb8c14f-5ca9-45da-b417-f16fc12456a9",
   "metadata": {
    "scrolled": true
   },
   "outputs": [
    {
     "name": "stdout",
     "output_type": "stream",
     "text": [
      "Status\t\tActual\tPredicted\n",
      "Std_dev = 54.40071551481788\n",
      "edge_density = 0.1127340456817959\n",
      "Processing:images/demo4/box-3-true.jpg\t\t1\t1\n",
      "Std_dev = 52.374225152294635\n",
      "edge_density = 0.05989608861876287\n",
      "Processing:images/demo4/box-11-true.jpg\t\t1\t1\n",
      "Std_dev = 30.213455232881326\n",
      "edge_density = 0.019507891383197726\n",
      "Processing:images/demo4/box-46.jpg\t\t0\t0\n",
      "Std_dev = 36.0466682494598\n",
      "edge_density = 0.055680815606313105\n",
      "Processing:images/demo4/box-61-true.jpg\t\t1\t1\n",
      "Std_dev = 34.94339152115216\n",
      "edge_density = 0.026958141358690325\n",
      "Processing:images/demo4/box-31.jpg\t\t0\t1\n",
      "Std_dev = 37.36754620318535\n",
      "edge_density = 0.021860601901774336\n",
      "Processing:images/demo4/box-21.jpg\t\t0\t1\n",
      "Std_dev = 35.35293974218647\n",
      "edge_density = 0.02333104597588472\n",
      "Processing:images/demo4/box-20.jpg\t\t0\t1\n",
      "Std_dev = 38.48196666958099\n",
      "edge_density = 0.02627193412410548\n",
      "Processing:images/demo4/box-16.jpg\t\t0\t1\n",
      "Std_dev = 31.157530912803576\n",
      "edge_density = 0.021468483482011566\n",
      "Processing:images/demo4/box-29.jpg\t\t0\t1\n",
      "Std_dev = 38.20442452930324\n",
      "edge_density = 0.052641897853151653\n",
      "Processing:images/demo4/box-54-true.jpg\t\t1\t1\n",
      "Std_dev = 59.548883623333026\n",
      "edge_density = 0.052445838643270265\n",
      "Processing:images/demo4/box-58-true.jpg\t\t1\t1\n",
      "Std_dev = 60.25801460707392\n",
      "edge_density = 0.05626899323595726\n",
      "Processing:images/demo4/box-51-true.jpg\t\t1\t1\n",
      "Std_dev = 54.18358798807746\n",
      "edge_density = 0.06538574649544163\n",
      "Processing:images/demo4/box-9-true.jpg\t\t1\t1\n",
      "Std_dev = 47.40258260154577\n",
      "edge_density = 0.0595039701990001\n",
      "Processing:images/demo4/box-12-true.jpg\t\t1\t1\n",
      "Std_dev = 38.400823375328244\n",
      "edge_density = 0.021958631506715027\n",
      "Processing:images/demo4/box-33.jpg\t\t0\t1\n",
      "Std_dev = 34.268848270577514\n",
      "edge_density = 0.02068424664248603\n",
      "Processing:images/demo4/box-41.jpg\t\t0\t1\n",
      "Std_dev = 43.410642556636965\n",
      "edge_density = 0.058131555729830406\n",
      "Processing:images/demo4/box-10-true.jpg\t\t1\t1\n",
      "Std_dev = 33.90271115203559\n",
      "edge_density = 0.021468483482011566\n",
      "Processing:images/demo4/box-26.jpg\t\t0\t1\n",
      "Std_dev = 53.02050630705275\n",
      "edge_density = 0.1116557200274483\n",
      "Processing:images/demo4/box-5-true.jpg\t\t1\t1\n",
      "Std_dev = 23.565036593789255\n",
      "edge_density = 0.03705519066758161\n",
      "Processing:images/demo4/box-43.jpg\t\t0\t1\n",
      "Std_dev = 57.601391425527666\n",
      "edge_density = 0.12243897657092442\n",
      "Processing:images/demo4/box-2-true.jpg\t\t1\t1\n",
      "Std_dev = 32.0076128405139\n",
      "edge_density = 0.027154200568571707\n",
      "Processing:images/demo4/box-39.jpg\t\t0\t1\n",
      "Std_dev = 34.889041650339244\n",
      "edge_density = 0.07165964121164592\n",
      "Processing:images/demo4/box-63-true.jpg\t\t1\t1\n",
      "Std_dev = 57.20102404157454\n",
      "edge_density = 0.09753945691598863\n",
      "Processing:images/demo4/box-15-true.jpg\t\t1\t1\n",
      "Std_dev = 57.50897008391015\n",
      "edge_density = 0.044505440643074205\n",
      "Processing:images/demo4/box-55-true.jpg\t\t1\t1\n",
      "Std_dev = 34.34119547883033\n",
      "edge_density = 0.03195765121066562\n",
      "Processing:images/demo4/box-32.jpg\t\t0\t1\n",
      "Std_dev = 31.660356388057725\n",
      "edge_density = 0.019605920988138417\n",
      "Processing:images/demo4/box-42.jpg\t\t0\t0\n",
      "Std_dev = 48.15952984170058\n",
      "edge_density = 0.08587393392804626\n",
      "Processing:images/demo4/box-7-true.jpg\t\t1\t1\n",
      "Std_dev = 53.02371773139547\n",
      "edge_density = 0.05156357219880404\n",
      "Processing:images/demo4/box-53-true.jpg\t\t1\t1\n",
      "Std_dev = 54.80482892135856\n",
      "edge_density = 0.06999313792765414\n",
      "Processing:images/demo4/box-13-true.jpg\t\t1\t1\n",
      "Std_dev = 62.075688924955536\n",
      "edge_density = 0.07362023331045976\n",
      "Processing:images/demo4/box-56-true.jpg\t\t1\t1\n",
      "Std_dev = 43.865190095923346\n",
      "edge_density = 0.05979805901382217\n",
      "Processing:images/demo4/box-59-true.jpg\t\t1\t1\n",
      "Std_dev = 59.981925407950996\n",
      "edge_density = 0.058131555729830406\n",
      "Processing:images/demo4/box-60-true.jpg\t\t1\t1\n",
      "Std_dev = 26.600652034592688\n",
      "edge_density = 0.02578178609940202\n",
      "Processing:images/demo4/box-44.jpg\t\t0\t1\n",
      "Std_dev = 36.08197153576797\n",
      "edge_density = 0.01970395059307911\n",
      "Processing:images/demo4/box-30.jpg\t\t0\t0\n",
      "Std_dev = 27.88065995559939\n",
      "edge_density = 0.029310851877266935\n",
      "Processing:images/demo4/box-35.jpg\t\t0\t1\n",
      "Std_dev = 44.237522811979176\n",
      "edge_density = 0.05920988138417802\n",
      "Processing:images/demo4/box-50-true.jpg\t\t1\t1\n",
      "Std_dev = 41.58083839750204\n",
      "edge_density = 0.024115282815410255\n",
      "Processing:images/demo4/box-24.jpg\t\t0\t1\n",
      "Std_dev = 61.37812913178564\n",
      "edge_density = 0.10224487795314186\n",
      "Processing:images/demo4/box-6-true.jpg\t\t1\t1\n",
      "Std_dev = 43.02434691761449\n",
      "edge_density = 0.04440741103813352\n",
      "Processing:images/demo4/box-8-true.jpg\t\t1\t1\n",
      "Std_dev = 62.83594238999404\n",
      "edge_density = 0.055092637976668954\n",
      "Processing:images/demo4/box-49-true.jpg\t\t1\t1\n",
      "Std_dev = 38.087966943246634\n",
      "edge_density = 0.07607097343397706\n",
      "Processing:images/demo4/box-52-true.jpg\t\t1\t1\n",
      "Std_dev = 30.476744298823014\n",
      "edge_density = 0.032153710420547\n",
      "Processing:images/demo4/box-34.jpg\t\t0\t1\n",
      "Std_dev = 52.76277736239308\n",
      "edge_density = 0.0631310655818057\n",
      "Processing:images/demo4/box-62-true.jpg\t\t1\t1\n",
      "Std_dev = 27.861606473778224\n",
      "edge_density = 0.02440937163023233\n",
      "Processing:images/demo4/box-36.jpg\t\t0\t1\n",
      "Std_dev = 33.22716219302837\n",
      "edge_density = 0.019605920988138417\n",
      "Processing:images/demo4/box-28.jpg\t\t0\t0\n",
      "Std_dev = 34.447681685676045\n",
      "edge_density = 0.022546809136359182\n",
      "Processing:images/demo4/box-19.jpg\t\t0\t1\n",
      "Std_dev = 36.64449359030991\n",
      "edge_density = 0.027448289383393786\n",
      "Processing:images/demo4/box-25.jpg\t\t0\t1\n",
      "Std_dev = 59.8997132442219\n",
      "edge_density = 0.07616900303891776\n",
      "Processing:images/demo4/box-0-true.jpg\t\t1\t1\n",
      "Std_dev = 46.684070015498826\n",
      "edge_density = 0.06734633859425547\n",
      "Processing:images/demo4/box-57-true.jpg\t\t1\t1\n",
      "Std_dev = 30.306302900710406\n",
      "edge_density = 0.031271443976080775\n",
      "Processing:images/demo4/box-47.jpg\t\t0\t1\n",
      "Std_dev = 33.350976356545736\n",
      "edge_density = 0.020782276247426724\n",
      "Processing:images/demo4/box-23.jpg\t\t0\t1\n",
      "Std_dev = 51.152849335075594\n",
      "edge_density = 0.07322811489069699\n",
      "Processing:images/demo4/box-14-true.jpg\t\t1\t1\n",
      "Std_dev = 35.56190741970631\n",
      "edge_density = 0.01970395059307911\n",
      "Processing:images/demo4/box-22.jpg\t\t0\t0\n",
      "Std_dev = 36.564667145775765\n",
      "edge_density = 0.02921282227232624\n",
      "Processing:images/demo4/box-17.jpg\t\t0\t1\n",
      "Std_dev = 22.658813865243275\n",
      "edge_density = 0.019605920988138417\n",
      "Processing:images/demo4/box-45.jpg\t\t0\t0\n",
      "Std_dev = 29.71434287153319\n",
      "edge_density = 0.03587883540829331\n",
      "Processing:images/demo4/box-27.jpg\t\t0\t1\n",
      "Std_dev = 36.91665913372879\n",
      "edge_density = 0.07989412802666405\n",
      "Processing:images/demo4/box-48-true.jpg\t\t1\t1\n",
      "Std_dev = 45.022643168330255\n",
      "edge_density = 0.05166160180374473\n",
      "Processing:images/demo4/box-1-true.jpg\t\t1\t1\n",
      "Std_dev = 29.9670991081219\n",
      "edge_density = 0.019507891383197726\n",
      "Processing:images/demo4/box-37.jpg\t\t0\t0\n",
      "Std_dev = 36.34028215547514\n",
      "edge_density = 0.04195667091461622\n",
      "Processing:images/demo4/box-18.jpg\t\t0\t1\n",
      "Std_dev = 55.81019970007134\n",
      "edge_density = 0.12204685815116165\n",
      "Processing:images/demo4/box-4-true.jpg\t\t1\t1\n",
      "Std_dev = 40.930284593207546\n",
      "edge_density = 0.029800999901970396\n",
      "Processing:images/demo4/box-40.jpg\t\t0\t1\n",
      "Std_dev = 28.363696687368904\n",
      "edge_density = 0.01970395059307911\n",
      "Processing:images/demo4/box-38.jpg\t\t0\t0\n"
     ]
    }
   ],
   "source": [
    "### THIS CELL IS REDUNDANT, DO NOT RUN IT!!! ###\n",
    "\n",
    "\n",
    "folder = \"images/demo4\"\n",
    "actual_labels, predicted_labels = [],[]\n",
    "\n",
    "print(\"Status\\t\\tActual\\tPredicted\")\n",
    "for filename in os.listdir(folder):\n",
    "    if filename.endswith(\".jpg\") or filename.endswith(\".png\"):\n",
    "        file_path = os.path.join(folder, filename)\n",
    "        actual_labels+=[1] if \"true\" in filename else [0]\n",
    "\n",
    "        box = cv2.imread(file_path, cv2.IMREAD_GRAYSCALE)\n",
    "        pred = od.is_occupied(box)\n",
    "        predicted_labels+=[1] if pred==True else [0]\n",
    "        print(f\"Processing:{file_path}\\t\\t{actual_labels[-1]}\\t{predicted_labels[-1]}\")\n",
    "        "
   ]
  },
  {
   "cell_type": "code",
   "execution_count": 8,
   "id": "840f4f09",
   "metadata": {},
   "outputs": [
    {
     "name": "stdout",
     "output_type": "stream",
     "text": [
      "Trying different thresholds...\n",
      "\n",
      "✅ Best Accuracy: 0.8906\n",
      "Optimal std_thresh: 40, edge_thresh: 0\n",
      "\n",
      "Status\t\tActual\tPredicted\tFilename\n",
      "Correct\t\t1\t1\t\tbox-3-true.jpg\n",
      "Correct\t\t1\t1\t\tbox-11-true.jpg\n",
      "Correct\t\t0\t0\t\tbox-46.jpg\n",
      "Wrong\t\t1\t0\t\tbox-61-true.jpg\n",
      "Correct\t\t0\t0\t\tbox-31.jpg\n",
      "Correct\t\t0\t0\t\tbox-21.jpg\n",
      "Correct\t\t0\t0\t\tbox-20.jpg\n",
      "Correct\t\t0\t0\t\tbox-16.jpg\n",
      "Correct\t\t0\t0\t\tbox-29.jpg\n",
      "Wrong\t\t1\t0\t\tbox-54-true.jpg\n",
      "Correct\t\t1\t1\t\tbox-58-true.jpg\n",
      "Correct\t\t1\t1\t\tbox-51-true.jpg\n",
      "Correct\t\t1\t1\t\tbox-9-true.jpg\n",
      "Correct\t\t1\t1\t\tbox-12-true.jpg\n",
      "Correct\t\t0\t0\t\tbox-33.jpg\n",
      "Correct\t\t0\t0\t\tbox-41.jpg\n",
      "Correct\t\t1\t1\t\tbox-10-true.jpg\n",
      "Correct\t\t0\t0\t\tbox-26.jpg\n",
      "Correct\t\t1\t1\t\tbox-5-true.jpg\n",
      "Correct\t\t0\t0\t\tbox-43.jpg\n",
      "Correct\t\t1\t1\t\tbox-2-true.jpg\n",
      "Correct\t\t0\t0\t\tbox-39.jpg\n",
      "Wrong\t\t1\t0\t\tbox-63-true.jpg\n",
      "Correct\t\t1\t1\t\tbox-15-true.jpg\n",
      "Correct\t\t1\t1\t\tbox-55-true.jpg\n",
      "Correct\t\t0\t0\t\tbox-32.jpg\n",
      "Correct\t\t0\t0\t\tbox-42.jpg\n",
      "Correct\t\t1\t1\t\tbox-7-true.jpg\n",
      "Correct\t\t1\t1\t\tbox-53-true.jpg\n",
      "Correct\t\t1\t1\t\tbox-13-true.jpg\n",
      "Correct\t\t1\t1\t\tbox-56-true.jpg\n",
      "Correct\t\t1\t1\t\tbox-59-true.jpg\n",
      "Correct\t\t1\t1\t\tbox-60-true.jpg\n",
      "Correct\t\t0\t0\t\tbox-44.jpg\n",
      "Correct\t\t0\t0\t\tbox-30.jpg\n",
      "Correct\t\t0\t0\t\tbox-35.jpg\n",
      "Correct\t\t1\t1\t\tbox-50-true.jpg\n",
      "Wrong\t\t0\t1\t\tbox-24.jpg\n",
      "Correct\t\t1\t1\t\tbox-6-true.jpg\n",
      "Correct\t\t1\t1\t\tbox-8-true.jpg\n",
      "Correct\t\t1\t1\t\tbox-49-true.jpg\n",
      "Wrong\t\t1\t0\t\tbox-52-true.jpg\n",
      "Correct\t\t0\t0\t\tbox-34.jpg\n",
      "Correct\t\t1\t1\t\tbox-62-true.jpg\n",
      "Correct\t\t0\t0\t\tbox-36.jpg\n",
      "Correct\t\t0\t0\t\tbox-28.jpg\n",
      "Correct\t\t0\t0\t\tbox-19.jpg\n",
      "Correct\t\t0\t0\t\tbox-25.jpg\n",
      "Correct\t\t1\t1\t\tbox-0-true.jpg\n",
      "Correct\t\t1\t1\t\tbox-57-true.jpg\n",
      "Correct\t\t0\t0\t\tbox-47.jpg\n",
      "Correct\t\t0\t0\t\tbox-23.jpg\n",
      "Correct\t\t1\t1\t\tbox-14-true.jpg\n",
      "Correct\t\t0\t0\t\tbox-22.jpg\n",
      "Correct\t\t0\t0\t\tbox-17.jpg\n",
      "Correct\t\t0\t0\t\tbox-45.jpg\n",
      "Correct\t\t0\t0\t\tbox-27.jpg\n",
      "Wrong\t\t1\t0\t\tbox-48-true.jpg\n",
      "Correct\t\t1\t1\t\tbox-1-true.jpg\n",
      "Correct\t\t0\t0\t\tbox-37.jpg\n",
      "Correct\t\t0\t0\t\tbox-18.jpg\n",
      "Correct\t\t1\t1\t\tbox-4-true.jpg\n",
      "Wrong\t\t0\t1\t\tbox-40.jpg\n",
      "Correct\t\t0\t0\t\tbox-38.jpg\n"
     ]
    }
   ],
   "source": [
    "import os\n",
    "import cv2\n",
    "import numpy as np\n",
    "from sklearn.metrics import accuracy_score\n",
    "\n",
    "# === Rule-based occupancy detector ===\n",
    "def is_occupied(img, std_thresh, edge_thresh):\n",
    "    std_dev = np.std(img)\n",
    "    edges = cv2.Canny(img, edge_thresh // 2, edge_thresh)\n",
    "    edge_density = np.sum(edges > 0) / img.size\n",
    "    return std_dev > std_thresh and edge_density > 0.02\n",
    "\n",
    "# === Load data and actual labels from filenames ===\n",
    "folder = \"images/demo5\"\n",
    "images = []\n",
    "actual_labels = []\n",
    "filenames = []\n",
    "\n",
    "for filename in os.listdir(folder):\n",
    "    if filename.endswith(\".jpg\") or filename.endswith(\".png\"):\n",
    "        file_path = os.path.join(folder, filename)\n",
    "        img = cv2.imread(file_path, cv2.IMREAD_GRAYSCALE)\n",
    "        images.append(img)\n",
    "        actual_labels.append(1 if \"true\" in filename else 0)\n",
    "        filenames.append(filename)\n",
    "\n",
    "# === Try various combinations of thresholds ===\n",
    "best_acc = 0\n",
    "best_params = (0, 0)\n",
    "best_predictions = []\n",
    "\n",
    "print(\"Trying different thresholds...\")\n",
    "for std_thresh in range(0, 1000, 5):\n",
    "    for edge_thresh in range(0, 2000, 10):\n",
    "        predicted_labels = [\n",
    "            1 if is_occupied(img, std_thresh, edge_thresh) else 0\n",
    "            for img in images\n",
    "        ]\n",
    "        acc = accuracy_score(actual_labels, predicted_labels)\n",
    "        \n",
    "        if acc > best_acc:\n",
    "            best_acc = acc\n",
    "            best_params = (std_thresh, edge_thresh)\n",
    "            best_predictions = predicted_labels.copy()\n",
    "\n",
    "# === Output best result summary ===\n",
    "print(f\"\\n✅ Best Accuracy: {best_acc:.4f}\")\n",
    "print(f\"Optimal std_thresh: {best_params[0]}, edge_thresh: {best_params[1]}\")\n",
    "print(\"\\nStatus\\t\\tActual\\tPredicted\\tFilename\")\n",
    "\n",
    "for actual, predicted, fname in zip(actual_labels, best_predictions, filenames):\n",
    "    status = \"Correct\" if actual == predicted else \"Wrong\"\n",
    "    print(f\"{status}\\t\\t{actual}\\t{predicted}\\t\\t{fname}\")\n",
    "\n"
   ]
  },
  {
   "cell_type": "code",
   "execution_count": 19,
   "id": "2fd9c07f-6d08-4036-a35f-bc2c12fc595f",
   "metadata": {},
   "outputs": [],
   "source": [
    "TP = 0 # True Positives: Actual 1 and Pred 1\n",
    "FP = 0 # False Positives: Actual 0 but Pred 1\n",
    "FN = 0 # False Negatives: Actual 1 but Pred 0\n",
    "TN = 0 # True Negatives: Actual 0 and Pred 0"
   ]
  },
  {
   "cell_type": "code",
   "execution_count": 20,
   "id": "bd20fccb-8c17-4a32-8005-92dabe198884",
   "metadata": {
    "scrolled": true
   },
   "outputs": [
    {
     "name": "stdout",
     "output_type": "stream",
     "text": [
      "32\n"
     ]
    }
   ],
   "source": [
    "count = 0\n",
    "for i in actual_labels:\n",
    "    count+=1 if i==1 else 0\n",
    "\n",
    "print(count)"
   ]
  },
  {
   "cell_type": "code",
   "execution_count": 21,
   "id": "000332c8-16bd-42f9-8513-04657c6b40ef",
   "metadata": {},
   "outputs": [
    {
     "data": {
      "text/plain": [
       "64"
      ]
     },
     "execution_count": 21,
     "metadata": {},
     "output_type": "execute_result"
    }
   ],
   "source": [
    "len(actual_labels)"
   ]
  },
  {
   "cell_type": "code",
   "execution_count": 22,
   "id": "fda9a97c-d020-4f4e-bd4a-d95e8214517d",
   "metadata": {},
   "outputs": [
    {
     "name": "stdout",
     "output_type": "stream",
     "text": [
      "29\n"
     ]
    }
   ],
   "source": [
    "count = 0\n",
    "# for i in predicted_labels:\n",
    "for i in best_predictions:\n",
    "    count+=1 if i==1 else 0\n",
    "\n",
    "print(count)"
   ]
  },
  {
   "cell_type": "code",
   "execution_count": 23,
   "id": "74e56d0a-ee2b-4fcf-8b87-bb31bc3d4276",
   "metadata": {},
   "outputs": [],
   "source": [
    "for i in range(64):\n",
    "    TP+=1 if actual_labels[i]==1 and best_predictions[i]==1 else 0\n",
    "    FP+=1 if actual_labels[i]==0 and best_predictions[i]==1 else 0\n",
    "    FN+=1 if actual_labels[i]==1 and best_predictions[i]==0 else 0\n",
    "    TN+=1 if actual_labels[i]==0 and best_predictions[i]==0 else 0"
   ]
  },
  {
   "cell_type": "code",
   "execution_count": 24,
   "id": "f7223c39-b740-4fbe-8dca-6fa5967369c3",
   "metadata": {},
   "outputs": [
    {
     "data": {
      "text/plain": [
       "0.890625"
      ]
     },
     "execution_count": 24,
     "metadata": {},
     "output_type": "execute_result"
    }
   ],
   "source": [
    "from sklearn.metrics import accuracy_score\n",
    "y_pred = [0, 2, 1, 3]\n",
    "y_true = [0, 1, 2, 3]\n",
    "accuracy_score(actual_labels, best_predictions)"
   ]
  },
  {
   "cell_type": "code",
   "execution_count": 25,
   "id": "f4e1ed09-6d09-47a4-a0aa-9711cd8411b5",
   "metadata": {},
   "outputs": [
    {
     "name": "stdout",
     "output_type": "stream",
     "text": [
      "Accuracy = 0.890625\n"
     ]
    }
   ],
   "source": [
    "print(f\"Accuracy = {(TP+TN)/(TP+TN+FN+FP)}\")"
   ]
  },
  {
   "cell_type": "code",
   "execution_count": null,
   "id": "040029c3",
   "metadata": {},
   "outputs": [],
   "source": [
    "# model = RandomForestClassifier()"
   ]
  },
  {
   "cell_type": "code",
   "execution_count": 18,
   "id": "a03a8ba4-cf97-4fec-adbf-864a890c5216",
   "metadata": {},
   "outputs": [
    {
     "name": "stdout",
     "output_type": "stream",
     "text": [
      "Std_dev = 40.523988249462306\n",
      "edge_density = 0.10067637877211238\n"
     ]
    },
    {
     "data": {
      "text/plain": [
       "True"
      ]
     },
     "execution_count": 18,
     "metadata": {},
     "output_type": "execute_result"
    }
   ],
   "source": [
    "od.is_occupied(cv2.imread(\"images/demo/box-10-true.jpg\",cv2.IMREAD_GRAYSCALE))"
   ]
  },
  {
   "cell_type": "code",
   "execution_count": 20,
   "id": "2bb803c8-dcc1-44b0-bb6e-a30bb2029266",
   "metadata": {},
   "outputs": [
    {
     "name": "stdout",
     "output_type": "stream",
     "text": [
      "Std_dev = 41.5222200709579\n",
      "edge_density = 0.04890738813735692\n"
     ]
    },
    {
     "data": {
      "text/plain": [
       "True"
      ]
     },
     "execution_count": 20,
     "metadata": {},
     "output_type": "execute_result"
    }
   ],
   "source": [
    "od.is_occupied(cv2.imread(\"images/demo/box-17.jpg\",cv2.IMREAD_GRAYSCALE))"
   ]
  },
  {
   "cell_type": "code",
   "execution_count": 39,
   "id": "9395cc38-60c3-4a0f-99ad-91b53f0425a1",
   "metadata": {},
   "outputs": [],
   "source": [
    "def is_occupied(square_img, std_thresh=27, edge_thresh=100):\n",
    "    std_dev = np.std(square_img)\n",
    "    edges = cv2.Canny(square_img, 50, 150)\n",
    "    edge_density = np.sum(edges > 0) / square_img.size\n",
    "    print(f\"Std_dev = {std_dev}\")\n",
    "    print(f\"edge_density = {edge_density}\")\n",
    "    return std_dev > std_thresh and edge_density > 0.02"
   ]
  },
  {
   "cell_type": "code",
   "execution_count": 40,
   "id": "7e8f7513-0b97-4a0b-aecc-9d1064edf114",
   "metadata": {},
   "outputs": [
    {
     "name": "stdout",
     "output_type": "stream",
     "text": [
      "Std_dev = 26.26463519151476\n",
      "edge_density = 0.02423411065386374\n"
     ]
    },
    {
     "data": {
      "text/plain": [
       "False"
      ]
     },
     "execution_count": 40,
     "metadata": {},
     "output_type": "execute_result"
    }
   ],
   "source": [
    "is_occupied(cv2.imread(\"images/box-2.jpg\",cv2.IMREAD_GRAYSCALE))"
   ]
  },
  {
   "cell_type": "code",
   "execution_count": 41,
   "id": "10a9ff9b-cf78-428f-9804-bfb90fd20feb",
   "metadata": {},
   "outputs": [
    {
     "name": "stdout",
     "output_type": "stream",
     "text": [
      "Std_dev = 61.01861777268127\n",
      "edge_density = 0.07133058984910837\n"
     ]
    },
    {
     "data": {
      "text/plain": [
       "True"
      ]
     },
     "execution_count": 41,
     "metadata": {},
     "output_type": "execute_result"
    }
   ],
   "source": [
    "is_occupied(cv2.imread(\"images/box-9-true.jpg\",cv2.IMREAD_GRAYSCALE))"
   ]
  },
  {
   "cell_type": "code",
   "execution_count": null,
   "id": "2d392e46-0f9d-4d62-8cf3-bfae312464e4",
   "metadata": {},
   "outputs": [],
   "source": []
  },
  {
   "cell_type": "code",
   "execution_count": 42,
   "id": "94629c25-c54d-41c6-8dca-e1c8ab715331",
   "metadata": {},
   "outputs": [
    {
     "name": "stdout",
     "output_type": "stream",
     "text": [
      "45\n"
     ]
    }
   ],
   "source": [
    "count = 0\n",
    "for i in predicted_labels:\n",
    "    count+=1 if i==1 else 0\n",
    "\n",
    "print(count)"
   ]
  },
  {
   "cell_type": "code",
   "execution_count": 32,
   "id": "c04d63e0-07a7-466b-a8b2-7074321d06a2",
   "metadata": {
    "scrolled": true
   },
   "outputs": [
    {
     "name": "stdout",
     "output_type": "stream",
     "text": [
      "Status\t\tActual\tPredicted\n"
     ]
    }
   ],
   "source": [
    "folder = \"../images\"\n",
    "actual_labels, predicted_labels,sd,edge_densities = [],[],[],[]\n",
    "std_thresh=27;edge_thresh=100\n",
    "\n",
    "file_paths=[]\n",
    "print(\"Status\\t\\tActual\\tPredicted\")\n",
    "\n",
    "for filename in os.listdir(folder):\n",
    "    if filename.endswith(\".jpg\") or filename.endswith(\".png\"):\n",
    "        file_path = os.path.join(folder, filename)\n",
    "        file_paths+=[file_path]\n",
    "        \n",
    "        square_img = cv2.imread(file_path,cv2.IMREAD_GRAYSCALE)\n",
    "        square_img = square_img[10:-10,10:-10]\n",
    "        \n",
    "        actual_labels+=[1] if \"true\" in filename else [0]\n",
    "        \n",
    "        std_dev = np.std(square_img)\n",
    "        edges = cv2.Canny(square_img, 50, 150)\n",
    "        edge_density = np.sum(edges > 0) / square_img.size\n",
    "\n",
    "        predicted_labels+=[1] if (edge_density > 0.02) else [0]\n",
    "        \n",
    "        sd+=[std_dev]\n",
    "        edge_densities+=[edge_density]"
   ]
  },
  {
   "cell_type": "code",
   "execution_count": 33,
   "id": "703f9153-e4f8-4000-92bc-778b2fab5b78",
   "metadata": {},
   "outputs": [],
   "source": [
    "df = dict({\n",
    "    \"file_path\":file_paths,\n",
    "    # \"std_dev\":sd,\n",
    "    \"edge_density\":edge_densities,\n",
    "    \"actual_label\":actual_labels,\n",
    "    \"predicted_label\":predicted_labels\n",
    "})"
   ]
  },
  {
   "cell_type": "code",
   "execution_count": 34,
   "id": "c286f2b7-a02e-402a-bd0f-69e272facfed",
   "metadata": {},
   "outputs": [
    {
     "data": {
      "text/html": [
       "<div>\n",
       "<style scoped>\n",
       "    .dataframe tbody tr th:only-of-type {\n",
       "        vertical-align: middle;\n",
       "    }\n",
       "\n",
       "    .dataframe tbody tr th {\n",
       "        vertical-align: top;\n",
       "    }\n",
       "\n",
       "    .dataframe thead th {\n",
       "        text-align: right;\n",
       "    }\n",
       "</style>\n",
       "<table border=\"1\" class=\"dataframe\">\n",
       "  <thead>\n",
       "    <tr style=\"text-align: right;\">\n",
       "      <th></th>\n",
       "      <th>file_path</th>\n",
       "      <th>edge_density</th>\n",
       "      <th>actual_label</th>\n",
       "      <th>predicted_label</th>\n",
       "    </tr>\n",
       "  </thead>\n",
       "  <tbody>\n",
       "    <tr>\n",
       "      <th>0</th>\n",
       "      <td>../images/box-53-true.jpg</td>\n",
       "      <td>0.018006</td>\n",
       "      <td>1</td>\n",
       "      <td>0</td>\n",
       "    </tr>\n",
       "    <tr>\n",
       "      <th>1</th>\n",
       "      <td>../images/box-27.jpg</td>\n",
       "      <td>0.000000</td>\n",
       "      <td>0</td>\n",
       "      <td>0</td>\n",
       "    </tr>\n",
       "    <tr>\n",
       "      <th>2</th>\n",
       "      <td>../images/box-32.jpg</td>\n",
       "      <td>0.000000</td>\n",
       "      <td>0</td>\n",
       "      <td>0</td>\n",
       "    </tr>\n",
       "    <tr>\n",
       "      <th>3</th>\n",
       "      <td>../images/box-48.jpg</td>\n",
       "      <td>0.000000</td>\n",
       "      <td>0</td>\n",
       "      <td>0</td>\n",
       "    </tr>\n",
       "    <tr>\n",
       "      <th>4</th>\n",
       "      <td>../images/box-41-true.jpg</td>\n",
       "      <td>0.118248</td>\n",
       "      <td>1</td>\n",
       "      <td>1</td>\n",
       "    </tr>\n",
       "    <tr>\n",
       "      <th>...</th>\n",
       "      <td>...</td>\n",
       "      <td>...</td>\n",
       "      <td>...</td>\n",
       "      <td>...</td>\n",
       "    </tr>\n",
       "    <tr>\n",
       "      <th>59</th>\n",
       "      <td>../images/box-29-true.jpg</td>\n",
       "      <td>0.077130</td>\n",
       "      <td>1</td>\n",
       "      <td>1</td>\n",
       "    </tr>\n",
       "    <tr>\n",
       "      <th>60</th>\n",
       "      <td>../images/box-12-true.jpg</td>\n",
       "      <td>0.026068</td>\n",
       "      <td>1</td>\n",
       "      <td>1</td>\n",
       "    </tr>\n",
       "    <tr>\n",
       "      <th>61</th>\n",
       "      <td>../images/box-23.jpg</td>\n",
       "      <td>0.004569</td>\n",
       "      <td>0</td>\n",
       "      <td>0</td>\n",
       "    </tr>\n",
       "    <tr>\n",
       "      <th>62</th>\n",
       "      <td>../images/box-18.jpg</td>\n",
       "      <td>0.000000</td>\n",
       "      <td>0</td>\n",
       "      <td>0</td>\n",
       "    </tr>\n",
       "    <tr>\n",
       "      <th>63</th>\n",
       "      <td>../images/box-37-true.jpg</td>\n",
       "      <td>0.051599</td>\n",
       "      <td>1</td>\n",
       "      <td>1</td>\n",
       "    </tr>\n",
       "  </tbody>\n",
       "</table>\n",
       "<p>64 rows × 4 columns</p>\n",
       "</div>"
      ],
      "text/plain": [
       "                    file_path  edge_density  actual_label  predicted_label\n",
       "0   ../images/box-53-true.jpg      0.018006             1                0\n",
       "1        ../images/box-27.jpg      0.000000             0                0\n",
       "2        ../images/box-32.jpg      0.000000             0                0\n",
       "3        ../images/box-48.jpg      0.000000             0                0\n",
       "4   ../images/box-41-true.jpg      0.118248             1                1\n",
       "..                        ...           ...           ...              ...\n",
       "59  ../images/box-29-true.jpg      0.077130             1                1\n",
       "60  ../images/box-12-true.jpg      0.026068             1                1\n",
       "61       ../images/box-23.jpg      0.004569             0                0\n",
       "62       ../images/box-18.jpg      0.000000             0                0\n",
       "63  ../images/box-37-true.jpg      0.051599             1                1\n",
       "\n",
       "[64 rows x 4 columns]"
      ]
     },
     "execution_count": 34,
     "metadata": {},
     "output_type": "execute_result"
    }
   ],
   "source": [
    "df = pd.DataFrame(df)\n",
    "df"
   ]
  },
  {
   "cell_type": "code",
   "execution_count": 35,
   "id": "66567bd1-b2ae-4573-9a48-a2fbfce1937b",
   "metadata": {},
   "outputs": [
    {
     "data": {
      "text/html": [
       "<div>\n",
       "<style scoped>\n",
       "    .dataframe tbody tr th:only-of-type {\n",
       "        vertical-align: middle;\n",
       "    }\n",
       "\n",
       "    .dataframe tbody tr th {\n",
       "        vertical-align: top;\n",
       "    }\n",
       "\n",
       "    .dataframe thead th {\n",
       "        text-align: right;\n",
       "    }\n",
       "</style>\n",
       "<table border=\"1\" class=\"dataframe\">\n",
       "  <thead>\n",
       "    <tr style=\"text-align: right;\">\n",
       "      <th></th>\n",
       "      <th>file_path</th>\n",
       "      <th>edge_density</th>\n",
       "      <th>actual_label</th>\n",
       "      <th>predicted_label</th>\n",
       "    </tr>\n",
       "  </thead>\n",
       "  <tbody>\n",
       "    <tr>\n",
       "      <th>0</th>\n",
       "      <td>../images/box-53-true.jpg</td>\n",
       "      <td>0.018006</td>\n",
       "      <td>1</td>\n",
       "      <td>0</td>\n",
       "    </tr>\n",
       "    <tr>\n",
       "      <th>4</th>\n",
       "      <td>../images/box-41-true.jpg</td>\n",
       "      <td>0.118248</td>\n",
       "      <td>1</td>\n",
       "      <td>1</td>\n",
       "    </tr>\n",
       "    <tr>\n",
       "      <th>15</th>\n",
       "      <td>../images/box-14-true.jpg</td>\n",
       "      <td>0.083042</td>\n",
       "      <td>1</td>\n",
       "      <td>1</td>\n",
       "    </tr>\n",
       "    <tr>\n",
       "      <th>16</th>\n",
       "      <td>../images/box-52-true.jpg</td>\n",
       "      <td>0.048643</td>\n",
       "      <td>1</td>\n",
       "      <td>1</td>\n",
       "    </tr>\n",
       "    <tr>\n",
       "      <th>22</th>\n",
       "      <td>../images/box-26-true.jpg</td>\n",
       "      <td>0.101317</td>\n",
       "      <td>1</td>\n",
       "      <td>1</td>\n",
       "    </tr>\n",
       "    <tr>\n",
       "      <th>24</th>\n",
       "      <td>../images/box-59-true.jpg</td>\n",
       "      <td>0.046762</td>\n",
       "      <td>1</td>\n",
       "      <td>1</td>\n",
       "    </tr>\n",
       "    <tr>\n",
       "      <th>28</th>\n",
       "      <td>../images/box-9-true.jpg</td>\n",
       "      <td>0.069874</td>\n",
       "      <td>1</td>\n",
       "      <td>1</td>\n",
       "    </tr>\n",
       "    <tr>\n",
       "      <th>29</th>\n",
       "      <td>../images/box-47-true.jpg</td>\n",
       "      <td>0.071486</td>\n",
       "      <td>1</td>\n",
       "      <td>1</td>\n",
       "    </tr>\n",
       "    <tr>\n",
       "      <th>30</th>\n",
       "      <td>../images/box-17-true.jpg</td>\n",
       "      <td>0.123085</td>\n",
       "      <td>1</td>\n",
       "      <td>1</td>\n",
       "    </tr>\n",
       "    <tr>\n",
       "      <th>35</th>\n",
       "      <td>../images/box-28-true.jpg</td>\n",
       "      <td>0.105617</td>\n",
       "      <td>1</td>\n",
       "      <td>1</td>\n",
       "    </tr>\n",
       "    <tr>\n",
       "      <th>44</th>\n",
       "      <td>../images/box-42-true.jpg</td>\n",
       "      <td>0.061005</td>\n",
       "      <td>1</td>\n",
       "      <td>1</td>\n",
       "    </tr>\n",
       "    <tr>\n",
       "      <th>48</th>\n",
       "      <td>../images/box-38-true.jpg</td>\n",
       "      <td>0.081698</td>\n",
       "      <td>1</td>\n",
       "      <td>1</td>\n",
       "    </tr>\n",
       "    <tr>\n",
       "      <th>55</th>\n",
       "      <td>../images/box-25-true.jpg</td>\n",
       "      <td>0.071755</td>\n",
       "      <td>1</td>\n",
       "      <td>1</td>\n",
       "    </tr>\n",
       "    <tr>\n",
       "      <th>59</th>\n",
       "      <td>../images/box-29-true.jpg</td>\n",
       "      <td>0.077130</td>\n",
       "      <td>1</td>\n",
       "      <td>1</td>\n",
       "    </tr>\n",
       "    <tr>\n",
       "      <th>60</th>\n",
       "      <td>../images/box-12-true.jpg</td>\n",
       "      <td>0.026068</td>\n",
       "      <td>1</td>\n",
       "      <td>1</td>\n",
       "    </tr>\n",
       "    <tr>\n",
       "      <th>63</th>\n",
       "      <td>../images/box-37-true.jpg</td>\n",
       "      <td>0.051599</td>\n",
       "      <td>1</td>\n",
       "      <td>1</td>\n",
       "    </tr>\n",
       "  </tbody>\n",
       "</table>\n",
       "</div>"
      ],
      "text/plain": [
       "                    file_path  edge_density  actual_label  predicted_label\n",
       "0   ../images/box-53-true.jpg      0.018006             1                0\n",
       "4   ../images/box-41-true.jpg      0.118248             1                1\n",
       "15  ../images/box-14-true.jpg      0.083042             1                1\n",
       "16  ../images/box-52-true.jpg      0.048643             1                1\n",
       "22  ../images/box-26-true.jpg      0.101317             1                1\n",
       "24  ../images/box-59-true.jpg      0.046762             1                1\n",
       "28   ../images/box-9-true.jpg      0.069874             1                1\n",
       "29  ../images/box-47-true.jpg      0.071486             1                1\n",
       "30  ../images/box-17-true.jpg      0.123085             1                1\n",
       "35  ../images/box-28-true.jpg      0.105617             1                1\n",
       "44  ../images/box-42-true.jpg      0.061005             1                1\n",
       "48  ../images/box-38-true.jpg      0.081698             1                1\n",
       "55  ../images/box-25-true.jpg      0.071755             1                1\n",
       "59  ../images/box-29-true.jpg      0.077130             1                1\n",
       "60  ../images/box-12-true.jpg      0.026068             1                1\n",
       "63  ../images/box-37-true.jpg      0.051599             1                1"
      ]
     },
     "execution_count": 35,
     "metadata": {},
     "output_type": "execute_result"
    }
   ],
   "source": [
    "df[df['actual_label']==1]"
   ]
  },
  {
   "cell_type": "code",
   "execution_count": 36,
   "id": "978e63ab-906c-44c0-8f5d-4dd4d8951cbc",
   "metadata": {},
   "outputs": [
    {
     "data": {
      "text/plain": [
       "(16, 4)"
      ]
     },
     "execution_count": 36,
     "metadata": {},
     "output_type": "execute_result"
    }
   ],
   "source": [
    "df[df['actual_label']==1].shape"
   ]
  },
  {
   "cell_type": "code",
   "execution_count": 37,
   "id": "98cdffda-72fa-4970-8217-bae1aaf055be",
   "metadata": {},
   "outputs": [
    {
     "data": {
      "text/html": [
       "<div>\n",
       "<style scoped>\n",
       "    .dataframe tbody tr th:only-of-type {\n",
       "        vertical-align: middle;\n",
       "    }\n",
       "\n",
       "    .dataframe tbody tr th {\n",
       "        vertical-align: top;\n",
       "    }\n",
       "\n",
       "    .dataframe thead th {\n",
       "        text-align: right;\n",
       "    }\n",
       "</style>\n",
       "<table border=\"1\" class=\"dataframe\">\n",
       "  <thead>\n",
       "    <tr style=\"text-align: right;\">\n",
       "      <th></th>\n",
       "      <th>file_path</th>\n",
       "      <th>edge_density</th>\n",
       "      <th>actual_label</th>\n",
       "      <th>predicted_label</th>\n",
       "    </tr>\n",
       "  </thead>\n",
       "  <tbody>\n",
       "    <tr>\n",
       "      <th>4</th>\n",
       "      <td>../images/box-41-true.jpg</td>\n",
       "      <td>0.118248</td>\n",
       "      <td>1</td>\n",
       "      <td>1</td>\n",
       "    </tr>\n",
       "    <tr>\n",
       "      <th>11</th>\n",
       "      <td>../images/box-55.jpg</td>\n",
       "      <td>0.025800</td>\n",
       "      <td>0</td>\n",
       "      <td>1</td>\n",
       "    </tr>\n",
       "    <tr>\n",
       "      <th>15</th>\n",
       "      <td>../images/box-14-true.jpg</td>\n",
       "      <td>0.083042</td>\n",
       "      <td>1</td>\n",
       "      <td>1</td>\n",
       "    </tr>\n",
       "    <tr>\n",
       "      <th>16</th>\n",
       "      <td>../images/box-52-true.jpg</td>\n",
       "      <td>0.048643</td>\n",
       "      <td>1</td>\n",
       "      <td>1</td>\n",
       "    </tr>\n",
       "    <tr>\n",
       "      <th>22</th>\n",
       "      <td>../images/box-26-true.jpg</td>\n",
       "      <td>0.101317</td>\n",
       "      <td>1</td>\n",
       "      <td>1</td>\n",
       "    </tr>\n",
       "    <tr>\n",
       "      <th>24</th>\n",
       "      <td>../images/box-59-true.jpg</td>\n",
       "      <td>0.046762</td>\n",
       "      <td>1</td>\n",
       "      <td>1</td>\n",
       "    </tr>\n",
       "    <tr>\n",
       "      <th>28</th>\n",
       "      <td>../images/box-9-true.jpg</td>\n",
       "      <td>0.069874</td>\n",
       "      <td>1</td>\n",
       "      <td>1</td>\n",
       "    </tr>\n",
       "    <tr>\n",
       "      <th>29</th>\n",
       "      <td>../images/box-47-true.jpg</td>\n",
       "      <td>0.071486</td>\n",
       "      <td>1</td>\n",
       "      <td>1</td>\n",
       "    </tr>\n",
       "    <tr>\n",
       "      <th>30</th>\n",
       "      <td>../images/box-17-true.jpg</td>\n",
       "      <td>0.123085</td>\n",
       "      <td>1</td>\n",
       "      <td>1</td>\n",
       "    </tr>\n",
       "    <tr>\n",
       "      <th>35</th>\n",
       "      <td>../images/box-28-true.jpg</td>\n",
       "      <td>0.105617</td>\n",
       "      <td>1</td>\n",
       "      <td>1</td>\n",
       "    </tr>\n",
       "    <tr>\n",
       "      <th>40</th>\n",
       "      <td>../images/box-49.jpg</td>\n",
       "      <td>0.056974</td>\n",
       "      <td>0</td>\n",
       "      <td>1</td>\n",
       "    </tr>\n",
       "    <tr>\n",
       "      <th>44</th>\n",
       "      <td>../images/box-42-true.jpg</td>\n",
       "      <td>0.061005</td>\n",
       "      <td>1</td>\n",
       "      <td>1</td>\n",
       "    </tr>\n",
       "    <tr>\n",
       "      <th>48</th>\n",
       "      <td>../images/box-38-true.jpg</td>\n",
       "      <td>0.081698</td>\n",
       "      <td>1</td>\n",
       "      <td>1</td>\n",
       "    </tr>\n",
       "    <tr>\n",
       "      <th>52</th>\n",
       "      <td>../images/box-56.jpg</td>\n",
       "      <td>0.072292</td>\n",
       "      <td>0</td>\n",
       "      <td>1</td>\n",
       "    </tr>\n",
       "    <tr>\n",
       "      <th>55</th>\n",
       "      <td>../images/box-25-true.jpg</td>\n",
       "      <td>0.071755</td>\n",
       "      <td>1</td>\n",
       "      <td>1</td>\n",
       "    </tr>\n",
       "    <tr>\n",
       "      <th>59</th>\n",
       "      <td>../images/box-29-true.jpg</td>\n",
       "      <td>0.077130</td>\n",
       "      <td>1</td>\n",
       "      <td>1</td>\n",
       "    </tr>\n",
       "    <tr>\n",
       "      <th>60</th>\n",
       "      <td>../images/box-12-true.jpg</td>\n",
       "      <td>0.026068</td>\n",
       "      <td>1</td>\n",
       "      <td>1</td>\n",
       "    </tr>\n",
       "    <tr>\n",
       "      <th>63</th>\n",
       "      <td>../images/box-37-true.jpg</td>\n",
       "      <td>0.051599</td>\n",
       "      <td>1</td>\n",
       "      <td>1</td>\n",
       "    </tr>\n",
       "  </tbody>\n",
       "</table>\n",
       "</div>"
      ],
      "text/plain": [
       "                    file_path  edge_density  actual_label  predicted_label\n",
       "4   ../images/box-41-true.jpg      0.118248             1                1\n",
       "11       ../images/box-55.jpg      0.025800             0                1\n",
       "15  ../images/box-14-true.jpg      0.083042             1                1\n",
       "16  ../images/box-52-true.jpg      0.048643             1                1\n",
       "22  ../images/box-26-true.jpg      0.101317             1                1\n",
       "24  ../images/box-59-true.jpg      0.046762             1                1\n",
       "28   ../images/box-9-true.jpg      0.069874             1                1\n",
       "29  ../images/box-47-true.jpg      0.071486             1                1\n",
       "30  ../images/box-17-true.jpg      0.123085             1                1\n",
       "35  ../images/box-28-true.jpg      0.105617             1                1\n",
       "40       ../images/box-49.jpg      0.056974             0                1\n",
       "44  ../images/box-42-true.jpg      0.061005             1                1\n",
       "48  ../images/box-38-true.jpg      0.081698             1                1\n",
       "52       ../images/box-56.jpg      0.072292             0                1\n",
       "55  ../images/box-25-true.jpg      0.071755             1                1\n",
       "59  ../images/box-29-true.jpg      0.077130             1                1\n",
       "60  ../images/box-12-true.jpg      0.026068             1                1\n",
       "63  ../images/box-37-true.jpg      0.051599             1                1"
      ]
     },
     "execution_count": 37,
     "metadata": {},
     "output_type": "execute_result"
    }
   ],
   "source": [
    "df[df['predicted_label']==1]"
   ]
  },
  {
   "cell_type": "code",
   "execution_count": 38,
   "id": "ac6e39b6-5d1c-4a5e-9987-af5be22353f3",
   "metadata": {},
   "outputs": [
    {
     "data": {
      "text/plain": [
       "(18, 4)"
      ]
     },
     "execution_count": 38,
     "metadata": {},
     "output_type": "execute_result"
    }
   ],
   "source": [
    "df[df['predicted_label']==1].shape"
   ]
  },
  {
   "cell_type": "code",
   "execution_count": 96,
   "id": "bc1e5258-c0ad-4b08-bab0-70b73d4a6898",
   "metadata": {},
   "outputs": [],
   "source": [
    "sd_ones = df[df['actual_label']==1]['std_dev']"
   ]
  },
  {
   "cell_type": "code",
   "execution_count": 97,
   "id": "7479b0b8-eee9-4f66-ba13-172c5273abbb",
   "metadata": {},
   "outputs": [
    {
     "data": {
      "text/plain": [
       "71.09602774283795"
      ]
     },
     "execution_count": 97,
     "metadata": {},
     "output_type": "execute_result"
    }
   ],
   "source": [
    "sd_ones.max()"
   ]
  },
  {
   "cell_type": "code",
   "execution_count": 98,
   "id": "63e58f82-100e-4336-a966-180bd78d0f7a",
   "metadata": {},
   "outputs": [
    {
     "data": {
      "text/plain": [
       "9.642308632540242"
      ]
     },
     "execution_count": 98,
     "metadata": {},
     "output_type": "execute_result"
    }
   ],
   "source": [
    "sd_ones.min()"
   ]
  },
  {
   "cell_type": "code",
   "execution_count": 99,
   "id": "a4fd373a-ba42-4cda-ae7f-9efe911b9211",
   "metadata": {},
   "outputs": [],
   "source": [
    "sd_zeros = df[df['actual_label']==0]['std_dev']"
   ]
  },
  {
   "cell_type": "code",
   "execution_count": 100,
   "id": "7634125c-1537-4d93-8a90-8cabdb2df9b2",
   "metadata": {},
   "outputs": [
    {
     "data": {
      "text/plain": [
       "71.82590327375168"
      ]
     },
     "execution_count": 100,
     "metadata": {},
     "output_type": "execute_result"
    }
   ],
   "source": [
    "sd_zeros.max()"
   ]
  },
  {
   "cell_type": "code",
   "execution_count": 101,
   "id": "b3a83c91-9372-4300-b3bc-74b0d4038450",
   "metadata": {},
   "outputs": [
    {
     "data": {
      "text/plain": [
       "2.4293311013630015"
      ]
     },
     "execution_count": 101,
     "metadata": {},
     "output_type": "execute_result"
    }
   ],
   "source": [
    "sd_zeros.min()"
   ]
  },
  {
   "cell_type": "code",
   "execution_count": 102,
   "id": "bbd45f45-1904-4a4b-a1ce-04067b220acc",
   "metadata": {
    "scrolled": true
   },
   "outputs": [
    {
     "data": {
      "text/plain": [
       "1     16.080124\n",
       "2      6.351244\n",
       "3      5.476936\n",
       "5      4.261095\n",
       "6      4.914777\n",
       "7      3.661628\n",
       "8      5.762281\n",
       "9      4.986844\n",
       "10     7.837668\n",
       "11     8.951473\n",
       "12     3.579955\n",
       "13     3.543139\n",
       "14     3.734300\n",
       "17     4.557097\n",
       "18     5.514952\n",
       "19     4.589051\n",
       "20    11.907461\n",
       "21     5.885554\n",
       "23     8.305973\n",
       "25     4.269640\n",
       "26     4.534686\n",
       "27     3.810030\n",
       "31     3.963837\n",
       "32     5.449059\n",
       "33    12.620618\n",
       "34    18.140195\n",
       "36     5.768385\n",
       "37     5.084598\n",
       "38     4.506719\n",
       "39     2.429331\n",
       "40    10.310428\n",
       "41    16.533430\n",
       "42     4.917268\n",
       "43     6.424262\n",
       "45     4.401940\n",
       "46     6.972280\n",
       "47     9.888326\n",
       "49     4.339412\n",
       "50    15.279067\n",
       "51     3.896219\n",
       "52     9.656914\n",
       "53     2.700818\n",
       "54     5.427652\n",
       "55    71.825903\n",
       "57     4.318101\n",
       "58     3.986411\n",
       "59     4.946881\n",
       "62     3.809193\n",
       "63    12.698433\n",
       "Name: std_dev, dtype: float64"
      ]
     },
     "execution_count": 102,
     "metadata": {},
     "output_type": "execute_result"
    }
   ],
   "source": [
    "sd_zeros"
   ]
  },
  {
   "cell_type": "code",
   "execution_count": null,
   "id": "7db5db18-704d-40ed-927e-2880ac921d71",
   "metadata": {},
   "outputs": [],
   "source": []
  }
 ],
 "metadata": {
  "kernelspec": {
   "display_name": "Python 3 (ipykernel)",
   "language": "python",
   "name": "python3"
  },
  "language_info": {
   "codemirror_mode": {
    "name": "ipython",
    "version": 3
   },
   "file_extension": ".py",
   "mimetype": "text/x-python",
   "name": "python",
   "nbconvert_exporter": "python",
   "pygments_lexer": "ipython3",
   "version": "3.12.3"
  }
 },
 "nbformat": 4,
 "nbformat_minor": 5
}
