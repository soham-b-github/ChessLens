{
 "cells": [
  {
   "cell_type": "code",
   "execution_count": 1,
   "id": "2c99dfba",
   "metadata": {},
   "outputs": [],
   "source": [
    "# Take streaming data from mobile camera\n",
    "import cv2\n",
    "\n",
    "# Replace this with the actual address from the app\n",
    "url = 'http://192.168.1.195:8080/video'\n",
    "\n",
    "def capture_from_mobile(url):\n",
    "    cap = cv2.VideoCapture(url)\n",
    "\n",
    "    if not cap.isOpened():\n",
    "        print(\"Error: Unable to open mobile stream.\")\n",
    "        return\n",
    "\n",
    "    print(\"Press 'c' to capture a frame, 'q' to quit.\")\n",
    "\n",
    "    while True:\n",
    "        ret, frame = cap.read()\n",
    "        if not ret:\n",
    "            print(\"Failed to grab frame.\")\n",
    "            break\n",
    "\n",
    "        cv2.imshow('Mobile Stream', frame)\n",
    "\n",
    "        key = cv2.waitKey(1) & 0xFF\n",
    "        if key == ord('c'):\n",
    "            cv2.imwrite(\"images/mobile_frame.jpg\", frame)\n",
    "            print(\"Frame captured as 'mobile_frame.jpg'\")\n",
    "            return frame\n",
    "        elif key == ord('q'):\n",
    "            break\n",
    "\n",
    "    cap.release()\n",
    "    cv2.destroyAllWindows()\n",
    "\n",
    "# Example usage\n",
    "# capture_from_mobile(url)\n"
   ]
  },
  {
   "cell_type": "code",
   "execution_count": 2,
   "id": "54c0c395",
   "metadata": {},
   "outputs": [
    {
     "name": "stdout",
     "output_type": "stream",
     "text": [
      "Press 'c' to capture a frame, 'q' to quit.\n"
     ]
    },
    {
     "name": "stderr",
     "output_type": "stream",
     "text": [
      "QSocketNotifier: Can only be used with threads started with QThread\n"
     ]
    },
    {
     "name": "stdout",
     "output_type": "stream",
     "text": [
      "Frame captured as 'mobile_frame.jpg'\n"
     ]
    },
    {
     "data": {
      "text/plain": [
       "array([[[131, 142, 144],\n",
       "        [132, 143, 145],\n",
       "        [133, 144, 146],\n",
       "        ...,\n",
       "        [ 19,  27,  38],\n",
       "        [ 19,  27,  38],\n",
       "        [ 19,  27,  38]],\n",
       "\n",
       "       [[138, 149, 151],\n",
       "        [138, 149, 151],\n",
       "        [139, 150, 152],\n",
       "        ...,\n",
       "        [ 19,  27,  38],\n",
       "        [ 19,  27,  38],\n",
       "        [ 19,  27,  38]],\n",
       "\n",
       "       [[140, 151, 153],\n",
       "        [141, 152, 154],\n",
       "        [142, 153, 155],\n",
       "        ...,\n",
       "        [ 19,  27,  38],\n",
       "        [ 19,  27,  38],\n",
       "        [ 19,  27,  38]],\n",
       "\n",
       "       ...,\n",
       "\n",
       "       [[125, 125, 125],\n",
       "        [125, 125, 125],\n",
       "        [122, 122, 122],\n",
       "        ...,\n",
       "        [ 18,  33,  23],\n",
       "        [ 17,  43,   1],\n",
       "        [ 17,  43,   1]],\n",
       "\n",
       "       [[124, 124, 124],\n",
       "        [126, 126, 126],\n",
       "        [127, 127, 127],\n",
       "        ...,\n",
       "        [ 18,  40,  10],\n",
       "        [ 17,  52,   0],\n",
       "        [ 17,  52,   0]],\n",
       "\n",
       "       [[123, 123, 123],\n",
       "        [127, 127, 127],\n",
       "        [130, 130, 130],\n",
       "        ...,\n",
       "        [ 18,  40,  10],\n",
       "        [ 17,  52,   0],\n",
       "        [ 17,  52,   0]]], dtype=uint8)"
      ]
     },
     "execution_count": 2,
     "metadata": {},
     "output_type": "execute_result"
    }
   ],
   "source": [
    "capture_from_mobile(url)"
   ]
  },
  {
   "cell_type": "code",
   "execution_count": null,
   "id": "dbbd0c83",
   "metadata": {},
   "outputs": [],
   "source": []
  },
  {
   "cell_type": "code",
   "execution_count": null,
   "id": "17d12437",
   "metadata": {},
   "outputs": [],
   "source": []
  }
 ],
 "metadata": {
  "kernelspec": {
   "display_name": "Python 3 (ipykernel)",
   "language": "python",
   "name": "python3"
  },
  "language_info": {
   "codemirror_mode": {
    "name": "ipython",
    "version": 3
   },
   "file_extension": ".py",
   "mimetype": "text/x-python",
   "name": "python",
   "nbconvert_exporter": "python",
   "pygments_lexer": "ipython3",
   "version": "3.12.3"
  }
 },
 "nbformat": 4,
 "nbformat_minor": 5
}
