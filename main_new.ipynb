{
 "cells": [
  {
   "cell_type": "markdown",
   "id": "a57e994f-1e28-4f49-ad50-8fb294034b1c",
   "metadata": {},
   "source": [
    "<center> <b><h1>CHESS LENS</h1></b><br>\n",
    "<b><h2>Team BSB64</h2></b></center>"
   ]
  },
  {
   "cell_type": "code",
   "execution_count": 1,
   "id": "7bc6a118-997a-41fb-9fe7-625b67b1fa25",
   "metadata": {},
   "outputs": [],
   "source": [
    "import sys\n",
    "sys.path.append('./utils')\n",
    "\n",
    "import os"
   ]
  },
  {
   "cell_type": "code",
   "execution_count": 2,
   "id": "0fb731b7-0f62-4fb1-8d5c-577aa0e3f869",
   "metadata": {},
   "outputs": [],
   "source": [
    "import numpy as np\n",
    "import cv2\n",
    "import matplotlib.pyplot as plt\n",
    "import pandas as pd"
   ]
  },
  {
   "cell_type": "code",
   "execution_count": 3,
   "id": "3c3649fd-c59b-4eab-a1c7-61a0c60ce9fd",
   "metadata": {},
   "outputs": [],
   "source": [
    "import occupancy_detector as od\n",
    "import chessboard_processor as cbd\n",
    "import detector as md\n",
    "import visualizer"
   ]
  },
  {
   "cell_type": "markdown",
   "id": "16d62dc7-b82b-4995-b8f5-e60bad48da5a",
   "metadata": {},
   "source": [
    "## Preprocess the Chessboard"
   ]
  },
  {
   "cell_type": "code",
   "execution_count": 6,
   "id": "938e099f-0d62-43b9-b3f9-b135072d9ce9",
   "metadata": {},
   "outputs": [],
   "source": [
    "cbd.process_chessboard(\"images/board/test08.jpeg\",\"images/demo5/\",\"box\",True)"
   ]
  },
  {
   "cell_type": "markdown",
   "id": "438bd6b1-0013-4f65-8501-25c3f245eaba",
   "metadata": {},
   "source": [
    "## Checking the ACCURACY of OCCUPANCY Detector"
   ]
  },
  {
   "cell_type": "code",
   "execution_count": 4,
   "id": "840f4f09",
   "metadata": {},
   "outputs": [
    {
     "name": "stdout",
     "output_type": "stream",
     "text": [
      "Trying different thresholds...\n"
     ]
    },
    {
     "ename": "KeyboardInterrupt",
     "evalue": "",
     "output_type": "error",
     "traceback": [
      "\u001b[0;31m---------------------------------------------------------------------------\u001b[0m",
      "\u001b[0;31mKeyboardInterrupt\u001b[0m                         Traceback (most recent call last)",
      "Cell \u001b[0;32mIn[4], line 36\u001b[0m\n\u001b[1;32m     33\u001b[0m \u001b[38;5;28;01mfor\u001b[39;00m std_thresh \u001b[38;5;129;01min\u001b[39;00m \u001b[38;5;28mrange\u001b[39m(\u001b[38;5;241m0\u001b[39m, \u001b[38;5;241m1000\u001b[39m, \u001b[38;5;241m5\u001b[39m):\n\u001b[1;32m     34\u001b[0m     \u001b[38;5;28;01mfor\u001b[39;00m edge_thresh \u001b[38;5;129;01min\u001b[39;00m \u001b[38;5;28mrange\u001b[39m(\u001b[38;5;241m0\u001b[39m, \u001b[38;5;241m2000\u001b[39m, \u001b[38;5;241m10\u001b[39m):\n\u001b[1;32m     35\u001b[0m         predicted_labels \u001b[38;5;241m=\u001b[39m [\n\u001b[0;32m---> 36\u001b[0m             \u001b[38;5;241m1\u001b[39m \u001b[38;5;28;01mif\u001b[39;00m \u001b[43mis_occupied\u001b[49m\u001b[43m(\u001b[49m\u001b[43mimg\u001b[49m\u001b[43m,\u001b[49m\u001b[43m \u001b[49m\u001b[43mstd_thresh\u001b[49m\u001b[43m,\u001b[49m\u001b[43m \u001b[49m\u001b[43medge_thresh\u001b[49m\u001b[43m)\u001b[49m \u001b[38;5;28;01melse\u001b[39;00m \u001b[38;5;241m0\u001b[39m\n\u001b[1;32m     37\u001b[0m             \u001b[38;5;28;01mfor\u001b[39;00m img \u001b[38;5;129;01min\u001b[39;00m images\n\u001b[1;32m     38\u001b[0m         ]\n\u001b[1;32m     39\u001b[0m         acc \u001b[38;5;241m=\u001b[39m accuracy_score(actual_labels, predicted_labels)\n\u001b[1;32m     41\u001b[0m         \u001b[38;5;28;01mif\u001b[39;00m acc \u001b[38;5;241m>\u001b[39m best_acc:\n",
      "Cell \u001b[0;32mIn[4], line 8\u001b[0m, in \u001b[0;36mis_occupied\u001b[0;34m(img, std_thresh, edge_thresh)\u001b[0m\n\u001b[1;32m      7\u001b[0m \u001b[38;5;28;01mdef\u001b[39;00m \u001b[38;5;21mis_occupied\u001b[39m(img, std_thresh, edge_thresh):\n\u001b[0;32m----> 8\u001b[0m     std_dev \u001b[38;5;241m=\u001b[39m \u001b[43mnp\u001b[49m\u001b[38;5;241;43m.\u001b[39;49m\u001b[43mstd\u001b[49m\u001b[43m(\u001b[49m\u001b[43mimg\u001b[49m\u001b[43m)\u001b[49m\n\u001b[1;32m      9\u001b[0m     edges \u001b[38;5;241m=\u001b[39m cv2\u001b[38;5;241m.\u001b[39mCanny(img, edge_thresh \u001b[38;5;241m/\u001b[39m\u001b[38;5;241m/\u001b[39m \u001b[38;5;241m2\u001b[39m, edge_thresh)\n\u001b[1;32m     10\u001b[0m     edge_density \u001b[38;5;241m=\u001b[39m np\u001b[38;5;241m.\u001b[39msum(edges \u001b[38;5;241m>\u001b[39m \u001b[38;5;241m0\u001b[39m) \u001b[38;5;241m/\u001b[39m img\u001b[38;5;241m.\u001b[39msize\n",
      "File \u001b[0;32m/usr/lib/python3/dist-packages/numpy/core/fromnumeric.py:3645\u001b[0m, in \u001b[0;36mstd\u001b[0;34m(a, axis, dtype, out, ddof, keepdims, where)\u001b[0m\n\u001b[1;32m   3642\u001b[0m     \u001b[38;5;28;01melse\u001b[39;00m:\n\u001b[1;32m   3643\u001b[0m         \u001b[38;5;28;01mreturn\u001b[39;00m std(axis\u001b[38;5;241m=\u001b[39maxis, dtype\u001b[38;5;241m=\u001b[39mdtype, out\u001b[38;5;241m=\u001b[39mout, ddof\u001b[38;5;241m=\u001b[39mddof, \u001b[38;5;241m*\u001b[39m\u001b[38;5;241m*\u001b[39mkwargs)\n\u001b[0;32m-> 3645\u001b[0m \u001b[38;5;28;01mreturn\u001b[39;00m \u001b[43m_methods\u001b[49m\u001b[38;5;241;43m.\u001b[39;49m\u001b[43m_std\u001b[49m\u001b[43m(\u001b[49m\u001b[43ma\u001b[49m\u001b[43m,\u001b[49m\u001b[43m \u001b[49m\u001b[43maxis\u001b[49m\u001b[38;5;241;43m=\u001b[39;49m\u001b[43maxis\u001b[49m\u001b[43m,\u001b[49m\u001b[43m \u001b[49m\u001b[43mdtype\u001b[49m\u001b[38;5;241;43m=\u001b[39;49m\u001b[43mdtype\u001b[49m\u001b[43m,\u001b[49m\u001b[43m \u001b[49m\u001b[43mout\u001b[49m\u001b[38;5;241;43m=\u001b[39;49m\u001b[43mout\u001b[49m\u001b[43m,\u001b[49m\u001b[43m \u001b[49m\u001b[43mddof\u001b[49m\u001b[38;5;241;43m=\u001b[39;49m\u001b[43mddof\u001b[49m\u001b[43m,\u001b[49m\n\u001b[1;32m   3646\u001b[0m \u001b[43m                     \u001b[49m\u001b[38;5;241;43m*\u001b[39;49m\u001b[38;5;241;43m*\u001b[39;49m\u001b[43mkwargs\u001b[49m\u001b[43m)\u001b[49m\n",
      "File \u001b[0;32m/usr/lib/python3/dist-packages/numpy/core/_methods.py:206\u001b[0m, in \u001b[0;36m_std\u001b[0;34m(a, axis, dtype, out, ddof, keepdims, where)\u001b[0m\n\u001b[1;32m    204\u001b[0m \u001b[38;5;28;01mdef\u001b[39;00m \u001b[38;5;21m_std\u001b[39m(a, axis\u001b[38;5;241m=\u001b[39m\u001b[38;5;28;01mNone\u001b[39;00m, dtype\u001b[38;5;241m=\u001b[39m\u001b[38;5;28;01mNone\u001b[39;00m, out\u001b[38;5;241m=\u001b[39m\u001b[38;5;28;01mNone\u001b[39;00m, ddof\u001b[38;5;241m=\u001b[39m\u001b[38;5;241m0\u001b[39m, keepdims\u001b[38;5;241m=\u001b[39m\u001b[38;5;28;01mFalse\u001b[39;00m, \u001b[38;5;241m*\u001b[39m,\n\u001b[1;32m    205\u001b[0m          where\u001b[38;5;241m=\u001b[39m\u001b[38;5;28;01mTrue\u001b[39;00m):\n\u001b[0;32m--> 206\u001b[0m     ret \u001b[38;5;241m=\u001b[39m \u001b[43m_var\u001b[49m\u001b[43m(\u001b[49m\u001b[43ma\u001b[49m\u001b[43m,\u001b[49m\u001b[43m \u001b[49m\u001b[43maxis\u001b[49m\u001b[38;5;241;43m=\u001b[39;49m\u001b[43maxis\u001b[49m\u001b[43m,\u001b[49m\u001b[43m \u001b[49m\u001b[43mdtype\u001b[49m\u001b[38;5;241;43m=\u001b[39;49m\u001b[43mdtype\u001b[49m\u001b[43m,\u001b[49m\u001b[43m \u001b[49m\u001b[43mout\u001b[49m\u001b[38;5;241;43m=\u001b[39;49m\u001b[43mout\u001b[49m\u001b[43m,\u001b[49m\u001b[43m \u001b[49m\u001b[43mddof\u001b[49m\u001b[38;5;241;43m=\u001b[39;49m\u001b[43mddof\u001b[49m\u001b[43m,\u001b[49m\n\u001b[1;32m    207\u001b[0m \u001b[43m               \u001b[49m\u001b[43mkeepdims\u001b[49m\u001b[38;5;241;43m=\u001b[39;49m\u001b[43mkeepdims\u001b[49m\u001b[43m,\u001b[49m\u001b[43m \u001b[49m\u001b[43mwhere\u001b[49m\u001b[38;5;241;43m=\u001b[39;49m\u001b[43mwhere\u001b[49m\u001b[43m)\u001b[49m\n\u001b[1;32m    209\u001b[0m     \u001b[38;5;28;01mif\u001b[39;00m \u001b[38;5;28misinstance\u001b[39m(ret, mu\u001b[38;5;241m.\u001b[39mndarray):\n\u001b[1;32m    210\u001b[0m         ret \u001b[38;5;241m=\u001b[39m um\u001b[38;5;241m.\u001b[39msqrt(ret, out\u001b[38;5;241m=\u001b[39mret)\n",
      "File \u001b[0;32m/usr/lib/python3/dist-packages/numpy/core/_methods.py:173\u001b[0m, in \u001b[0;36m_var\u001b[0;34m(a, axis, dtype, out, ddof, keepdims, where)\u001b[0m\n\u001b[1;32m    168\u001b[0m     arrmean \u001b[38;5;241m=\u001b[39m arrmean \u001b[38;5;241m/\u001b[39m rcount\n\u001b[1;32m    170\u001b[0m \u001b[38;5;66;03m# Compute sum of squared deviations from mean\u001b[39;00m\n\u001b[1;32m    171\u001b[0m \u001b[38;5;66;03m# Note that x may not be inexact and that we need it to be an array,\u001b[39;00m\n\u001b[1;32m    172\u001b[0m \u001b[38;5;66;03m# not a scalar.\u001b[39;00m\n\u001b[0;32m--> 173\u001b[0m x \u001b[38;5;241m=\u001b[39m \u001b[43masanyarray\u001b[49m\u001b[43m(\u001b[49m\u001b[43marr\u001b[49m\u001b[43m \u001b[49m\u001b[38;5;241;43m-\u001b[39;49m\u001b[43m \u001b[49m\u001b[43marrmean\u001b[49m\u001b[43m)\u001b[49m\n\u001b[1;32m    175\u001b[0m \u001b[38;5;28;01mif\u001b[39;00m \u001b[38;5;28missubclass\u001b[39m(arr\u001b[38;5;241m.\u001b[39mdtype\u001b[38;5;241m.\u001b[39mtype, (nt\u001b[38;5;241m.\u001b[39mfloating, nt\u001b[38;5;241m.\u001b[39minteger)):\n\u001b[1;32m    176\u001b[0m     x \u001b[38;5;241m=\u001b[39m um\u001b[38;5;241m.\u001b[39mmultiply(x, x, out\u001b[38;5;241m=\u001b[39mx)\n",
      "\u001b[0;31mKeyboardInterrupt\u001b[0m: "
     ]
    }
   ],
   "source": [
    "import os\n",
    "import cv2\n",
    "import numpy as np\n",
    "from sklearn.metrics import accuracy_score\n",
    "\n",
    "# === Rule-based occupancy detector ===\n",
    "def is_occupied(img, std_thresh, edge_thresh):\n",
    "    std_dev = np.std(img)\n",
    "    edges = cv2.Canny(img, edge_thresh // 2, edge_thresh)\n",
    "    edge_density = np.sum(edges > 0) / img.size\n",
    "    return std_dev > std_thresh and edge_density > 0.02\n",
    "\n",
    "# === Load data and actual labels from filenames ===\n",
    "folder = \"images/demo5\"\n",
    "images = []\n",
    "actual_labels = []\n",
    "filenames = []\n",
    "\n",
    "for filename in os.listdir(folder):\n",
    "    if filename.endswith(\".jpg\") or filename.endswith(\".png\"):\n",
    "        file_path = os.path.join(folder, filename)\n",
    "        img = cv2.imread(file_path, cv2.IMREAD_GRAYSCALE)\n",
    "        images.append(img)\n",
    "        actual_labels.append(1 if \"true\" in filename else 0)\n",
    "        filenames.append(filename)\n",
    "\n",
    "# === Try various combinations of thresholds ===\n",
    "best_acc = 0\n",
    "best_params = (0, 0)\n",
    "best_predictions = []\n",
    "\n",
    "print(\"Trying different thresholds...\")\n",
    "for std_thresh in range(0, 1000, 5):\n",
    "    for edge_thresh in range(0, 2000, 10):\n",
    "        predicted_labels = [\n",
    "            1 if is_occupied(img, std_thresh, edge_thresh) else 0\n",
    "            for img in images\n",
    "        ]\n",
    "        acc = accuracy_score(actual_labels, predicted_labels)\n",
    "        \n",
    "        if acc > best_acc:\n",
    "            best_acc = acc\n",
    "            best_params = (std_thresh, edge_thresh)\n",
    "            best_predictions = predicted_labels.copy()\n",
    "\n",
    "# === Output best result summary ===\n",
    "print(f\"\\nBest Accuracy: {best_acc:.4f}\")\n",
    "print(f\"Optimal std_thresh: {best_params[0]}, edge_thresh: {best_params[1]}\")\n",
    "print(\"\\nStatus\\t\\tActual\\tPredicted\\tFilename\")\n",
    "\n",
    "for actual, predicted, fname in zip(actual_labels, best_predictions, filenames):\n",
    "    status = \"Correct\" if actual == predicted else \"Wrong\"\n",
    "    print(f\"{status}\\t\\t{actual}\\t{predicted}\\t\\t{fname}\")\n",
    "\n"
   ]
  },
  {
   "cell_type": "code",
   "execution_count": 15,
   "id": "2fd9c07f-6d08-4036-a35f-bc2c12fc595f",
   "metadata": {},
   "outputs": [],
   "source": [
    "TP = 0 # True Positives: Actual 1 and Pred 1\n",
    "FP = 0 # False Positives: Actual 0 but Pred 1\n",
    "FN = 0 # False Negatives: Actual 1 but Pred 0\n",
    "TN = 0 # True Negatives: Actual 0 and Pred 0"
   ]
  },
  {
   "cell_type": "code",
   "execution_count": 16,
   "id": "bd20fccb-8c17-4a32-8005-92dabe198884",
   "metadata": {
    "scrolled": true
   },
   "outputs": [
    {
     "name": "stdout",
     "output_type": "stream",
     "text": [
      "32\n"
     ]
    }
   ],
   "source": [
    "count = 0\n",
    "for i in actual_labels:\n",
    "    count+=1 if i==1 else 0\n",
    "\n",
    "print(count)"
   ]
  },
  {
   "cell_type": "code",
   "execution_count": 17,
   "id": "000332c8-16bd-42f9-8513-04657c6b40ef",
   "metadata": {},
   "outputs": [
    {
     "data": {
      "text/plain": [
       "64"
      ]
     },
     "execution_count": 17,
     "metadata": {},
     "output_type": "execute_result"
    }
   ],
   "source": [
    "len(actual_labels)"
   ]
  },
  {
   "cell_type": "code",
   "execution_count": 18,
   "id": "fda9a97c-d020-4f4e-bd4a-d95e8214517d",
   "metadata": {},
   "outputs": [
    {
     "name": "stdout",
     "output_type": "stream",
     "text": [
      "32\n"
     ]
    }
   ],
   "source": [
    "count = 0\n",
    "# for i in predicted_labels:\n",
    "for i in best_predictions:\n",
    "    count+=1 if i==1 else 0\n",
    "\n",
    "print(count)"
   ]
  },
  {
   "cell_type": "code",
   "execution_count": 19,
   "id": "74e56d0a-ee2b-4fcf-8b87-bb31bc3d4276",
   "metadata": {},
   "outputs": [],
   "source": [
    "for i in range(64):\n",
    "    TP+=1 if actual_labels[i]==1 and best_predictions[i]==1 else 0\n",
    "    FP+=1 if actual_labels[i]==0 and best_predictions[i]==1 else 0\n",
    "    FN+=1 if actual_labels[i]==1 and best_predictions[i]==0 else 0\n",
    "    TN+=1 if actual_labels[i]==0 and best_predictions[i]==0 else 0"
   ]
  },
  {
   "cell_type": "code",
   "execution_count": 20,
   "id": "f7223c39-b740-4fbe-8dca-6fa5967369c3",
   "metadata": {},
   "outputs": [
    {
     "data": {
      "text/plain": [
       "0.8125"
      ]
     },
     "execution_count": 20,
     "metadata": {},
     "output_type": "execute_result"
    }
   ],
   "source": [
    "from sklearn.metrics import accuracy_score\n",
    "y_pred = [0, 2, 1, 3]\n",
    "y_true = [0, 1, 2, 3]\n",
    "accuracy_score(actual_labels, best_predictions)"
   ]
  },
  {
   "cell_type": "code",
   "execution_count": 21,
   "id": "f4e1ed09-6d09-47a4-a0aa-9711cd8411b5",
   "metadata": {},
   "outputs": [
    {
     "name": "stdout",
     "output_type": "stream",
     "text": [
      "Accuracy = 0.8125\n"
     ]
    }
   ],
   "source": [
    "print(f\"Accuracy = {(TP+TN)/(TP+TN+FN+FP)}\")"
   ]
  },
  {
   "cell_type": "markdown",
   "id": "6c098139",
   "metadata": {},
   "source": [
    "For now, the board is at the initial position. With every next move, the board's position will change, and thus will the board matrix. Also, the board matrix needs to be converted to FEN for the UI."
   ]
  },
  {
   "cell_type": "code",
   "execution_count": 22,
   "id": "21766744",
   "metadata": {},
   "outputs": [],
   "source": [
    "board_matrix = [\n",
    "    [\"r\", \"n\", \"b\", \"q\", \"k\", \"b\", \"n\", \"r\"],\n",
    "    [\"p\"] * 8,\n",
    "    [\"\"] * 8,\n",
    "    [\"\"] * 8,\n",
    "    [\"\"] * 8,\n",
    "    [\"\"] * 8,\n",
    "    [\"P\"] * 8,\n",
    "    [\"R\", \"N\", \"B\", \"Q\", \"K\", \"B\", \"N\", \"R\"]\n",
    "]"
   ]
  },
  {
   "cell_type": "code",
   "execution_count": 23,
   "id": "8d48152f",
   "metadata": {},
   "outputs": [],
   "source": [
    "def board_matrix_to_fen(board_matrix):\n",
    "    fen_rows = []\n",
    "    \n",
    "    for row in board_matrix:\n",
    "        fen_row = \"\"\n",
    "        empty_count = 0\n",
    "        \n",
    "        for cell in row:\n",
    "            if cell == \"\":\n",
    "                empty_count += 1\n",
    "            else:\n",
    "                if empty_count > 0:\n",
    "                    fen_row += str(empty_count)\n",
    "                    empty_count = 0\n",
    "                fen_row += cell\n",
    "        if empty_count > 0:\n",
    "            fen_row += str(empty_count)\n",
    "        \n",
    "        fen_rows.append(fen_row)\n",
    "    \n",
    "    # Join all rows with \"/\" and add standard placeholders for FEN (assuming starting position)\n",
    "    fen_position = \"/\".join(fen_rows)\n",
    "    fen = f\"{fen_position} w KQkq - 0 1\"\n",
    "    return fen\n"
   ]
  },
  {
   "cell_type": "code",
   "execution_count": 24,
   "id": "b7435aae",
   "metadata": {},
   "outputs": [
    {
     "name": "stdout",
     "output_type": "stream",
     "text": [
      "rnbqkbnr/pppppppp/8/8/8/8/PPPPPPPP/RNBQKBNR w KQkq - 0 1\n"
     ]
    }
   ],
   "source": [
    "print(board_matrix_to_fen(board_matrix))"
   ]
  },
  {
   "cell_type": "code",
   "execution_count": 1,
   "id": "cebda1ad",
   "metadata": {},
   "outputs": [],
   "source": [
    "import chess\n",
    "\n",
    "def generate_legal_fens(fen):\n",
    "    board = chess.Board(fen)\n",
    "    legal_fens = []\n",
    "\n",
    "    for move in board.legal_moves:\n",
    "        board.push(move)\n",
    "        legal_fens.append(board.fen())\n",
    "        board.pop()\n",
    "\n",
    "    return legal_fens\n",
    "\n",
    "# Example usage\n",
    "# if __name__ == \"__main__\":\n",
    "#     input_fen = \"r1bqkbnr/pppppppp/n7/8/8/5N2/PPPPPPPP/RNBQKB1R w KQkq - 2 2\"  # You can replace this with any valid FEN\n",
    "#     result = generate_legal_fens(input_fen)\n",
    "\n",
    "#     print(f\"Legal FENs from position: {input_fen}\")\n",
    "#     for i, fen in enumerate(result, 1):\n",
    "#         print(f\"{i}. {fen}\")"
   ]
  },
  {
   "cell_type": "code",
   "execution_count": null,
   "id": "ff5ed676",
   "metadata": {},
   "outputs": [],
   "source": []
  }
 ],
 "metadata": {
  "kernelspec": {
   "display_name": "Python 3 (ipykernel)",
   "language": "python",
   "name": "python3"
  },
  "language_info": {
   "codemirror_mode": {
    "name": "ipython",
    "version": 3
   },
   "file_extension": ".py",
   "mimetype": "text/x-python",
   "name": "python",
   "nbconvert_exporter": "python",
   "pygments_lexer": "ipython3",
   "version": "3.12.3"
  }
 },
 "nbformat": 4,
 "nbformat_minor": 5
}
